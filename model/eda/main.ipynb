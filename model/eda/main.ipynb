{
 "cells": [
  {
   "cell_type": "code",
   "execution_count": 1,
   "metadata": {},
   "outputs": [],
   "source": [
    "import pandas as pd"
   ]
  },
  {
   "cell_type": "code",
   "execution_count": 2,
   "metadata": {},
   "outputs": [],
   "source": [
    "df = pd.read_csv('C:/develop/Fishing_team/data/dataset.csv')\n",
    "df['datetime'] = pd.to_datetime(df['datetime'])"
   ]
  },
  {
   "cell_type": "code",
   "execution_count": 18,
   "metadata": {},
   "outputs": [
    {
     "data": {
      "text/plain": [
       "oper_type\n",
       "payment             13204\n",
       "transfer             8826\n",
       "diff_cntry           4204\n",
       "country_transfer     4155\n",
       "in_acc               2769\n",
       "decrease_on_acc      2665\n",
       "in                   2657\n",
       "from_acc             2595\n",
       "out                  2587\n",
       "add_on_acc           2515\n",
       "bad                  2350\n",
       "err_code             2312\n",
       "err                  2238\n",
       "blk                     1\n",
       "blocked                 1\n",
       "Name: count, dtype: int64"
      ]
     },
     "execution_count": 18,
     "metadata": {},
     "output_type": "execute_result"
    }
   ],
   "source": [
    "df['oper_type'].value_counts()"
   ]
  },
  {
   "cell_type": "code",
   "execution_count": null,
   "metadata": {},
   "outputs": [],
   "source": [
    "payment, transfer, diff_country, in_acc, decrease_on_acc, from_acc, bad, err_code, out(в случае неудачи)"
   ]
  }
 ],
 "metadata": {
  "kernelspec": {
   "display_name": "venv",
   "language": "python",
   "name": "python3"
  },
  "language_info": {
   "codemirror_mode": {
    "name": "ipython",
    "version": 3
   },
   "file_extension": ".py",
   "mimetype": "text/x-python",
   "name": "python",
   "nbconvert_exporter": "python",
   "pygments_lexer": "ipython3",
   "version": "3.10.11"
  }
 },
 "nbformat": 4,
 "nbformat_minor": 2
}
