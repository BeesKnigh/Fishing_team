{
 "cells": [
  {
   "cell_type": "code",
   "execution_count": null,
   "metadata": {},
   "outputs": [],
   "source": [
    "import pandas as pd\n",
    "import matplotlib.pyplot as plt\n"
   ]
  },
  {
   "cell_type": "code",
   "execution_count": null,
   "metadata": {},
   "outputs": [],
   "source": [
    "df = pd.read_csv('C:\\develop\\Fishing_team\\data\\dataset.csv')"
   ]
  },
  {
   "cell_type": "code",
   "execution_count": null,
   "metadata": {},
   "outputs": [],
   "source": [
    "transaction_counts = df.groupby('client_id').size()"
   ]
  },
  {
   "cell_type": "code",
   "execution_count": null,
   "metadata": {},
   "outputs": [],
   "source": [
    "# 1. График \"Сколько в среднем записей на одного пользователя\"\n",
    "avg_transactions_per_user = transaction_counts.mean()\n",
    "print(f'Среднее количество транзакций на пользователя: {avg_transactions_per_user}')\n",
    "\n",
    "plt.figure(figsize=(10, 6))\n",
    "transaction_counts.hist(bins=30)\n",
    "plt.title('Распределение количества транзакций на пользователя')\n",
    "plt.xlabel('Количество транзакций')\n",
    "plt.ylabel('Количество пользователей')\n",
    "plt.show()"
   ]
  },
  {
   "cell_type": "code",
   "execution_count": null,
   "metadata": {},
   "outputs": [],
   "source": [
    "user_counts = transaction_counts.value_counts()\n",
    "\n",
    "# Строим столбчатую диаграмму\n",
    "plt.figure(figsize=(10, 6))\n",
    "user_counts.sort_index().plot(kind='bar')\n",
    "plt.title('Количество пользователей по количеству транзакций')\n",
    "plt.xlabel('Количество транзакций')\n",
    "plt.ylabel('Количество пользователей')\n",
    "plt.show()\n",
    "\n",
    "# Сколько пользователей с 1 и 2 и более транзакциями\n",
    "one_transaction_users = (transaction_counts == 1).sum()\n",
    "two_or_more_transaction_users = (transaction_counts >= 2).sum()\n",
    "\n",
    "print(f'Количество пользователей с одной транзакцией: {one_transaction_users}')\n",
    "print(f'Количество пользователей с 2 и более транзакциями: {two_or_more_transaction_users}')"
   ]
  }
 ],
 "metadata": {
  "kernelspec": {
   "display_name": "venv",
   "language": "python",
   "name": "python3"
  },
  "language_info": {
   "codemirror_mode": {
    "name": "ipython",
    "version": 3
   },
   "file_extension": ".py",
   "mimetype": "text/x-python",
   "name": "python",
   "nbconvert_exporter": "python",
   "pygments_lexer": "ipython3",
   "version": "3.10.11"
  }
 },
 "nbformat": 4,
 "nbformat_minor": 2
}
