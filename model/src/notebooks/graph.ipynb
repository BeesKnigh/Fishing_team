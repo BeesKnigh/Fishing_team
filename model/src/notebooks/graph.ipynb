{
 "cells": [
  {
   "cell_type": "code",
   "execution_count": null,
   "metadata": {},
   "outputs": [],
   "source": [
    "import pandas as pd\n",
    "import matplotlib.pyplot as plt\n"
   ]
  },
  {
   "cell_type": "code",
   "execution_count": 1,
   "metadata": {},
   "outputs": [
    {
     "name": "stdout",
     "output_type": "stream",
     "text": [
      "Unnamed: 0           int64\n",
      "transaction_id       int64\n",
      "ip                  object\n",
      "device_id          float64\n",
      "device_type         object\n",
      "tran_code            int64\n",
      "mcc                  int64\n",
      "client_id            int64\n",
      "card_type           object\n",
      "pin_inc_count        int64\n",
      "card_status         object\n",
      "expiration_date     object\n",
      "datetime            object\n",
      "sum                float64\n",
      "oper_type           object\n",
      "balance            float64\n",
      "dtype: object\n"
     ]
    }
   ],
   "source": [
    "import pandas as pd\n",
    "\n",
    "# Загрузка данных\n",
    "file_path = r'C:/develop/Fishing_team/data/dataset.csv'\n",
    "df = pd.read_csv(file_path)\n",
    "\n",
    "# Вывод заголовков и типов данных\n",
    "print(df.dtypes)\n"
   ]
  },
  {
   "cell_type": "code",
   "execution_count": null,
   "metadata": {},
   "outputs": [],
   "source": [
    "df = pd.read_csv('C:\\develop\\Fishing_team\\data\\dataset.csv')"
   ]
  },
  {
   "cell_type": "code",
   "execution_count": null,
   "metadata": {},
   "outputs": [],
   "source": [
    "transaction_counts = df.groupby('client_id').size()"
   ]
  },
  {
   "cell_type": "code",
   "execution_count": null,
   "metadata": {},
   "outputs": [],
   "source": [
    "# 1. График \"Сколько в среднем записей на одного пользователя\"\n",
    "avg_transactions_per_user = transaction_counts.mean()\n",
    "print(f'Среднее количество транзакций на пользователя: {avg_transactions_per_user}')\n",
    "\n",
    "plt.figure(figsize=(10, 6))\n",
    "transaction_counts.hist(bins=30)\n",
    "plt.title('Распределение количества транзакций на пользователя')\n",
    "plt.xlabel('Количество транзакций')\n",
    "plt.ylabel('Количество пользователей')\n",
    "plt.show()"
   ]
  },
  {
   "cell_type": "code",
   "execution_count": null,
   "metadata": {},
   "outputs": [],
   "source": [
    "user_counts = transaction_counts.value_counts()\n",
    "\n",
    "# Строим столбчатую диаграмму\n",
    "plt.figure(figsize=(10, 6))\n",
    "user_counts.sort_index().plot(kind='bar')\n",
    "plt.title('Количество пользователей по количеству транзакций')\n",
    "plt.xlabel('Количество транзакций')\n",
    "plt.ylabel('Количество пользователей')\n",
    "plt.show()\n",
    "\n",
    "# Сколько пользователей с 1 и 2 и более транзакциями\n",
    "one_transaction_users = (transaction_counts == 1).sum()\n",
    "two_or_more_transaction_users = (transaction_counts >= 2).sum()\n",
    "\n",
    "print(f'Количество пользователей с одной транзакцией: {one_transaction_users}')\n",
    "print(f'Количество пользователей с 2 и более транзакциями: {two_or_more_transaction_users}')"
   ]
  }
 ],
 "metadata": {
  "kernelspec": {
   "display_name": "venv",
   "language": "python",
   "name": "python3"
  },
  "language_info": {
   "codemirror_mode": {
    "name": "ipython",
    "version": 3
   },
   "file_extension": ".py",
   "mimetype": "text/x-python",
   "name": "python",
   "nbconvert_exporter": "python",
   "pygments_lexer": "ipython3",
   "version": "3.10.11"
  }
 },
 "nbformat": 4,
 "nbformat_minor": 2
}
