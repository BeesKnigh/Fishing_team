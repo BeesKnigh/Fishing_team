{
 "cells": [
  {
   "cell_type": "code",
   "execution_count": 1,
   "metadata": {},
   "outputs": [],
   "source": [
    "import pandas as pd\n",
    "import numpy as np\n",
    "from sklearn.preprocessing import StandardScaler\n",
    "from sklearn.model_selection import train_test_split\n",
    "from sklearn.preprocessing import LabelEncoder\n",
    "import tensorflow as tf\n",
    "from tensorflow.keras.models import Sequential\n",
    "from tensorflow.keras.layers import LSTM, Dense, Dropout, BatchNormalization\n",
    "from tensorflow.keras.callbacks import EarlyStopping\n",
    "from tensorflow.keras import regularizers\n",
    "import matplotlib.pyplot as plt"
   ]
  },
  {
   "cell_type": "code",
   "execution_count": 2,
   "metadata": {},
   "outputs": [],
   "source": [
    "df = pd.read_csv('C:/develop/Fishing_team/data/dataset.csv')\n",
    "df['datetime'] = pd.to_datetime(df['datetime'])"
   ]
  },
  {
   "cell_type": "code",
   "execution_count": 3,
   "metadata": {},
   "outputs": [
    {
     "data": {
      "text/plain": [
       "card_status\n",
       "active     27451\n",
       "act        25539\n",
       "blk           48\n",
       "blocked       41\n",
       "Name: count, dtype: int64"
      ]
     },
     "execution_count": 3,
     "metadata": {},
     "output_type": "execute_result"
    }
   ],
   "source": [
    "df['card_status'].value_counts()"
   ]
  },
  {
   "cell_type": "code",
   "execution_count": null,
   "metadata": {},
   "outputs": [],
   "source": [
    "df = df.drop(columns=['Unnamed: 0', 'transaction_id', 'ip', 'mcc', 'card_type', 'expiration_date'])"
   ]
  },
  {
   "cell_type": "code",
   "execution_count": 5,
   "metadata": {},
   "outputs": [],
   "source": [
    "df['time_diff'] = df.groupby('client_id')['datetime'].diff().fillna(pd.Timedelta(0))\n",
    "df['time_diff'] = df['time_diff'].dt.total_seconds()"
   ]
  },
  {
   "cell_type": "code",
   "execution_count": 6,
   "metadata": {},
   "outputs": [],
   "source": [
    "df['card_status'] = df['card_status'].map({'active': 0, 'act': 0, 'blocked': 1, 'blk': 1})"
   ]
  },
  {
   "cell_type": "code",
   "execution_count": 7,
   "metadata": {},
   "outputs": [],
   "source": [
    "categorical_columns = ['device_type', 'tran_code', 'oper_type', 'card_status']\n",
    "le = LabelEncoder()\n",
    "for col in categorical_columns:\n",
    "    df[col] = le.fit_transform(df[col])"
   ]
  },
  {
   "cell_type": "code",
   "execution_count": 8,
   "metadata": {},
   "outputs": [],
   "source": [
    "numeric_columns = ['device_id', 'pin_inc_count', 'sum', 'balance']\n",
    "scaler = StandardScaler()\n",
    "df[numeric_columns] = scaler.fit_transform(df[numeric_columns])"
   ]
  },
  {
   "cell_type": "code",
   "execution_count": 9,
   "metadata": {},
   "outputs": [],
   "source": [
    "df = df.sort_values(by=['client_id', 'datetime'])"
   ]
  },
  {
   "cell_type": "code",
   "execution_count": 10,
   "metadata": {},
   "outputs": [
    {
     "name": "stdout",
     "output_type": "stream",
     "text": [
      "      device_id  device_type  tran_code  client_id  pin_inc_count  \\\n",
      "6351  -0.886258            2          1  101648380      -0.364263   \n",
      "6352  -0.843944            0          5  101648380      -0.364263   \n",
      "6353  -1.358762            6          5  101648380      -0.364263   \n",
      "6354   1.579697            2          1  101648380      -0.364263   \n",
      "6355   1.081334            4          2  101648380      -0.364263   \n",
      "\n",
      "      card_status            datetime       sum  oper_type   balance  \\\n",
      "6351            0 2022-02-09 17:50:08 -0.466816         11  1.023095   \n",
      "6352            0 2022-02-21 19:39:05 -0.467969         13  1.021239   \n",
      "6353            0 2022-03-15 04:35:03 -0.468374         13  1.019384   \n",
      "6354            0 2022-03-26 19:32:45 -0.467283         10  1.021241   \n",
      "6355            0 2022-04-16 02:54:10 -0.468280          5  1.019385   \n",
      "\n",
      "      time_diff  \n",
      "6351        0.0  \n",
      "6352  1043337.0  \n",
      "6353  1846558.0  \n",
      "6354  1004262.0  \n",
      "6355  1754485.0  \n"
     ]
    }
   ],
   "source": [
    "print(df.head())"
   ]
  },
  {
   "cell_type": "code",
   "execution_count": 11,
   "metadata": {},
   "outputs": [],
   "source": [
    "sequence_length = 10"
   ]
  },
  {
   "cell_type": "code",
   "execution_count": 12,
   "metadata": {},
   "outputs": [],
   "source": [
    "def create_sequences(df, sequence_length):\n",
    "    sequences = []\n",
    "    labels = []\n",
    "\n",
    "    for client_id, group in df.groupby('client_id'):\n",
    "        for i in range(len(group) - sequence_length):\n",
    "            sequence = group.iloc[i:i+sequence_length][numeric_columns + categorical_columns + ['time_diff']].values\n",
    "            label = group.iloc[i + sequence_length]['sum']  # Используем сумму как метку для аномалии (можно адаптировать под другие задачи)\n",
    "            sequences.append(sequence)\n",
    "            labels.append(label)\n",
    "    \n",
    "    return np.array(sequences), np.array(labels)"
   ]
  },
  {
   "cell_type": "code",
   "execution_count": 13,
   "metadata": {},
   "outputs": [],
   "source": [
    "X, y = create_sequences(df, sequence_length)"
   ]
  },
  {
   "cell_type": "code",
   "execution_count": 14,
   "metadata": {},
   "outputs": [],
   "source": [
    "X_train, X_test, y_train, y_test = train_test_split(X, y, test_size=0.2, random_state=42)"
   ]
  },
  {
   "cell_type": "code",
   "execution_count": null,
   "metadata": {},
   "outputs": [],
   "source": [
    "model = Sequential()"
   ]
  },
  {
   "cell_type": "code",
   "execution_count": null,
   "metadata": {},
   "outputs": [],
   "source": [
    "model = Sequential()\n",
    "model.add(LSTM(128, activation='relu', input_shape=(X_train.shape[1], X_train.shape[2]), return_sequences=True,\n",
    "               kernel_regularizer=regularizers.l2(0.01)))\n",
    "model.add(BatchNormalization())\n",
    "model.add(Dropout(0.3))\n",
    "\n",
    "# Добавляем второй LSTM слой\n",
    "model.add(LSTM(64, activation='relu', return_sequences=True, kernel_regularizer=regularizers.l2(0.01)))\n",
    "model.add(BatchNormalization())\n",
    "model.add(Dropout(0.3))\n",
    "\n",
    "# Добавляем Dense слой\n",
    "model.add(Dense(32, activation='relu'))\n",
    "model.add(Dropout(0.3))\n",
    "\n",
    "# Добавляем выходной слой\n",
    "model.add(Dense(1))\n",
    "\n",
    "model.compile(optimizer='adam', loss='mse', metrics=['mse'])\n"
   ]
  },
  {
   "cell_type": "code",
   "execution_count": null,
   "metadata": {},
   "outputs": [],
   "source": [
    "import pandas as pd\n",
    "import numpy as np\n",
    "from sklearn.preprocessing import StandardScaler\n",
    "from sklearn.model_selection import train_test_split\n",
    "from sklearn.preprocessing import LabelEncoder\n",
    "import tensorflow as tf\n",
    "from tensorflow.keras.models import Sequential\n",
    "from tensorflow.keras.layers import LSTM, Dense, Dropout, BatchNormalization\n",
    "from tensorflow.keras.callbacks import EarlyStopping\n",
    "from tensorflow.keras import regularizers\n",
    "import matplotlib.pyplot as plt"
   ]
  },
  {
   "cell_type": "code",
   "execution_count": null,
   "metadata": {},
   "outputs": [],
   "source": [
    "df = pd.read_csv('C:/develop/Fishing_team/data/dataset.csv')\n",
    "df['datetime'] = pd.to_datetime(df['datetime'])"
   ]
  },
  {
   "cell_type": "code",
   "execution_count": null,
   "metadata": {},
   "outputs": [
    {
     "data": {
      "text/plain": [
       "card_status\n",
       "active     27451\n",
       "act        25539\n",
       "blk           48\n",
       "blocked       41\n",
       "Name: count, dtype: int64"
      ]
     },
     "metadata": {},
     "output_type": "display_data"
    }
   ],
   "source": [
    "df['card_status'].value_counts()"
   ]
  },
  {
   "cell_type": "code",
   "execution_count": null,
   "metadata": {},
   "outputs": [],
   "source": [
    "df = df.drop(columns=['Unnamed: 0', 'transaction_id', 'ip', 'mcc', 'card_type', 'expiration_date'])"
   ]
  },
  {
   "cell_type": "code",
   "execution_count": null,
   "metadata": {},
   "outputs": [],
   "source": [
    "df['time_diff'] = df.groupby('client_id')['datetime'].diff().fillna(pd.Timedelta(0))\n",
    "df['time_diff'] = df['time_diff'].dt.total_seconds()"
   ]
  },
  {
   "cell_type": "code",
   "execution_count": null,
   "metadata": {},
   "outputs": [],
   "source": [
    "df['card_status'] = df['card_status'].map({'active': 0, 'act': 0, 'blocked': 1, 'blk': 1})"
   ]
  },
  {
   "cell_type": "code",
   "execution_count": null,
   "metadata": {},
   "outputs": [],
   "source": [
    "categorical_columns = ['device_type', 'tran_code', 'oper_type', 'card_status']\n",
    "le = LabelEncoder()\n",
    "for col in categorical_columns:\n",
    "    df[col] = le.fit_transform(df[col])"
   ]
  },
  {
   "cell_type": "code",
   "execution_count": null,
   "metadata": {},
   "outputs": [],
   "source": [
    "numeric_columns = ['device_id', 'pin_inc_count', 'sum', 'balance']\n",
    "scaler = StandardScaler()\n",
    "df[numeric_columns] = scaler.fit_transform(df[numeric_columns])"
   ]
  },
  {
   "cell_type": "code",
   "execution_count": null,
   "metadata": {},
   "outputs": [],
   "source": [
    "df = df.sort_values(by=['client_id', 'datetime'])"
   ]
  },
  {
   "cell_type": "code",
   "execution_count": null,
   "metadata": {},
   "outputs": [
    {
     "name": "stdout",
     "output_type": "stream",
     "text": [
      "      device_id  device_type  tran_code  client_id  pin_inc_count  \\\n",
      "6351  -0.886258            2          1  101648380      -0.364263   \n",
      "6352  -0.843944            0          5  101648380      -0.364263   \n",
      "6353  -1.358762            6          5  101648380      -0.364263   \n",
      "6354   1.579697            2          1  101648380      -0.364263   \n",
      "6355   1.081334            4          2  101648380      -0.364263   \n",
      "\n",
      "      card_status            datetime       sum  oper_type   balance  \\\n",
      "6351            0 2022-02-09 17:50:08 -0.466816         11  1.023095   \n",
      "6352            0 2022-02-21 19:39:05 -0.467969         13  1.021239   \n",
      "6353            0 2022-03-15 04:35:03 -0.468374         13  1.019384   \n",
      "6354            0 2022-03-26 19:32:45 -0.467283         10  1.021241   \n",
      "6355            0 2022-04-16 02:54:10 -0.468280          5  1.019385   \n",
      "\n",
      "      time_diff  \n",
      "6351        0.0  \n",
      "6352  1043337.0  \n",
      "6353  1846558.0  \n",
      "6354  1004262.0  \n",
      "6355  1754485.0  \n"
     ]
    }
   ],
   "source": [
    "print(df.head())"
   ]
  },
  {
   "cell_type": "code",
   "execution_count": null,
   "metadata": {},
   "outputs": [],
   "source": [
    "sequence_length = 10"
   ]
  },
  {
   "cell_type": "code",
   "execution_count": null,
   "metadata": {},
   "outputs": [],
   "source": [
    "def create_sequences(df, sequence_length):\n",
    "    sequences = []\n",
    "    labels = []\n",
    "\n",
    "    for client_id, group in df.groupby('client_id'):\n",
    "        for i in range(len(group) - sequence_length):\n",
    "            sequence = group.iloc[i:i+sequence_length][numeric_columns + categorical_columns + ['time_diff']].values\n",
    "            label = group.iloc[i + sequence_length]['sum']  # Используем сумму как метку для аномалии (можно адаптировать под другие задачи)\n",
    "            sequences.append(sequence)\n",
    "            labels.append(label)\n",
    "    \n",
    "    return np.array(sequences), np.array(labels)"
   ]
  },
  {
   "cell_type": "code",
   "execution_count": null,
   "metadata": {},
   "outputs": [],
   "source": [
    "X, y = create_sequences(df, sequence_length)"
   ]
  },
  {
   "cell_type": "code",
   "execution_count": null,
   "metadata": {},
   "outputs": [],
   "source": [
    "X_train, X_test, y_train, y_test = train_test_split(X, y, test_size=0.2, random_state=42)"
   ]
  },
  {
   "cell_type": "code",
   "execution_count": null,
   "metadata": {},
   "outputs": [],
   "source": [
    "model = Sequential()"
   ]
  },
  {
   "cell_type": "code",
   "execution_count": null,
   "metadata": {},
   "outputs": [],
   "source": [
    "model = Sequential()\n",
    "model.add(LSTM(128, activation='relu', input_shape=(X_train.shape[1], X_train.shape[2]), return_sequences=True,\n",
    "               kernel_regularizer=regularizers.l2(0.01)))\n",
    "model.add(BatchNormalization())\n",
    "model.add(Dropout(0.3))\n",
    "\n",
    "# Добавляем второй LSTM слой\n",
    "model.add(LSTM(64, activation='relu', return_sequences=True, kernel_regularizer=regularizers.l2(0.01)))\n",
    "model.add(BatchNormalization())\n",
    "model.add(Dropout(0.3))\n",
    "\n",
    "# Добавляем Dense слой\n",
    "model.add(Dense(32, activation='relu'))\n",
    "model.add(Dropout(0.3))\n",
    "\n",
    "# Добавляем выходной слой\n",
    "model.add(Dense(1))\n",
    "\n",
    "model.compile(optimizer='adam', loss='mse', metrics=['mse'])\n"
   ]
  },
  {
   "cell_type": "code",
   "execution_count": null,
   "metadata": {},
   "outputs": [
    {
     "name": "stderr",
     "output_type": "stream",
     "text": [
      "[I 2024-11-30 03:47:22,536] A new study created in memory with name: no-name-163ee4eb-bf22-410f-b5b6-7f4095a3809c\n"
     ]
    },
    {
     "name": "stdout",
     "output_type": "stream",
     "text": [
      "Device: PhysicalDevice(name='/physical_device:CPU:0', device_type='CPU'), Type: CPU\n",
      "GPU is not available. CPU will be used for training.\n",
      "Trying lstm_units_1 = 32\n",
      "Trying dropout = 0.4895099386054773\n",
      "Trying lstm_units_2 = 32\n",
      "Trying dropout = 0.4895099386054773\n",
      "Trying dense dropout = 0.4858500330765257\n",
      "Training trial 0\n"
     ]
    },
    {
     "name": "stderr",
     "output_type": "stream",
     "text": [
      "[I 2024-11-30 03:50:43,985] Trial 0 finished with value: 0.9949425458908081 and parameters: {'lstm_units_1': 32, 'dropout': 0.4895099386054773, 'lstm_units_2': 32, 'dropout_dense': 0.4858500330765257}. Best is trial 0 with value: 0.9949425458908081.\n"
     ]
    },
    {
     "name": "stdout",
     "output_type": "stream",
     "text": [
      "Trial 0 - test_loss: 0.9949425458908081, test_mse: 0.9946932792663574\n",
      "Trying lstm_units_1 = 32\n",
      "Trying dropout = 0.3169754485230837\n",
      "Trying lstm_units_2 = 128\n",
      "Trying dropout = 0.3169754485230837\n",
      "Trying dense dropout = 0.49196023881439305\n",
      "Training trial 1\n"
     ]
    },
    {
     "name": "stderr",
     "output_type": "stream",
     "text": [
      "[I 2024-11-30 03:56:53,455] Trial 1 finished with value: 0.9946401715278625 and parameters: {'lstm_units_1': 32, 'dropout': 0.3169754485230837, 'lstm_units_2': 128, 'dropout_dense': 0.49196023881439305}. Best is trial 1 with value: 0.9946401715278625.\n"
     ]
    },
    {
     "name": "stdout",
     "output_type": "stream",
     "text": [
      "Trial 1 - test_loss: 0.9946401715278625, test_mse: 0.994637131690979\n",
      "Trying lstm_units_1 = 64\n",
      "Trying dropout = 0.27060813693455793\n",
      "Trying lstm_units_2 = 128\n",
      "Trying dropout = 0.27060813693455793\n",
      "Trying dense dropout = 0.3835097760169719\n",
      "Training trial 2\n"
     ]
    },
    {
     "name": "stderr",
     "output_type": "stream",
     "text": [
      "[I 2024-11-30 04:04:48,222] Trial 2 finished with value: 0.9946425557136536 and parameters: {'lstm_units_1': 64, 'dropout': 0.27060813693455793, 'lstm_units_2': 128, 'dropout_dense': 0.3835097760169719}. Best is trial 1 with value: 0.9946401715278625.\n"
     ]
    },
    {
     "name": "stdout",
     "output_type": "stream",
     "text": [
      "Trial 2 - test_loss: 0.9946425557136536, test_mse: 0.9946370124816895\n",
      "Trying lstm_units_1 = 32\n",
      "Trying dropout = 0.43256556907479204\n",
      "Trying lstm_units_2 = 128\n",
      "Trying dropout = 0.43256556907479204\n",
      "Trying dense dropout = 0.2458102074531976\n",
      "Training trial 3\n"
     ]
    },
    {
     "name": "stderr",
     "output_type": "stream",
     "text": [
      "[I 2024-11-30 04:10:32,373] Trial 3 finished with value: 0.9946414232254028 and parameters: {'lstm_units_1': 32, 'dropout': 0.43256556907479204, 'lstm_units_2': 128, 'dropout_dense': 0.2458102074531976}. Best is trial 1 with value: 0.9946401715278625.\n"
     ]
    },
    {
     "name": "stdout",
     "output_type": "stream",
     "text": [
      "Trial 3 - test_loss: 0.9946414232254028, test_mse: 0.9946414232254028\n",
      "Trying lstm_units_1 = 32\n",
      "Trying dropout = 0.3116036152445094\n",
      "Trying lstm_units_2 = 128\n",
      "Trying dropout = 0.3116036152445094\n",
      "Trying dense dropout = 0.44274738946248593\n",
      "Training trial 4\n"
     ]
    },
    {
     "name": "stderr",
     "output_type": "stream",
     "text": [
      "[I 2024-11-30 04:14:08,380] Trial 4 finished with value: 0.9837175607681274 and parameters: {'lstm_units_1': 32, 'dropout': 0.3116036152445094, 'lstm_units_2': 128, 'dropout_dense': 0.44274738946248593}. Best is trial 4 with value: 0.9837175607681274.\n"
     ]
    },
    {
     "name": "stdout",
     "output_type": "stream",
     "text": [
      "Trial 4 - test_loss: 0.9837175607681274, test_mse: 0.9823842644691467\n",
      "Trying lstm_units_1 = 128\n",
      "Trying dropout = 0.2616135706736796\n",
      "Trying lstm_units_2 = 96\n",
      "Trying dropout = 0.2616135706736796\n",
      "Trying dense dropout = 0.2207300393175098\n",
      "Training trial 5\n"
     ]
    },
    {
     "name": "stderr",
     "output_type": "stream",
     "text": [
      "[I 2024-11-30 04:14:59,034] Trial 5 finished with value: 1.8406602144241333 and parameters: {'lstm_units_1': 128, 'dropout': 0.2616135706736796, 'lstm_units_2': 96, 'dropout_dense': 0.2207300393175098}. Best is trial 4 with value: 0.9837175607681274.\n"
     ]
    },
    {
     "name": "stdout",
     "output_type": "stream",
     "text": [
      "Trial 5 - test_loss: 1.8406602144241333, test_mse: 1.3353087902069092\n",
      "Trying lstm_units_1 = 128\n",
      "Trying dropout = 0.4371583007080318\n",
      "Trying lstm_units_2 = 128\n",
      "Trying dropout = 0.4371583007080318\n",
      "Trying dense dropout = 0.38989780783241584\n",
      "Training trial 6\n"
     ]
    },
    {
     "name": "stderr",
     "output_type": "stream",
     "text": [
      "[I 2024-11-30 04:19:54,908] Trial 6 finished with value: 0.9951230883598328 and parameters: {'lstm_units_1': 128, 'dropout': 0.4371583007080318, 'lstm_units_2': 128, 'dropout_dense': 0.38989780783241584}. Best is trial 4 with value: 0.9837175607681274.\n"
     ]
    },
    {
     "name": "stdout",
     "output_type": "stream",
     "text": [
      "Trial 6 - test_loss: 0.9951230883598328, test_mse: 0.994704008102417\n",
      "Trying lstm_units_1 = 128\n",
      "Trying dropout = 0.27337650364364013\n",
      "Trying lstm_units_2 = 32\n",
      "Trying dropout = 0.27337650364364013\n",
      "Trying dense dropout = 0.21638755069935267\n",
      "Training trial 7\n"
     ]
    },
    {
     "name": "stderr",
     "output_type": "stream",
     "text": [
      "[I 2024-11-30 04:20:52,085] Trial 7 finished with value: 1.0157831907272339 and parameters: {'lstm_units_1': 128, 'dropout': 0.27337650364364013, 'lstm_units_2': 32, 'dropout_dense': 0.21638755069935267}. Best is trial 4 with value: 0.9837175607681274.\n"
     ]
    },
    {
     "name": "stdout",
     "output_type": "stream",
     "text": [
      "Trial 7 - test_loss: 1.0157831907272339, test_mse: 1.0016049146652222\n",
      "Trying lstm_units_1 = 128\n",
      "Trying dropout = 0.3070587757690997\n",
      "Trying lstm_units_2 = 128\n",
      "Trying dropout = 0.3070587757690997\n",
      "Trying dense dropout = 0.28458869196908787\n",
      "Training trial 8\n"
     ]
    },
    {
     "name": "stderr",
     "output_type": "stream",
     "text": [
      "[I 2024-11-30 04:24:30,505] Trial 8 finished with value: 0.9948821663856506 and parameters: {'lstm_units_1': 128, 'dropout': 0.3070587757690997, 'lstm_units_2': 128, 'dropout_dense': 0.28458869196908787}. Best is trial 4 with value: 0.9837175607681274.\n"
     ]
    },
    {
     "name": "stdout",
     "output_type": "stream",
     "text": [
      "Trial 8 - test_loss: 0.9948821663856506, test_mse: 0.9946390390396118\n",
      "Trying lstm_units_1 = 32\n",
      "Trying dropout = 0.38276352735323393\n",
      "Trying lstm_units_2 = 96\n",
      "Trying dropout = 0.38276352735323393\n",
      "Trying dense dropout = 0.24607689296857566\n",
      "Training trial 9\n"
     ]
    },
    {
     "name": "stderr",
     "output_type": "stream",
     "text": [
      "[I 2024-11-30 04:25:16,458] Trial 9 finished with value: 1.0128977298736572 and parameters: {'lstm_units_1': 32, 'dropout': 0.38276352735323393, 'lstm_units_2': 96, 'dropout_dense': 0.24607689296857566}. Best is trial 4 with value: 0.9837175607681274.\n"
     ]
    },
    {
     "name": "stdout",
     "output_type": "stream",
     "text": [
      "Trial 9 - test_loss: 1.0128977298736572, test_mse: 0.9963199496269226\n",
      "Trying lstm_units_1 = 64\n",
      "Trying dropout = 0.3616807172786424\n",
      "Trying lstm_units_2 = 64\n",
      "Trying dropout = 0.3616807172786424\n",
      "Trying dense dropout = 0.4263381162624777\n",
      "Training trial 10\n"
     ]
    },
    {
     "name": "stderr",
     "output_type": "stream",
     "text": [
      "[I 2024-11-30 04:27:42,718] Trial 10 finished with value: 0.9950663447380066 and parameters: {'lstm_units_1': 64, 'dropout': 0.3616807172786424, 'lstm_units_2': 64, 'dropout_dense': 0.4263381162624777}. Best is trial 4 with value: 0.9837175607681274.\n"
     ]
    },
    {
     "name": "stdout",
     "output_type": "stream",
     "text": [
      "Trial 10 - test_loss: 0.9950663447380066, test_mse: 0.9947929978370667\n",
      "Trying lstm_units_1 = 64\n",
      "Trying dropout = 0.2049114546292913\n",
      "Trying lstm_units_2 = 96\n",
      "Trying dropout = 0.2049114546292913\n",
      "Trying dense dropout = 0.49370120089021724\n",
      "Training trial 11\n"
     ]
    },
    {
     "name": "stderr",
     "output_type": "stream",
     "text": [
      "[I 2024-11-30 04:30:47,974] Trial 11 finished with value: 0.9946382641792297 and parameters: {'lstm_units_1': 64, 'dropout': 0.2049114546292913, 'lstm_units_2': 96, 'dropout_dense': 0.49370120089021724}. Best is trial 4 with value: 0.9837175607681274.\n"
     ]
    },
    {
     "name": "stdout",
     "output_type": "stream",
     "text": [
      "Trial 11 - test_loss: 0.9946382641792297, test_mse: 0.9946382641792297\n",
      "Trying lstm_units_1 = 64\n",
      "Trying dropout = 0.20692595638262937\n",
      "Trying lstm_units_2 = 96\n",
      "Trying dropout = 0.20692595638262937\n",
      "Trying dense dropout = 0.44485243054461326\n",
      "Training trial 12\n"
     ]
    },
    {
     "name": "stderr",
     "output_type": "stream",
     "text": [
      "[I 2024-11-30 04:34:17,873] Trial 12 finished with value: 0.9946436882019043 and parameters: {'lstm_units_1': 64, 'dropout': 0.20692595638262937, 'lstm_units_2': 96, 'dropout_dense': 0.44485243054461326}. Best is trial 4 with value: 0.9837175607681274.\n"
     ]
    },
    {
     "name": "stdout",
     "output_type": "stream",
     "text": [
      "Trial 12 - test_loss: 0.9946436882019043, test_mse: 0.9946436882019043\n",
      "Trying lstm_units_1 = 96\n",
      "Trying dropout = 0.21659526203261836\n",
      "Trying lstm_units_2 = 64\n",
      "Trying dropout = 0.21659526203261836\n",
      "Trying dense dropout = 0.32455013927753734\n",
      "Training trial 13\n"
     ]
    },
    {
     "name": "stderr",
     "output_type": "stream",
     "text": [
      "[I 2024-11-30 04:36:51,832] Trial 13 finished with value: 0.9957793951034546 and parameters: {'lstm_units_1': 96, 'dropout': 0.21659526203261836, 'lstm_units_2': 64, 'dropout_dense': 0.32455013927753734}. Best is trial 4 with value: 0.9837175607681274.\n"
     ]
    },
    {
     "name": "stdout",
     "output_type": "stream",
     "text": [
      "Trial 13 - test_loss: 0.9957793951034546, test_mse: 0.9948004484176636\n",
      "Trying lstm_units_1 = 96\n",
      "Trying dropout = 0.22972635364996535\n",
      "Trying lstm_units_2 = 96\n",
      "Trying dropout = 0.22972635364996535\n",
      "Trying dense dropout = 0.44776683252322663\n",
      "Training trial 14\n"
     ]
    },
    {
     "name": "stderr",
     "output_type": "stream",
     "text": [
      "[I 2024-11-30 04:37:39,144] Trial 14 finished with value: 1.0906909704208374 and parameters: {'lstm_units_1': 96, 'dropout': 0.22972635364996535, 'lstm_units_2': 96, 'dropout_dense': 0.44776683252322663}. Best is trial 4 with value: 0.9837175607681274.\n"
     ]
    },
    {
     "name": "stdout",
     "output_type": "stream",
     "text": [
      "Trial 14 - test_loss: 1.0906909704208374, test_mse: 0.9951423406600952\n",
      "Trying lstm_units_1 = 64\n",
      "Trying dropout = 0.332028319234338\n",
      "Trying lstm_units_2 = 64\n",
      "Trying dropout = 0.332028319234338\n",
      "Trying dense dropout = 0.49411739599523\n",
      "Training trial 15\n"
     ]
    },
    {
     "name": "stderr",
     "output_type": "stream",
     "text": [
      "[I 2024-11-30 04:40:17,259] Trial 15 finished with value: 0.9958454966545105 and parameters: {'lstm_units_1': 64, 'dropout': 0.332028319234338, 'lstm_units_2': 64, 'dropout_dense': 0.49411739599523}. Best is trial 4 with value: 0.9837175607681274.\n"
     ]
    },
    {
     "name": "stdout",
     "output_type": "stream",
     "text": [
      "Trial 15 - test_loss: 0.9958454966545105, test_mse: 0.9947534799575806\n",
      "Trying lstm_units_1 = 96\n",
      "Trying dropout = 0.397304238781746\n",
      "Trying lstm_units_2 = 96\n",
      "Trying dropout = 0.397304238781746\n",
      "Trying dense dropout = 0.40336789217964764\n",
      "Training trial 16\n"
     ]
    },
    {
     "name": "stderr",
     "output_type": "stream",
     "text": [
      "[I 2024-11-30 04:44:00,956] Trial 16 finished with value: 0.9946528673171997 and parameters: {'lstm_units_1': 96, 'dropout': 0.397304238781746, 'lstm_units_2': 96, 'dropout_dense': 0.40336789217964764}. Best is trial 4 with value: 0.9837175607681274.\n"
     ]
    },
    {
     "name": "stdout",
     "output_type": "stream",
     "text": [
      "Trial 16 - test_loss: 0.9946528673171997, test_mse: 0.9946528673171997\n",
      "Trying lstm_units_1 = 32\n",
      "Trying dropout = 0.2476727612610093\n",
      "Trying lstm_units_2 = 128\n",
      "Trying dropout = 0.2476727612610093\n",
      "Trying dense dropout = 0.35179944573161387\n",
      "Training trial 17\n"
     ]
    },
    {
     "name": "stderr",
     "output_type": "stream",
     "text": [
      "[I 2024-11-30 04:47:32,037] Trial 17 finished with value: 0.9946381449699402 and parameters: {'lstm_units_1': 32, 'dropout': 0.2476727612610093, 'lstm_units_2': 128, 'dropout_dense': 0.35179944573161387}. Best is trial 4 with value: 0.9837175607681274.\n"
     ]
    },
    {
     "name": "stdout",
     "output_type": "stream",
     "text": [
      "Trial 17 - test_loss: 0.9946381449699402, test_mse: 0.9946381449699402\n",
      "Trying lstm_units_1 = 32\n",
      "Trying dropout = 0.30271372817938674\n",
      "Trying lstm_units_2 = 128\n",
      "Trying dropout = 0.30271372817938674\n",
      "Trying dense dropout = 0.34539223681780373\n",
      "Training trial 18\n"
     ]
    },
    {
     "name": "stderr",
     "output_type": "stream",
     "text": [
      "[I 2024-11-30 04:50:54,326] Trial 18 finished with value: 0.994655430316925 and parameters: {'lstm_units_1': 32, 'dropout': 0.30271372817938674, 'lstm_units_2': 128, 'dropout_dense': 0.34539223681780373}. Best is trial 4 with value: 0.9837175607681274.\n"
     ]
    },
    {
     "name": "stdout",
     "output_type": "stream",
     "text": [
      "Trial 18 - test_loss: 0.994655430316925, test_mse: 0.9946392774581909\n",
      "Trying lstm_units_1 = 32\n",
      "Trying dropout = 0.240676936230717\n",
      "Trying lstm_units_2 = 128\n",
      "Trying dropout = 0.240676936230717\n",
      "Trying dense dropout = 0.3189015620987058\n",
      "Training trial 19\n"
     ]
    },
    {
     "name": "stderr",
     "output_type": "stream",
     "text": [
      "[I 2024-11-30 04:51:49,000] Trial 19 finished with value: 0.9995898604393005 and parameters: {'lstm_units_1': 32, 'dropout': 0.240676936230717, 'lstm_units_2': 128, 'dropout_dense': 0.3189015620987058}. Best is trial 4 with value: 0.9837175607681274.\n"
     ]
    },
    {
     "name": "stdout",
     "output_type": "stream",
     "text": [
      "Trial 19 - test_loss: 0.9995898604393005, test_mse: 0.9856762290000916\n",
      "Trying lstm_units_1 = 32\n",
      "Trying dropout = 0.2928603780083958\n",
      "Trying lstm_units_2 = 128\n",
      "Trying dropout = 0.2928603780083958\n",
      "Trying dense dropout = 0.35866108741588787\n",
      "Training trial 20\n"
     ]
    },
    {
     "name": "stderr",
     "output_type": "stream",
     "text": [
      "[I 2024-11-30 04:54:50,755] Trial 20 finished with value: 0.994637668132782 and parameters: {'lstm_units_1': 32, 'dropout': 0.2928603780083958, 'lstm_units_2': 128, 'dropout_dense': 0.35866108741588787}. Best is trial 4 with value: 0.9837175607681274.\n"
     ]
    },
    {
     "name": "stdout",
     "output_type": "stream",
     "text": [
      "Trial 20 - test_loss: 0.994637668132782, test_mse: 0.994637668132782\n",
      "Trying lstm_units_1 = 32\n",
      "Trying dropout = 0.28337815004622197\n",
      "Trying lstm_units_2 = 128\n",
      "Trying dropout = 0.28337815004622197\n",
      "Trying dense dropout = 0.3591229637616288\n",
      "Training trial 21\n"
     ]
    },
    {
     "name": "stderr",
     "output_type": "stream",
     "text": [
      "[I 2024-11-30 04:57:50,869] Trial 21 finished with value: 0.994657039642334 and parameters: {'lstm_units_1': 32, 'dropout': 0.28337815004622197, 'lstm_units_2': 128, 'dropout_dense': 0.3591229637616288}. Best is trial 4 with value: 0.9837175607681274.\n"
     ]
    },
    {
     "name": "stdout",
     "output_type": "stream",
     "text": [
      "Trial 21 - test_loss: 0.994657039642334, test_mse: 0.9946566820144653\n",
      "Trying lstm_units_1 = 32\n",
      "Trying dropout = 0.3399138748433523\n",
      "Trying lstm_units_2 = 128\n",
      "Trying dropout = 0.3399138748433523\n",
      "Trying dense dropout = 0.29264971023109393\n",
      "Training trial 22\n"
     ]
    },
    {
     "name": "stderr",
     "output_type": "stream",
     "text": [
      "[I 2024-11-30 04:59:02,966] Trial 22 finished with value: 0.9943686127662659 and parameters: {'lstm_units_1': 32, 'dropout': 0.3399138748433523, 'lstm_units_2': 128, 'dropout_dense': 0.29264971023109393}. Best is trial 4 with value: 0.9837175607681274.\n"
     ]
    },
    {
     "name": "stdout",
     "output_type": "stream",
     "text": [
      "Trial 22 - test_loss: 0.9943686127662659, test_mse: 0.9892814755439758\n",
      "Trying lstm_units_1 = 64\n",
      "Trying dropout = 0.3441605057125154\n",
      "Trying lstm_units_2 = 128\n",
      "Trying dropout = 0.3441605057125154\n",
      "Trying dense dropout = 0.2873935940909555\n",
      "Training trial 23\n"
     ]
    },
    {
     "name": "stderr",
     "output_type": "stream",
     "text": [
      "[I 2024-11-30 05:02:54,294] Trial 23 finished with value: 0.9949972033500671 and parameters: {'lstm_units_1': 64, 'dropout': 0.3441605057125154, 'lstm_units_2': 128, 'dropout_dense': 0.2873935940909555}. Best is trial 4 with value: 0.9837175607681274.\n"
     ]
    },
    {
     "name": "stdout",
     "output_type": "stream",
     "text": [
      "Trial 23 - test_loss: 0.9949972033500671, test_mse: 0.9946936964988708\n",
      "Trying lstm_units_1 = 32\n",
      "Trying dropout = 0.3630256705640839\n",
      "Trying lstm_units_2 = 96\n",
      "Trying dropout = 0.3630256705640839\n",
      "Trying dense dropout = 0.29398463363429717\n",
      "Training trial 24\n"
     ]
    },
    {
     "name": "stderr",
     "output_type": "stream",
     "text": [
      "[I 2024-11-30 05:07:32,242] Trial 24 finished with value: 0.995658814907074 and parameters: {'lstm_units_1': 32, 'dropout': 0.3630256705640839, 'lstm_units_2': 96, 'dropout_dense': 0.29398463363429717}. Best is trial 4 with value: 0.9837175607681274.\n"
     ]
    },
    {
     "name": "stdout",
     "output_type": "stream",
     "text": [
      "Trial 24 - test_loss: 0.995658814907074, test_mse: 0.9946390390396118\n",
      "Trying lstm_units_1 = 32\n",
      "Trying dropout = 0.2909009865447213\n",
      "Trying lstm_units_2 = 128\n",
      "Trying dropout = 0.2909009865447213\n",
      "Trying dense dropout = 0.26693890702226475\n",
      "Training trial 25\n"
     ]
    },
    {
     "name": "stderr",
     "output_type": "stream",
     "text": [
      "[I 2024-11-30 05:09:27,353] Trial 25 finished with value: 1.0045973062515259 and parameters: {'lstm_units_1': 32, 'dropout': 0.2909009865447213, 'lstm_units_2': 128, 'dropout_dense': 0.26693890702226475}. Best is trial 4 with value: 0.9837175607681274.\n"
     ]
    },
    {
     "name": "stdout",
     "output_type": "stream",
     "text": [
      "Trial 25 - test_loss: 1.0045973062515259, test_mse: 0.9946262240409851\n",
      "Trying lstm_units_1 = 64\n",
      "Trying dropout = 0.3231236703510671\n",
      "Trying lstm_units_2 = 96\n",
      "Trying dropout = 0.3231236703510671\n",
      "Trying dense dropout = 0.3168686657749668\n",
      "Training trial 26\n"
     ]
    },
    {
     "name": "stderr",
     "output_type": "stream",
     "text": [
      "[I 2024-11-30 05:11:15,837] Trial 26 finished with value: 1.070147156715393 and parameters: {'lstm_units_1': 64, 'dropout': 0.3231236703510671, 'lstm_units_2': 96, 'dropout_dense': 0.3168686657749668}. Best is trial 4 with value: 0.9837175607681274.\n"
     ]
    },
    {
     "name": "stdout",
     "output_type": "stream",
     "text": [
      "Trial 26 - test_loss: 1.070147156715393, test_mse: 1.0484187602996826\n",
      "Trying lstm_units_1 = 32\n",
      "Trying dropout = 0.40749673140910364\n",
      "Trying lstm_units_2 = 128\n",
      "Trying dropout = 0.40749673140910364\n",
      "Trying dense dropout = 0.4592095006991852\n",
      "Training trial 27\n"
     ]
    },
    {
     "name": "stderr",
     "output_type": "stream",
     "text": [
      "[I 2024-11-30 05:19:15,215] Trial 27 finished with value: 0.994640052318573 and parameters: {'lstm_units_1': 32, 'dropout': 0.40749673140910364, 'lstm_units_2': 128, 'dropout_dense': 0.4592095006991852}. Best is trial 4 with value: 0.9837175607681274.\n"
     ]
    },
    {
     "name": "stdout",
     "output_type": "stream",
     "text": [
      "Trial 27 - test_loss: 0.994640052318573, test_mse: 0.9946379065513611\n",
      "Trying lstm_units_1 = 64\n",
      "Trying dropout = 0.341861228192396\n",
      "Trying lstm_units_2 = 64\n",
      "Trying dropout = 0.341861228192396\n",
      "Trying dense dropout = 0.4055955617553106\n",
      "Training trial 28\n"
     ]
    },
    {
     "name": "stderr",
     "output_type": "stream",
     "text": [
      "[I 2024-11-30 05:23:48,410] Trial 28 finished with value: 0.9946837425231934 and parameters: {'lstm_units_1': 64, 'dropout': 0.341861228192396, 'lstm_units_2': 64, 'dropout_dense': 0.4055955617553106}. Best is trial 4 with value: 0.9837175607681274.\n"
     ]
    },
    {
     "name": "stdout",
     "output_type": "stream",
     "text": [
      "Trial 28 - test_loss: 0.9946837425231934, test_mse: 0.9946734309196472\n",
      "Trying lstm_units_1 = 32\n",
      "Trying dropout = 0.4963077777864033\n",
      "Trying lstm_units_2 = 128\n",
      "Trying dropout = 0.4963077777864033\n",
      "Trying dense dropout = 0.4663045372358148\n",
      "Training trial 29\n"
     ]
    },
    {
     "name": "stderr",
     "output_type": "stream",
     "text": [
      "[I 2024-11-30 05:24:53,007] Trial 29 finished with value: 38.91996383666992 and parameters: {'lstm_units_1': 32, 'dropout': 0.4963077777864033, 'lstm_units_2': 128, 'dropout_dense': 0.4663045372358148}. Best is trial 4 with value: 0.9837175607681274.\n"
     ]
    },
    {
     "name": "stdout",
     "output_type": "stream",
     "text": [
      "Trial 29 - test_loss: 38.91996383666992, test_mse: 38.65562057495117\n",
      "Trying lstm_units_1 = 32\n",
      "Trying dropout = 0.4608957124457042\n",
      "Trying lstm_units_2 = 32\n",
      "Trying dropout = 0.4608957124457042\n",
      "Trying dense dropout = 0.3637733262982749\n",
      "Training trial 30\n"
     ]
    },
    {
     "name": "stderr",
     "output_type": "stream",
     "text": [
      "[I 2024-11-30 05:28:58,321] Trial 30 finished with value: 0.9948394894599915 and parameters: {'lstm_units_1': 32, 'dropout': 0.4608957124457042, 'lstm_units_2': 32, 'dropout_dense': 0.3637733262982749}. Best is trial 4 with value: 0.9837175607681274.\n"
     ]
    },
    {
     "name": "stdout",
     "output_type": "stream",
     "text": [
      "Trial 30 - test_loss: 0.9948394894599915, test_mse: 0.9946433305740356\n",
      "Trying lstm_units_1 = 32\n",
      "Trying dropout = 0.24612332693644032\n",
      "Trying lstm_units_2 = 128\n",
      "Trying dropout = 0.24612332693644032\n",
      "Trying dense dropout = 0.33722535268125764\n",
      "Training trial 31\n"
     ]
    },
    {
     "name": "stderr",
     "output_type": "stream",
     "text": [
      "[I 2024-11-30 05:33:59,766] Trial 31 finished with value: 0.994667649269104 and parameters: {'lstm_units_1': 32, 'dropout': 0.24612332693644032, 'lstm_units_2': 128, 'dropout_dense': 0.33722535268125764}. Best is trial 4 with value: 0.9837175607681274.\n"
     ]
    },
    {
     "name": "stdout",
     "output_type": "stream",
     "text": [
      "Trial 31 - test_loss: 0.994667649269104, test_mse: 0.9946432113647461\n",
      "Trying lstm_units_1 = 32\n",
      "Trying dropout = 0.2590804039815847\n",
      "Trying lstm_units_2 = 128\n",
      "Trying dropout = 0.2590804039815847\n",
      "Trying dense dropout = 0.37289322868202357\n",
      "Training trial 32\n"
     ]
    },
    {
     "name": "stderr",
     "output_type": "stream",
     "text": [
      "[I 2024-11-30 05:40:16,154] Trial 32 finished with value: 0.9946489930152893 and parameters: {'lstm_units_1': 32, 'dropout': 0.2590804039815847, 'lstm_units_2': 128, 'dropout_dense': 0.37289322868202357}. Best is trial 4 with value: 0.9837175607681274.\n"
     ]
    },
    {
     "name": "stdout",
     "output_type": "stream",
     "text": [
      "Trial 32 - test_loss: 0.9946489930152893, test_mse: 0.9946489930152893\n",
      "Trying lstm_units_1 = 32\n",
      "Trying dropout = 0.29872269207665514\n",
      "Trying lstm_units_2 = 128\n",
      "Trying dropout = 0.29872269207665514\n",
      "Trying dense dropout = 0.4212045128399287\n",
      "Training trial 33\n"
     ]
    },
    {
     "name": "stderr",
     "output_type": "stream",
     "text": [
      "[I 2024-11-30 05:41:24,700] Trial 33 finished with value: 1.2173062562942505 and parameters: {'lstm_units_1': 32, 'dropout': 0.29872269207665514, 'lstm_units_2': 128, 'dropout_dense': 0.4212045128399287}. Best is trial 4 with value: 0.9837175607681274.\n"
     ]
    },
    {
     "name": "stdout",
     "output_type": "stream",
     "text": [
      "Trial 33 - test_loss: 1.2173062562942505, test_mse: 1.070685863494873\n",
      "Trying lstm_units_1 = 32\n",
      "Trying dropout = 0.3181086928074398\n",
      "Trying lstm_units_2 = 128\n",
      "Trying dropout = 0.3181086928074398\n",
      "Trying dense dropout = 0.29946311677372384\n",
      "Training trial 34\n"
     ]
    },
    {
     "name": "stderr",
     "output_type": "stream",
     "text": [
      "[I 2024-11-30 05:47:21,089] Trial 34 finished with value: 0.9946442246437073 and parameters: {'lstm_units_1': 32, 'dropout': 0.3181086928074398, 'lstm_units_2': 128, 'dropout_dense': 0.29946311677372384}. Best is trial 4 with value: 0.9837175607681274.\n"
     ]
    },
    {
     "name": "stdout",
     "output_type": "stream",
     "text": [
      "Trial 34 - test_loss: 0.9946442246437073, test_mse: 0.9946419596672058\n",
      "Trying lstm_units_1 = 32\n",
      "Trying dropout = 0.2800816853203316\n",
      "Trying lstm_units_2 = 128\n",
      "Trying dropout = 0.2800816853203316\n",
      "Trying dense dropout = 0.26577844427671876\n",
      "Training trial 35\n"
     ]
    },
    {
     "name": "stderr",
     "output_type": "stream",
     "text": [
      "[I 2024-11-30 05:52:54,467] Trial 35 finished with value: 0.9946706295013428 and parameters: {'lstm_units_1': 32, 'dropout': 0.2800816853203316, 'lstm_units_2': 128, 'dropout_dense': 0.26577844427671876}. Best is trial 4 with value: 0.9837175607681274.\n"
     ]
    },
    {
     "name": "stdout",
     "output_type": "stream",
     "text": [
      "Trial 35 - test_loss: 0.9946706295013428, test_mse: 0.9946568012237549\n",
      "Trying lstm_units_1 = 64\n",
      "Trying dropout = 0.3655195737608628\n",
      "Trying lstm_units_2 = 96\n",
      "Trying dropout = 0.3655195737608628\n",
      "Trying dense dropout = 0.2010920968923708\n",
      "Training trial 36\n"
     ]
    },
    {
     "name": "stderr",
     "output_type": "stream",
     "text": [
      "[I 2024-11-30 05:57:11,441] Trial 36 finished with value: 0.9950684905052185 and parameters: {'lstm_units_1': 64, 'dropout': 0.3655195737608628, 'lstm_units_2': 96, 'dropout_dense': 0.2010920968923708}. Best is trial 4 with value: 0.9837175607681274.\n"
     ]
    },
    {
     "name": "stdout",
     "output_type": "stream",
     "text": [
      "Trial 36 - test_loss: 0.9950684905052185, test_mse: 0.9949023127555847\n",
      "Trying lstm_units_1 = 32\n",
      "Trying dropout = 0.31452395489850454\n",
      "Trying lstm_units_2 = 128\n",
      "Trying dropout = 0.31452395489850454\n",
      "Trying dense dropout = 0.38037162351088305\n",
      "Training trial 37\n"
     ]
    },
    {
     "name": "stderr",
     "output_type": "stream",
     "text": [
      "[I 2024-11-30 06:02:37,528] Trial 37 finished with value: 0.9946547746658325 and parameters: {'lstm_units_1': 32, 'dropout': 0.31452395489850454, 'lstm_units_2': 128, 'dropout_dense': 0.38037162351088305}. Best is trial 4 with value: 0.9837175607681274.\n"
     ]
    },
    {
     "name": "stdout",
     "output_type": "stream",
     "text": [
      "Trial 37 - test_loss: 0.9946547746658325, test_mse: 0.9946483373641968\n",
      "Trying lstm_units_1 = 32\n",
      "Trying dropout = 0.2568472097269752\n",
      "Trying lstm_units_2 = 128\n",
      "Trying dropout = 0.2568472097269752\n",
      "Trying dense dropout = 0.3374525490757419\n",
      "Training trial 38\n"
     ]
    },
    {
     "name": "stderr",
     "output_type": "stream",
     "text": [
      "[I 2024-11-30 06:09:02,727] Trial 38 finished with value: 0.9946415424346924 and parameters: {'lstm_units_1': 32, 'dropout': 0.2568472097269752, 'lstm_units_2': 128, 'dropout_dense': 0.3374525490757419}. Best is trial 4 with value: 0.9837175607681274.\n"
     ]
    },
    {
     "name": "stdout",
     "output_type": "stream",
     "text": [
      "Trial 38 - test_loss: 0.9946415424346924, test_mse: 0.9946415424346924\n",
      "Trying lstm_units_1 = 64\n",
      "Trying dropout = 0.2677283746824599\n",
      "Trying lstm_units_2 = 96\n",
      "Trying dropout = 0.2677283746824599\n",
      "Trying dense dropout = 0.39346914578079667\n",
      "Training trial 39\n"
     ]
    },
    {
     "name": "stderr",
     "output_type": "stream",
     "text": [
      "[I 2024-11-30 06:15:03,386] Trial 39 finished with value: 0.9946609735488892 and parameters: {'lstm_units_1': 64, 'dropout': 0.2677283746824599, 'lstm_units_2': 96, 'dropout_dense': 0.39346914578079667}. Best is trial 4 with value: 0.9837175607681274.\n"
     ]
    },
    {
     "name": "stdout",
     "output_type": "stream",
     "text": [
      "Trial 39 - test_loss: 0.9946609735488892, test_mse: 0.9946389198303223\n",
      "Trying lstm_units_1 = 32\n",
      "Trying dropout = 0.22771192381442412\n",
      "Trying lstm_units_2 = 128\n",
      "Trying dropout = 0.22771192381442412\n",
      "Trying dense dropout = 0.24642132015853346\n",
      "Training trial 40\n"
     ]
    },
    {
     "name": "stderr",
     "output_type": "stream",
     "text": [
      "[I 2024-11-30 06:19:47,055] Trial 40 finished with value: 0.9946653842926025 and parameters: {'lstm_units_1': 32, 'dropout': 0.22771192381442412, 'lstm_units_2': 128, 'dropout_dense': 0.24642132015853346}. Best is trial 4 with value: 0.9837175607681274.\n"
     ]
    },
    {
     "name": "stdout",
     "output_type": "stream",
     "text": [
      "Trial 40 - test_loss: 0.9946653842926025, test_mse: 0.994644820690155\n",
      "Trying lstm_units_1 = 64\n",
      "Trying dropout = 0.20032635275603863\n",
      "Trying lstm_units_2 = 96\n",
      "Trying dropout = 0.20032635275603863\n",
      "Trying dense dropout = 0.4772371042423609\n",
      "Training trial 41\n"
     ]
    },
    {
     "name": "stderr",
     "output_type": "stream",
     "text": [
      "[I 2024-11-30 06:24:52,613] Trial 41 finished with value: 0.9947226047515869 and parameters: {'lstm_units_1': 64, 'dropout': 0.20032635275603863, 'lstm_units_2': 96, 'dropout_dense': 0.4772371042423609}. Best is trial 4 with value: 0.9837175607681274.\n"
     ]
    },
    {
     "name": "stdout",
     "output_type": "stream",
     "text": [
      "Trial 41 - test_loss: 0.9947226047515869, test_mse: 0.9946644902229309\n",
      "Trying lstm_units_1 = 96\n",
      "Trying dropout = 0.22086845377879488\n",
      "Trying lstm_units_2 = 128\n",
      "Trying dropout = 0.22086845377879488\n",
      "Trying dense dropout = 0.4844258363997561\n",
      "Training trial 42\n"
     ]
    },
    {
     "name": "stderr",
     "output_type": "stream",
     "text": [
      "[I 2024-11-30 06:32:32,781] Trial 42 finished with value: 0.9946374297142029 and parameters: {'lstm_units_1': 96, 'dropout': 0.22086845377879488, 'lstm_units_2': 128, 'dropout_dense': 0.4844258363997561}. Best is trial 4 with value: 0.9837175607681274.\n"
     ]
    },
    {
     "name": "stdout",
     "output_type": "stream",
     "text": [
      "Trial 42 - test_loss: 0.9946374297142029, test_mse: 0.9946366548538208\n",
      "Trying lstm_units_1 = 96\n",
      "Trying dropout = 0.2235321807650497\n",
      "Trying lstm_units_2 = 128\n",
      "Trying dropout = 0.2235321807650497\n",
      "Trying dense dropout = 0.4282995009768297\n",
      "Training trial 43\n"
     ]
    },
    {
     "name": "stderr",
     "output_type": "stream",
     "text": [
      "[I 2024-11-30 06:34:24,431] Trial 43 finished with value: 1.1116299629211426 and parameters: {'lstm_units_1': 96, 'dropout': 0.2235321807650497, 'lstm_units_2': 128, 'dropout_dense': 0.4282995009768297}. Best is trial 4 with value: 0.9837175607681274.\n"
     ]
    },
    {
     "name": "stdout",
     "output_type": "stream",
     "text": [
      "Trial 43 - test_loss: 1.1116299629211426, test_mse: 1.0024064779281616\n",
      "Trying lstm_units_1 = 96\n",
      "Trying dropout = 0.24470417318731646\n",
      "Trying lstm_units_2 = 128\n",
      "Trying dropout = 0.24470417318731646\n",
      "Trying dense dropout = 0.48246928615454365\n",
      "Training trial 44\n"
     ]
    },
    {
     "name": "stderr",
     "output_type": "stream",
     "text": [
      "[I 2024-11-30 06:41:14,348] Trial 44 finished with value: 0.9946427941322327 and parameters: {'lstm_units_1': 96, 'dropout': 0.24470417318731646, 'lstm_units_2': 128, 'dropout_dense': 0.48246928615454365}. Best is trial 4 with value: 0.9837175607681274.\n"
     ]
    },
    {
     "name": "stdout",
     "output_type": "stream",
     "text": [
      "Trial 44 - test_loss: 0.9946427941322327, test_mse: 0.9946427941322327\n",
      "Trying lstm_units_1 = 128\n",
      "Trying dropout = 0.28914833467304174\n",
      "Trying lstm_units_2 = 128\n",
      "Trying dropout = 0.28914833467304174\n",
      "Trying dense dropout = 0.30797055889093944\n",
      "Training trial 45\n"
     ]
    },
    {
     "name": "stderr",
     "output_type": "stream",
     "text": [
      "[I 2024-11-30 06:53:20,926] Trial 45 finished with value: 0.994640052318573 and parameters: {'lstm_units_1': 128, 'dropout': 0.28914833467304174, 'lstm_units_2': 128, 'dropout_dense': 0.30797055889093944}. Best is trial 4 with value: 0.9837175607681274.\n"
     ]
    },
    {
     "name": "stdout",
     "output_type": "stream",
     "text": [
      "Trial 45 - test_loss: 0.994640052318573, test_mse: 0.99463951587677\n",
      "Trying lstm_units_1 = 96\n",
      "Trying dropout = 0.3320726604939783\n",
      "Trying lstm_units_2 = 128\n",
      "Trying dropout = 0.3320726604939783\n",
      "Trying dense dropout = 0.4397201857293342\n",
      "Training trial 46\n"
     ]
    },
    {
     "name": "stderr",
     "output_type": "stream",
     "text": [
      "[I 2024-11-30 07:01:40,391] Trial 46 finished with value: 0.9946380257606506 and parameters: {'lstm_units_1': 96, 'dropout': 0.3320726604939783, 'lstm_units_2': 128, 'dropout_dense': 0.4397201857293342}. Best is trial 4 with value: 0.9837175607681274.\n"
     ]
    },
    {
     "name": "stdout",
     "output_type": "stream",
     "text": [
      "Trial 46 - test_loss: 0.9946380257606506, test_mse: 0.9946380257606506\n",
      "Trying lstm_units_1 = 96\n",
      "Trying dropout = 0.3740959079550355\n",
      "Trying lstm_units_2 = 32\n",
      "Trying dropout = 0.3740959079550355\n",
      "Trying dense dropout = 0.4357804706771684\n",
      "Training trial 47\n"
     ]
    },
    {
     "name": "stderr",
     "output_type": "stream",
     "text": [
      "[I 2024-11-30 07:05:42,487] Trial 47 finished with value: 0.9961532950401306 and parameters: {'lstm_units_1': 96, 'dropout': 0.3740959079550355, 'lstm_units_2': 32, 'dropout_dense': 0.4357804706771684}. Best is trial 4 with value: 0.9837175607681274.\n"
     ]
    },
    {
     "name": "stdout",
     "output_type": "stream",
     "text": [
      "Trial 47 - test_loss: 0.9961532950401306, test_mse: 0.9946945905685425\n",
      "Trying lstm_units_1 = 96\n",
      "Trying dropout = 0.33059835000058185\n",
      "Trying lstm_units_2 = 128\n",
      "Trying dropout = 0.33059835000058185\n",
      "Trying dense dropout = 0.4612423106393342\n",
      "Training trial 48\n"
     ]
    },
    {
     "name": "stderr",
     "output_type": "stream",
     "text": [
      "[I 2024-11-30 07:13:19,468] Trial 48 finished with value: 0.9946451783180237 and parameters: {'lstm_units_1': 96, 'dropout': 0.33059835000058185, 'lstm_units_2': 128, 'dropout_dense': 0.4612423106393342}. Best is trial 4 with value: 0.9837175607681274.\n"
     ]
    },
    {
     "name": "stdout",
     "output_type": "stream",
     "text": [
      "Trial 48 - test_loss: 0.9946451783180237, test_mse: 0.9946373105049133\n",
      "Trying lstm_units_1 = 96\n",
      "Trying dropout = 0.33716174554726885\n",
      "Trying lstm_units_2 = 96\n",
      "Trying dropout = 0.33716174554726885\n",
      "Trying dense dropout = 0.41396273669382105\n",
      "Training trial 49\n"
     ]
    },
    {
     "name": "stderr",
     "output_type": "stream",
     "text": [
      "[I 2024-11-30 07:19:23,660] Trial 49 finished with value: 0.9953534603118896 and parameters: {'lstm_units_1': 96, 'dropout': 0.33716174554726885, 'lstm_units_2': 96, 'dropout_dense': 0.41396273669382105}. Best is trial 4 with value: 0.9837175607681274.\n"
     ]
    },
    {
     "name": "stdout",
     "output_type": "stream",
     "text": [
      "Trial 49 - test_loss: 0.9953534603118896, test_mse: 0.9946703910827637\n",
      "Best hyperparameters: {'lstm_units_1': 32, 'dropout': 0.3116036152445094, 'lstm_units_2': 128, 'dropout_dense': 0.44274738946248593}\n",
      "Best trial: 4\n",
      "Best trial value: 0.9837175607681274\n",
      "Best trial parameters: {'lstm_units_1': 32, 'dropout': 0.3116036152445094, 'lstm_units_2': 128, 'dropout_dense': 0.44274738946248593}\n"
     ]
    }
   ],
   "source": [
    "import optuna\n",
    "from tensorflow.keras import regularizers\n",
    "from tensorflow.keras.models import Sequential\n",
    "from tensorflow.keras.layers import LSTM, Dense, Dropout, BatchNormalization\n",
    "import tensorflow as tf\n",
    "\n",
    "# Функция для проверки устройства, которое используется\n",
    "def get_device_info():\n",
    "    physical_devices = tf.config.list_physical_devices()\n",
    "    for device in physical_devices:\n",
    "        print(f\"Device: {device}, Type: {device.device_type}\")\n",
    "    # Если доступен GPU, его информация будет выведена\n",
    "    if tf.config.list_physical_devices('GPU'):\n",
    "        print(\"GPU is available and will be used for training.\")\n",
    "    else:\n",
    "        print(\"GPU is not available. CPU will be used for training.\")\n",
    "\n",
    "# Выводим информацию о доступных устройствах (GPU или CPU)\n",
    "get_device_info()\n",
    "\n",
    "# Настроим Optuna для логирования\n",
    "optuna.logging.set_verbosity(optuna.logging.INFO)\n",
    "\n",
    "def create_model(trial):\n",
    "    # Примерный процесс создания модели с использованием trial (кандидатных гиперпараметров)\n",
    "    model = Sequential()\n",
    "\n",
    "    # Выбор количества нейронов в первом LSTM слое\n",
    "    lstm_units_1 = trial.suggest_int('lstm_units_1', 32, 128, step=32)\n",
    "    print(f\"Trying lstm_units_1 = {lstm_units_1}\")\n",
    "    model.add(LSTM(lstm_units_1, activation='relu', input_shape=(X_train.shape[1], X_train.shape[2]), return_sequences=True,\n",
    "                   kernel_regularizer=regularizers.l2(0.01)))\n",
    "    model.add(BatchNormalization())\n",
    "    dropout_1 = trial.suggest_float('dropout', 0.2, 0.5)\n",
    "    print(f\"Trying dropout = {dropout_1}\")\n",
    "    model.add(Dropout(dropout_1))\n",
    "\n",
    "    # Выбор количества нейронов во втором LSTM слое\n",
    "    lstm_units_2 = trial.suggest_int('lstm_units_2', 32, 128, step=32)\n",
    "    print(f\"Trying lstm_units_2 = {lstm_units_2}\")\n",
    "    model.add(LSTM(lstm_units_2, activation='relu', return_sequences=False, kernel_regularizer=regularizers.l2(0.01)))\n",
    "    model.add(BatchNormalization())\n",
    "    dropout_2 = trial.suggest_float('dropout', 0.2, 0.5)\n",
    "    print(f\"Trying dropout = {dropout_2}\")\n",
    "    model.add(Dropout(dropout_2))\n",
    "\n",
    "    # Добавляем Dense слой\n",
    "    dense_dropout = trial.suggest_float('dropout_dense', 0.2, 0.5)\n",
    "    print(f\"Trying dense dropout = {dense_dropout}\")\n",
    "    model.add(Dense(32, activation='relu'))\n",
    "    model.add(Dropout(dense_dropout))\n",
    "\n",
    "    # Выходной слой\n",
    "    model.add(Dense(1))\n",
    "\n",
    "    model.compile(optimizer='adam', loss='mse', metrics=['mse'])\n",
    "    return model\n",
    "\n",
    "def objective(trial):\n",
    "    # Создаем модель с гиперпараметрами, выбранными с помощью Optuna\n",
    "    model = create_model(trial)\n",
    "    \n",
    "    # Используем EarlyStopping, чтобы избежать переобучения\n",
    "    early_stopping = tf.keras.callbacks.EarlyStopping(monitor='val_loss', patience=5, restore_best_weights=True)\n",
    "    \n",
    "    # Обучаем модель\n",
    "    print(f\"Training trial {trial.number}\")\n",
    "    history = model.fit(X_train, y_train, epochs=50, batch_size=32, validation_data=(X_test, y_test), \n",
    "                        callbacks=[early_stopping], verbose=0)\n",
    "    \n",
    "    # Оцениваем модель на тестовых данных\n",
    "    test_loss, test_mse = model.evaluate(X_test, y_test, verbose=0)\n",
    "    print(f\"Trial {trial.number} - test_loss: {test_loss}, test_mse: {test_mse}\")\n",
    "    \n",
    "    # Возвращаем потери, которые будут минимизировать Optuna\n",
    "    return test_loss\n",
    "\n",
    "# Создаем объект study для поиска гиперпараметров\n",
    "study = optuna.create_study(direction='minimize')\n",
    "\n",
    "# Запускаем поиск\n",
    "study.optimize(objective, n_trials=50)  # пробуем 50 разных комбинаций гиперпараметров\n",
    "\n",
    "# Выводим лучшие гиперпараметры\n",
    "print(f\"Best hyperparameters: {study.best_params}\")\n",
    "\n",
    "# Выводим детали о лучшем trial\n",
    "best_trial = study.best_trial\n",
    "print(f\"Best trial: {best_trial.number}\")\n",
    "print(f\"Best trial value: {best_trial.value}\")\n",
    "print(f\"Best trial parameters: {best_trial.params}\")\n"
   ]
  },
  {
   "cell_type": "code",
   "execution_count": null,
   "metadata": {},
   "outputs": [],
   "source": [
    "model.compile(optimizer='adam', loss='mse', metrics=['mse'])"
   ]
  },
  {
   "cell_type": "code",
   "execution_count": null,
   "metadata": {},
   "outputs": [],
   "source": [
    "early_stopping = EarlyStopping(monitor='val_loss', patience=5, restore_best_weights=True)"
   ]
  },
  {
   "cell_type": "code",
   "execution_count": null,
   "metadata": {},
   "outputs": [],
   "source": [
    "history = model.fit(X_train, y_train, epochs=50, batch_size=32, validation_data=(X_test, y_test), callbacks=[early_stopping])"
   ]
  },
  {
   "cell_type": "code",
   "execution_count": null,
   "metadata": {},
   "outputs": [],
   "source": [
    "test_loss, test_mse = model.evaluate(X_test, y_test)\n",
    "print(f'Loss on test set: {test_loss}, MSE: {test_mse}')"
   ]
  },
  {
   "cell_type": "code",
   "execution_count": null,
   "metadata": {},
   "outputs": [],
   "source": [
    "plt.plot(history.history['loss'], label='train_loss')\n",
    "plt.plot(history.history['val_loss'], label='val_loss')\n",
    "plt.legend()\n",
    "plt.title('Training and Validation Loss')\n",
    "plt.show()"
   ]
  },
  {
   "cell_type": "code",
   "execution_count": null,
   "metadata": {},
   "outputs": [],
   "source": [
    "plt.plot(history.history['mse'], label='train_mse')\n",
    "plt.plot(history.history['val_mse'], label='val_mse')\n",
    "plt.legend()\n",
    "plt.title('Training and Validation MSE')\n",
    "plt.show()"
   ]
  },
  {
   "cell_type": "code",
   "execution_count": 16,
   "metadata": {},
   "outputs": [
    {
     "name": "stderr",
     "output_type": "stream",
     "text": [
      "[I 2024-11-30 03:47:22,536] A new study created in memory with name: no-name-163ee4eb-bf22-410f-b5b6-7f4095a3809c\n"
     ]
    },
    {
     "name": "stdout",
     "output_type": "stream",
     "text": [
      "Device: PhysicalDevice(name='/physical_device:CPU:0', device_type='CPU'), Type: CPU\n",
      "GPU is not available. CPU will be used for training.\n",
      "Trying lstm_units_1 = 32\n",
      "Trying dropout = 0.4895099386054773\n",
      "Trying lstm_units_2 = 32\n",
      "Trying dropout = 0.4895099386054773\n",
      "Trying dense dropout = 0.4858500330765257\n",
      "Training trial 0\n"
     ]
    },
    {
     "name": "stderr",
     "output_type": "stream",
     "text": [
      "[I 2024-11-30 03:50:43,985] Trial 0 finished with value: 0.9949425458908081 and parameters: {'lstm_units_1': 32, 'dropout': 0.4895099386054773, 'lstm_units_2': 32, 'dropout_dense': 0.4858500330765257}. Best is trial 0 with value: 0.9949425458908081.\n"
     ]
    },
    {
     "name": "stdout",
     "output_type": "stream",
     "text": [
      "Trial 0 - test_loss: 0.9949425458908081, test_mse: 0.9946932792663574\n",
      "Trying lstm_units_1 = 32\n",
      "Trying dropout = 0.3169754485230837\n",
      "Trying lstm_units_2 = 128\n",
      "Trying dropout = 0.3169754485230837\n",
      "Trying dense dropout = 0.49196023881439305\n",
      "Training trial 1\n"
     ]
    },
    {
     "name": "stderr",
     "output_type": "stream",
     "text": [
      "[I 2024-11-30 03:56:53,455] Trial 1 finished with value: 0.9946401715278625 and parameters: {'lstm_units_1': 32, 'dropout': 0.3169754485230837, 'lstm_units_2': 128, 'dropout_dense': 0.49196023881439305}. Best is trial 1 with value: 0.9946401715278625.\n"
     ]
    },
    {
     "name": "stdout",
     "output_type": "stream",
     "text": [
      "Trial 1 - test_loss: 0.9946401715278625, test_mse: 0.994637131690979\n",
      "Trying lstm_units_1 = 64\n",
      "Trying dropout = 0.27060813693455793\n",
      "Trying lstm_units_2 = 128\n",
      "Trying dropout = 0.27060813693455793\n",
      "Trying dense dropout = 0.3835097760169719\n",
      "Training trial 2\n"
     ]
    },
    {
     "name": "stderr",
     "output_type": "stream",
     "text": [
      "[I 2024-11-30 04:04:48,222] Trial 2 finished with value: 0.9946425557136536 and parameters: {'lstm_units_1': 64, 'dropout': 0.27060813693455793, 'lstm_units_2': 128, 'dropout_dense': 0.3835097760169719}. Best is trial 1 with value: 0.9946401715278625.\n"
     ]
    },
    {
     "name": "stdout",
     "output_type": "stream",
     "text": [
      "Trial 2 - test_loss: 0.9946425557136536, test_mse: 0.9946370124816895\n",
      "Trying lstm_units_1 = 32\n",
      "Trying dropout = 0.43256556907479204\n",
      "Trying lstm_units_2 = 128\n",
      "Trying dropout = 0.43256556907479204\n",
      "Trying dense dropout = 0.2458102074531976\n",
      "Training trial 3\n"
     ]
    },
    {
     "name": "stderr",
     "output_type": "stream",
     "text": [
      "[I 2024-11-30 04:10:32,373] Trial 3 finished with value: 0.9946414232254028 and parameters: {'lstm_units_1': 32, 'dropout': 0.43256556907479204, 'lstm_units_2': 128, 'dropout_dense': 0.2458102074531976}. Best is trial 1 with value: 0.9946401715278625.\n"
     ]
    },
    {
     "name": "stdout",
     "output_type": "stream",
     "text": [
      "Trial 3 - test_loss: 0.9946414232254028, test_mse: 0.9946414232254028\n",
      "Trying lstm_units_1 = 32\n",
      "Trying dropout = 0.3116036152445094\n",
      "Trying lstm_units_2 = 128\n",
      "Trying dropout = 0.3116036152445094\n",
      "Trying dense dropout = 0.44274738946248593\n",
      "Training trial 4\n"
     ]
    },
    {
     "name": "stderr",
     "output_type": "stream",
     "text": [
      "[I 2024-11-30 04:14:08,380] Trial 4 finished with value: 0.9837175607681274 and parameters: {'lstm_units_1': 32, 'dropout': 0.3116036152445094, 'lstm_units_2': 128, 'dropout_dense': 0.44274738946248593}. Best is trial 4 with value: 0.9837175607681274.\n"
     ]
    },
    {
     "name": "stdout",
     "output_type": "stream",
     "text": [
      "Trial 4 - test_loss: 0.9837175607681274, test_mse: 0.9823842644691467\n",
      "Trying lstm_units_1 = 128\n",
      "Trying dropout = 0.2616135706736796\n",
      "Trying lstm_units_2 = 96\n",
      "Trying dropout = 0.2616135706736796\n",
      "Trying dense dropout = 0.2207300393175098\n",
      "Training trial 5\n"
     ]
    },
    {
     "name": "stderr",
     "output_type": "stream",
     "text": [
      "[I 2024-11-30 04:14:59,034] Trial 5 finished with value: 1.8406602144241333 and parameters: {'lstm_units_1': 128, 'dropout': 0.2616135706736796, 'lstm_units_2': 96, 'dropout_dense': 0.2207300393175098}. Best is trial 4 with value: 0.9837175607681274.\n"
     ]
    },
    {
     "name": "stdout",
     "output_type": "stream",
     "text": [
      "Trial 5 - test_loss: 1.8406602144241333, test_mse: 1.3353087902069092\n",
      "Trying lstm_units_1 = 128\n",
      "Trying dropout = 0.4371583007080318\n",
      "Trying lstm_units_2 = 128\n",
      "Trying dropout = 0.4371583007080318\n",
      "Trying dense dropout = 0.38989780783241584\n",
      "Training trial 6\n"
     ]
    },
    {
     "name": "stderr",
     "output_type": "stream",
     "text": [
      "[I 2024-11-30 04:19:54,908] Trial 6 finished with value: 0.9951230883598328 and parameters: {'lstm_units_1': 128, 'dropout': 0.4371583007080318, 'lstm_units_2': 128, 'dropout_dense': 0.38989780783241584}. Best is trial 4 with value: 0.9837175607681274.\n"
     ]
    },
    {
     "name": "stdout",
     "output_type": "stream",
     "text": [
      "Trial 6 - test_loss: 0.9951230883598328, test_mse: 0.994704008102417\n",
      "Trying lstm_units_1 = 128\n",
      "Trying dropout = 0.27337650364364013\n",
      "Trying lstm_units_2 = 32\n",
      "Trying dropout = 0.27337650364364013\n",
      "Trying dense dropout = 0.21638755069935267\n",
      "Training trial 7\n"
     ]
    },
    {
     "name": "stderr",
     "output_type": "stream",
     "text": [
      "[I 2024-11-30 04:20:52,085] Trial 7 finished with value: 1.0157831907272339 and parameters: {'lstm_units_1': 128, 'dropout': 0.27337650364364013, 'lstm_units_2': 32, 'dropout_dense': 0.21638755069935267}. Best is trial 4 with value: 0.9837175607681274.\n"
     ]
    },
    {
     "name": "stdout",
     "output_type": "stream",
     "text": [
      "Trial 7 - test_loss: 1.0157831907272339, test_mse: 1.0016049146652222\n",
      "Trying lstm_units_1 = 128\n",
      "Trying dropout = 0.3070587757690997\n",
      "Trying lstm_units_2 = 128\n",
      "Trying dropout = 0.3070587757690997\n",
      "Trying dense dropout = 0.28458869196908787\n",
      "Training trial 8\n"
     ]
    },
    {
     "name": "stderr",
     "output_type": "stream",
     "text": [
      "[I 2024-11-30 04:24:30,505] Trial 8 finished with value: 0.9948821663856506 and parameters: {'lstm_units_1': 128, 'dropout': 0.3070587757690997, 'lstm_units_2': 128, 'dropout_dense': 0.28458869196908787}. Best is trial 4 with value: 0.9837175607681274.\n"
     ]
    },
    {
     "name": "stdout",
     "output_type": "stream",
     "text": [
      "Trial 8 - test_loss: 0.9948821663856506, test_mse: 0.9946390390396118\n",
      "Trying lstm_units_1 = 32\n",
      "Trying dropout = 0.38276352735323393\n",
      "Trying lstm_units_2 = 96\n",
      "Trying dropout = 0.38276352735323393\n",
      "Trying dense dropout = 0.24607689296857566\n",
      "Training trial 9\n"
     ]
    },
    {
     "name": "stderr",
     "output_type": "stream",
     "text": [
      "[I 2024-11-30 04:25:16,458] Trial 9 finished with value: 1.0128977298736572 and parameters: {'lstm_units_1': 32, 'dropout': 0.38276352735323393, 'lstm_units_2': 96, 'dropout_dense': 0.24607689296857566}. Best is trial 4 with value: 0.9837175607681274.\n"
     ]
    },
    {
     "name": "stdout",
     "output_type": "stream",
     "text": [
      "Trial 9 - test_loss: 1.0128977298736572, test_mse: 0.9963199496269226\n",
      "Trying lstm_units_1 = 64\n",
      "Trying dropout = 0.3616807172786424\n",
      "Trying lstm_units_2 = 64\n",
      "Trying dropout = 0.3616807172786424\n",
      "Trying dense dropout = 0.4263381162624777\n",
      "Training trial 10\n"
     ]
    },
    {
     "name": "stderr",
     "output_type": "stream",
     "text": [
      "[I 2024-11-30 04:27:42,718] Trial 10 finished with value: 0.9950663447380066 and parameters: {'lstm_units_1': 64, 'dropout': 0.3616807172786424, 'lstm_units_2': 64, 'dropout_dense': 0.4263381162624777}. Best is trial 4 with value: 0.9837175607681274.\n"
     ]
    },
    {
     "name": "stdout",
     "output_type": "stream",
     "text": [
      "Trial 10 - test_loss: 0.9950663447380066, test_mse: 0.9947929978370667\n",
      "Trying lstm_units_1 = 64\n",
      "Trying dropout = 0.2049114546292913\n",
      "Trying lstm_units_2 = 96\n",
      "Trying dropout = 0.2049114546292913\n",
      "Trying dense dropout = 0.49370120089021724\n",
      "Training trial 11\n"
     ]
    },
    {
     "name": "stderr",
     "output_type": "stream",
     "text": [
      "[I 2024-11-30 04:30:47,974] Trial 11 finished with value: 0.9946382641792297 and parameters: {'lstm_units_1': 64, 'dropout': 0.2049114546292913, 'lstm_units_2': 96, 'dropout_dense': 0.49370120089021724}. Best is trial 4 with value: 0.9837175607681274.\n"
     ]
    },
    {
     "name": "stdout",
     "output_type": "stream",
     "text": [
      "Trial 11 - test_loss: 0.9946382641792297, test_mse: 0.9946382641792297\n",
      "Trying lstm_units_1 = 64\n",
      "Trying dropout = 0.20692595638262937\n",
      "Trying lstm_units_2 = 96\n",
      "Trying dropout = 0.20692595638262937\n",
      "Trying dense dropout = 0.44485243054461326\n",
      "Training trial 12\n"
     ]
    },
    {
     "name": "stderr",
     "output_type": "stream",
     "text": [
      "[I 2024-11-30 04:34:17,873] Trial 12 finished with value: 0.9946436882019043 and parameters: {'lstm_units_1': 64, 'dropout': 0.20692595638262937, 'lstm_units_2': 96, 'dropout_dense': 0.44485243054461326}. Best is trial 4 with value: 0.9837175607681274.\n"
     ]
    },
    {
     "name": "stdout",
     "output_type": "stream",
     "text": [
      "Trial 12 - test_loss: 0.9946436882019043, test_mse: 0.9946436882019043\n",
      "Trying lstm_units_1 = 96\n",
      "Trying dropout = 0.21659526203261836\n",
      "Trying lstm_units_2 = 64\n",
      "Trying dropout = 0.21659526203261836\n",
      "Trying dense dropout = 0.32455013927753734\n",
      "Training trial 13\n"
     ]
    },
    {
     "name": "stderr",
     "output_type": "stream",
     "text": [
      "[I 2024-11-30 04:36:51,832] Trial 13 finished with value: 0.9957793951034546 and parameters: {'lstm_units_1': 96, 'dropout': 0.21659526203261836, 'lstm_units_2': 64, 'dropout_dense': 0.32455013927753734}. Best is trial 4 with value: 0.9837175607681274.\n"
     ]
    },
    {
     "name": "stdout",
     "output_type": "stream",
     "text": [
      "Trial 13 - test_loss: 0.9957793951034546, test_mse: 0.9948004484176636\n",
      "Trying lstm_units_1 = 96\n",
      "Trying dropout = 0.22972635364996535\n",
      "Trying lstm_units_2 = 96\n",
      "Trying dropout = 0.22972635364996535\n",
      "Trying dense dropout = 0.44776683252322663\n",
      "Training trial 14\n"
     ]
    },
    {
     "name": "stderr",
     "output_type": "stream",
     "text": [
      "[I 2024-11-30 04:37:39,144] Trial 14 finished with value: 1.0906909704208374 and parameters: {'lstm_units_1': 96, 'dropout': 0.22972635364996535, 'lstm_units_2': 96, 'dropout_dense': 0.44776683252322663}. Best is trial 4 with value: 0.9837175607681274.\n"
     ]
    },
    {
     "name": "stdout",
     "output_type": "stream",
     "text": [
      "Trial 14 - test_loss: 1.0906909704208374, test_mse: 0.9951423406600952\n",
      "Trying lstm_units_1 = 64\n",
      "Trying dropout = 0.332028319234338\n",
      "Trying lstm_units_2 = 64\n",
      "Trying dropout = 0.332028319234338\n",
      "Trying dense dropout = 0.49411739599523\n",
      "Training trial 15\n"
     ]
    },
    {
     "name": "stderr",
     "output_type": "stream",
     "text": [
      "[I 2024-11-30 04:40:17,259] Trial 15 finished with value: 0.9958454966545105 and parameters: {'lstm_units_1': 64, 'dropout': 0.332028319234338, 'lstm_units_2': 64, 'dropout_dense': 0.49411739599523}. Best is trial 4 with value: 0.9837175607681274.\n"
     ]
    },
    {
     "name": "stdout",
     "output_type": "stream",
     "text": [
      "Trial 15 - test_loss: 0.9958454966545105, test_mse: 0.9947534799575806\n",
      "Trying lstm_units_1 = 96\n",
      "Trying dropout = 0.397304238781746\n",
      "Trying lstm_units_2 = 96\n",
      "Trying dropout = 0.397304238781746\n",
      "Trying dense dropout = 0.40336789217964764\n",
      "Training trial 16\n"
     ]
    },
    {
     "name": "stderr",
     "output_type": "stream",
     "text": [
      "[I 2024-11-30 04:44:00,956] Trial 16 finished with value: 0.9946528673171997 and parameters: {'lstm_units_1': 96, 'dropout': 0.397304238781746, 'lstm_units_2': 96, 'dropout_dense': 0.40336789217964764}. Best is trial 4 with value: 0.9837175607681274.\n"
     ]
    },
    {
     "name": "stdout",
     "output_type": "stream",
     "text": [
      "Trial 16 - test_loss: 0.9946528673171997, test_mse: 0.9946528673171997\n",
      "Trying lstm_units_1 = 32\n",
      "Trying dropout = 0.2476727612610093\n",
      "Trying lstm_units_2 = 128\n",
      "Trying dropout = 0.2476727612610093\n",
      "Trying dense dropout = 0.35179944573161387\n",
      "Training trial 17\n"
     ]
    },
    {
     "name": "stderr",
     "output_type": "stream",
     "text": [
      "[I 2024-11-30 04:47:32,037] Trial 17 finished with value: 0.9946381449699402 and parameters: {'lstm_units_1': 32, 'dropout': 0.2476727612610093, 'lstm_units_2': 128, 'dropout_dense': 0.35179944573161387}. Best is trial 4 with value: 0.9837175607681274.\n"
     ]
    },
    {
     "name": "stdout",
     "output_type": "stream",
     "text": [
      "Trial 17 - test_loss: 0.9946381449699402, test_mse: 0.9946381449699402\n",
      "Trying lstm_units_1 = 32\n",
      "Trying dropout = 0.30271372817938674\n",
      "Trying lstm_units_2 = 128\n",
      "Trying dropout = 0.30271372817938674\n",
      "Trying dense dropout = 0.34539223681780373\n",
      "Training trial 18\n"
     ]
    },
    {
     "name": "stderr",
     "output_type": "stream",
     "text": [
      "[I 2024-11-30 04:50:54,326] Trial 18 finished with value: 0.994655430316925 and parameters: {'lstm_units_1': 32, 'dropout': 0.30271372817938674, 'lstm_units_2': 128, 'dropout_dense': 0.34539223681780373}. Best is trial 4 with value: 0.9837175607681274.\n"
     ]
    },
    {
     "name": "stdout",
     "output_type": "stream",
     "text": [
      "Trial 18 - test_loss: 0.994655430316925, test_mse: 0.9946392774581909\n",
      "Trying lstm_units_1 = 32\n",
      "Trying dropout = 0.240676936230717\n",
      "Trying lstm_units_2 = 128\n",
      "Trying dropout = 0.240676936230717\n",
      "Trying dense dropout = 0.3189015620987058\n",
      "Training trial 19\n"
     ]
    },
    {
     "name": "stderr",
     "output_type": "stream",
     "text": [
      "[I 2024-11-30 04:51:49,000] Trial 19 finished with value: 0.9995898604393005 and parameters: {'lstm_units_1': 32, 'dropout': 0.240676936230717, 'lstm_units_2': 128, 'dropout_dense': 0.3189015620987058}. Best is trial 4 with value: 0.9837175607681274.\n"
     ]
    },
    {
     "name": "stdout",
     "output_type": "stream",
     "text": [
      "Trial 19 - test_loss: 0.9995898604393005, test_mse: 0.9856762290000916\n",
      "Trying lstm_units_1 = 32\n",
      "Trying dropout = 0.2928603780083958\n",
      "Trying lstm_units_2 = 128\n",
      "Trying dropout = 0.2928603780083958\n",
      "Trying dense dropout = 0.35866108741588787\n",
      "Training trial 20\n"
     ]
    },
    {
     "name": "stderr",
     "output_type": "stream",
     "text": [
      "[I 2024-11-30 04:54:50,755] Trial 20 finished with value: 0.994637668132782 and parameters: {'lstm_units_1': 32, 'dropout': 0.2928603780083958, 'lstm_units_2': 128, 'dropout_dense': 0.35866108741588787}. Best is trial 4 with value: 0.9837175607681274.\n"
     ]
    },
    {
     "name": "stdout",
     "output_type": "stream",
     "text": [
      "Trial 20 - test_loss: 0.994637668132782, test_mse: 0.994637668132782\n",
      "Trying lstm_units_1 = 32\n",
      "Trying dropout = 0.28337815004622197\n",
      "Trying lstm_units_2 = 128\n",
      "Trying dropout = 0.28337815004622197\n",
      "Trying dense dropout = 0.3591229637616288\n",
      "Training trial 21\n"
     ]
    },
    {
     "name": "stderr",
     "output_type": "stream",
     "text": [
      "[I 2024-11-30 04:57:50,869] Trial 21 finished with value: 0.994657039642334 and parameters: {'lstm_units_1': 32, 'dropout': 0.28337815004622197, 'lstm_units_2': 128, 'dropout_dense': 0.3591229637616288}. Best is trial 4 with value: 0.9837175607681274.\n"
     ]
    },
    {
     "name": "stdout",
     "output_type": "stream",
     "text": [
      "Trial 21 - test_loss: 0.994657039642334, test_mse: 0.9946566820144653\n",
      "Trying lstm_units_1 = 32\n",
      "Trying dropout = 0.3399138748433523\n",
      "Trying lstm_units_2 = 128\n",
      "Trying dropout = 0.3399138748433523\n",
      "Trying dense dropout = 0.29264971023109393\n",
      "Training trial 22\n"
     ]
    },
    {
     "name": "stderr",
     "output_type": "stream",
     "text": [
      "[I 2024-11-30 04:59:02,966] Trial 22 finished with value: 0.9943686127662659 and parameters: {'lstm_units_1': 32, 'dropout': 0.3399138748433523, 'lstm_units_2': 128, 'dropout_dense': 0.29264971023109393}. Best is trial 4 with value: 0.9837175607681274.\n"
     ]
    },
    {
     "name": "stdout",
     "output_type": "stream",
     "text": [
      "Trial 22 - test_loss: 0.9943686127662659, test_mse: 0.9892814755439758\n",
      "Trying lstm_units_1 = 64\n",
      "Trying dropout = 0.3441605057125154\n",
      "Trying lstm_units_2 = 128\n",
      "Trying dropout = 0.3441605057125154\n",
      "Trying dense dropout = 0.2873935940909555\n",
      "Training trial 23\n"
     ]
    },
    {
     "name": "stderr",
     "output_type": "stream",
     "text": [
      "[I 2024-11-30 05:02:54,294] Trial 23 finished with value: 0.9949972033500671 and parameters: {'lstm_units_1': 64, 'dropout': 0.3441605057125154, 'lstm_units_2': 128, 'dropout_dense': 0.2873935940909555}. Best is trial 4 with value: 0.9837175607681274.\n"
     ]
    },
    {
     "name": "stdout",
     "output_type": "stream",
     "text": [
      "Trial 23 - test_loss: 0.9949972033500671, test_mse: 0.9946936964988708\n",
      "Trying lstm_units_1 = 32\n",
      "Trying dropout = 0.3630256705640839\n",
      "Trying lstm_units_2 = 96\n",
      "Trying dropout = 0.3630256705640839\n",
      "Trying dense dropout = 0.29398463363429717\n",
      "Training trial 24\n"
     ]
    },
    {
     "name": "stderr",
     "output_type": "stream",
     "text": [
      "[I 2024-11-30 05:07:32,242] Trial 24 finished with value: 0.995658814907074 and parameters: {'lstm_units_1': 32, 'dropout': 0.3630256705640839, 'lstm_units_2': 96, 'dropout_dense': 0.29398463363429717}. Best is trial 4 with value: 0.9837175607681274.\n"
     ]
    },
    {
     "name": "stdout",
     "output_type": "stream",
     "text": [
      "Trial 24 - test_loss: 0.995658814907074, test_mse: 0.9946390390396118\n",
      "Trying lstm_units_1 = 32\n",
      "Trying dropout = 0.2909009865447213\n",
      "Trying lstm_units_2 = 128\n",
      "Trying dropout = 0.2909009865447213\n",
      "Trying dense dropout = 0.26693890702226475\n",
      "Training trial 25\n"
     ]
    },
    {
     "name": "stderr",
     "output_type": "stream",
     "text": [
      "[I 2024-11-30 05:09:27,353] Trial 25 finished with value: 1.0045973062515259 and parameters: {'lstm_units_1': 32, 'dropout': 0.2909009865447213, 'lstm_units_2': 128, 'dropout_dense': 0.26693890702226475}. Best is trial 4 with value: 0.9837175607681274.\n"
     ]
    },
    {
     "name": "stdout",
     "output_type": "stream",
     "text": [
      "Trial 25 - test_loss: 1.0045973062515259, test_mse: 0.9946262240409851\n",
      "Trying lstm_units_1 = 64\n",
      "Trying dropout = 0.3231236703510671\n",
      "Trying lstm_units_2 = 96\n",
      "Trying dropout = 0.3231236703510671\n",
      "Trying dense dropout = 0.3168686657749668\n",
      "Training trial 26\n"
     ]
    },
    {
     "name": "stderr",
     "output_type": "stream",
     "text": [
      "[I 2024-11-30 05:11:15,837] Trial 26 finished with value: 1.070147156715393 and parameters: {'lstm_units_1': 64, 'dropout': 0.3231236703510671, 'lstm_units_2': 96, 'dropout_dense': 0.3168686657749668}. Best is trial 4 with value: 0.9837175607681274.\n"
     ]
    },
    {
     "name": "stdout",
     "output_type": "stream",
     "text": [
      "Trial 26 - test_loss: 1.070147156715393, test_mse: 1.0484187602996826\n",
      "Trying lstm_units_1 = 32\n",
      "Trying dropout = 0.40749673140910364\n",
      "Trying lstm_units_2 = 128\n",
      "Trying dropout = 0.40749673140910364\n",
      "Trying dense dropout = 0.4592095006991852\n",
      "Training trial 27\n"
     ]
    },
    {
     "name": "stderr",
     "output_type": "stream",
     "text": [
      "[I 2024-11-30 05:19:15,215] Trial 27 finished with value: 0.994640052318573 and parameters: {'lstm_units_1': 32, 'dropout': 0.40749673140910364, 'lstm_units_2': 128, 'dropout_dense': 0.4592095006991852}. Best is trial 4 with value: 0.9837175607681274.\n"
     ]
    },
    {
     "name": "stdout",
     "output_type": "stream",
     "text": [
      "Trial 27 - test_loss: 0.994640052318573, test_mse: 0.9946379065513611\n",
      "Trying lstm_units_1 = 64\n",
      "Trying dropout = 0.341861228192396\n",
      "Trying lstm_units_2 = 64\n",
      "Trying dropout = 0.341861228192396\n",
      "Trying dense dropout = 0.4055955617553106\n",
      "Training trial 28\n"
     ]
    },
    {
     "name": "stderr",
     "output_type": "stream",
     "text": [
      "[I 2024-11-30 05:23:48,410] Trial 28 finished with value: 0.9946837425231934 and parameters: {'lstm_units_1': 64, 'dropout': 0.341861228192396, 'lstm_units_2': 64, 'dropout_dense': 0.4055955617553106}. Best is trial 4 with value: 0.9837175607681274.\n"
     ]
    },
    {
     "name": "stdout",
     "output_type": "stream",
     "text": [
      "Trial 28 - test_loss: 0.9946837425231934, test_mse: 0.9946734309196472\n",
      "Trying lstm_units_1 = 32\n",
      "Trying dropout = 0.4963077777864033\n",
      "Trying lstm_units_2 = 128\n",
      "Trying dropout = 0.4963077777864033\n",
      "Trying dense dropout = 0.4663045372358148\n",
      "Training trial 29\n"
     ]
    },
    {
     "name": "stderr",
     "output_type": "stream",
     "text": [
      "[I 2024-11-30 05:24:53,007] Trial 29 finished with value: 38.91996383666992 and parameters: {'lstm_units_1': 32, 'dropout': 0.4963077777864033, 'lstm_units_2': 128, 'dropout_dense': 0.4663045372358148}. Best is trial 4 with value: 0.9837175607681274.\n"
     ]
    },
    {
     "name": "stdout",
     "output_type": "stream",
     "text": [
      "Trial 29 - test_loss: 38.91996383666992, test_mse: 38.65562057495117\n",
      "Trying lstm_units_1 = 32\n",
      "Trying dropout = 0.4608957124457042\n",
      "Trying lstm_units_2 = 32\n",
      "Trying dropout = 0.4608957124457042\n",
      "Trying dense dropout = 0.3637733262982749\n",
      "Training trial 30\n"
     ]
    },
    {
     "name": "stderr",
     "output_type": "stream",
     "text": [
      "[I 2024-11-30 05:28:58,321] Trial 30 finished with value: 0.9948394894599915 and parameters: {'lstm_units_1': 32, 'dropout': 0.4608957124457042, 'lstm_units_2': 32, 'dropout_dense': 0.3637733262982749}. Best is trial 4 with value: 0.9837175607681274.\n"
     ]
    },
    {
     "name": "stdout",
     "output_type": "stream",
     "text": [
      "Trial 30 - test_loss: 0.9948394894599915, test_mse: 0.9946433305740356\n",
      "Trying lstm_units_1 = 32\n",
      "Trying dropout = 0.24612332693644032\n",
      "Trying lstm_units_2 = 128\n",
      "Trying dropout = 0.24612332693644032\n",
      "Trying dense dropout = 0.33722535268125764\n",
      "Training trial 31\n"
     ]
    },
    {
     "name": "stderr",
     "output_type": "stream",
     "text": [
      "[I 2024-11-30 05:33:59,766] Trial 31 finished with value: 0.994667649269104 and parameters: {'lstm_units_1': 32, 'dropout': 0.24612332693644032, 'lstm_units_2': 128, 'dropout_dense': 0.33722535268125764}. Best is trial 4 with value: 0.9837175607681274.\n"
     ]
    },
    {
     "name": "stdout",
     "output_type": "stream",
     "text": [
      "Trial 31 - test_loss: 0.994667649269104, test_mse: 0.9946432113647461\n",
      "Trying lstm_units_1 = 32\n",
      "Trying dropout = 0.2590804039815847\n",
      "Trying lstm_units_2 = 128\n",
      "Trying dropout = 0.2590804039815847\n",
      "Trying dense dropout = 0.37289322868202357\n",
      "Training trial 32\n"
     ]
    },
    {
     "name": "stderr",
     "output_type": "stream",
     "text": [
      "[I 2024-11-30 05:40:16,154] Trial 32 finished with value: 0.9946489930152893 and parameters: {'lstm_units_1': 32, 'dropout': 0.2590804039815847, 'lstm_units_2': 128, 'dropout_dense': 0.37289322868202357}. Best is trial 4 with value: 0.9837175607681274.\n"
     ]
    },
    {
     "name": "stdout",
     "output_type": "stream",
     "text": [
      "Trial 32 - test_loss: 0.9946489930152893, test_mse: 0.9946489930152893\n",
      "Trying lstm_units_1 = 32\n",
      "Trying dropout = 0.29872269207665514\n",
      "Trying lstm_units_2 = 128\n",
      "Trying dropout = 0.29872269207665514\n",
      "Trying dense dropout = 0.4212045128399287\n",
      "Training trial 33\n"
     ]
    },
    {
     "name": "stderr",
     "output_type": "stream",
     "text": [
      "[I 2024-11-30 05:41:24,700] Trial 33 finished with value: 1.2173062562942505 and parameters: {'lstm_units_1': 32, 'dropout': 0.29872269207665514, 'lstm_units_2': 128, 'dropout_dense': 0.4212045128399287}. Best is trial 4 with value: 0.9837175607681274.\n"
     ]
    },
    {
     "name": "stdout",
     "output_type": "stream",
     "text": [
      "Trial 33 - test_loss: 1.2173062562942505, test_mse: 1.070685863494873\n",
      "Trying lstm_units_1 = 32\n",
      "Trying dropout = 0.3181086928074398\n",
      "Trying lstm_units_2 = 128\n",
      "Trying dropout = 0.3181086928074398\n",
      "Trying dense dropout = 0.29946311677372384\n",
      "Training trial 34\n"
     ]
    },
    {
     "name": "stderr",
     "output_type": "stream",
     "text": [
      "[I 2024-11-30 05:47:21,089] Trial 34 finished with value: 0.9946442246437073 and parameters: {'lstm_units_1': 32, 'dropout': 0.3181086928074398, 'lstm_units_2': 128, 'dropout_dense': 0.29946311677372384}. Best is trial 4 with value: 0.9837175607681274.\n"
     ]
    },
    {
     "name": "stdout",
     "output_type": "stream",
     "text": [
      "Trial 34 - test_loss: 0.9946442246437073, test_mse: 0.9946419596672058\n",
      "Trying lstm_units_1 = 32\n",
      "Trying dropout = 0.2800816853203316\n",
      "Trying lstm_units_2 = 128\n",
      "Trying dropout = 0.2800816853203316\n",
      "Trying dense dropout = 0.26577844427671876\n",
      "Training trial 35\n"
     ]
    },
    {
     "name": "stderr",
     "output_type": "stream",
     "text": [
      "[I 2024-11-30 05:52:54,467] Trial 35 finished with value: 0.9946706295013428 and parameters: {'lstm_units_1': 32, 'dropout': 0.2800816853203316, 'lstm_units_2': 128, 'dropout_dense': 0.26577844427671876}. Best is trial 4 with value: 0.9837175607681274.\n"
     ]
    },
    {
     "name": "stdout",
     "output_type": "stream",
     "text": [
      "Trial 35 - test_loss: 0.9946706295013428, test_mse: 0.9946568012237549\n",
      "Trying lstm_units_1 = 64\n",
      "Trying dropout = 0.3655195737608628\n",
      "Trying lstm_units_2 = 96\n",
      "Trying dropout = 0.3655195737608628\n",
      "Trying dense dropout = 0.2010920968923708\n",
      "Training trial 36\n"
     ]
    },
    {
     "name": "stderr",
     "output_type": "stream",
     "text": [
      "[I 2024-11-30 05:57:11,441] Trial 36 finished with value: 0.9950684905052185 and parameters: {'lstm_units_1': 64, 'dropout': 0.3655195737608628, 'lstm_units_2': 96, 'dropout_dense': 0.2010920968923708}. Best is trial 4 with value: 0.9837175607681274.\n"
     ]
    },
    {
     "name": "stdout",
     "output_type": "stream",
     "text": [
      "Trial 36 - test_loss: 0.9950684905052185, test_mse: 0.9949023127555847\n",
      "Trying lstm_units_1 = 32\n",
      "Trying dropout = 0.31452395489850454\n",
      "Trying lstm_units_2 = 128\n",
      "Trying dropout = 0.31452395489850454\n",
      "Trying dense dropout = 0.38037162351088305\n",
      "Training trial 37\n"
     ]
    },
    {
     "name": "stderr",
     "output_type": "stream",
     "text": [
      "[I 2024-11-30 06:02:37,528] Trial 37 finished with value: 0.9946547746658325 and parameters: {'lstm_units_1': 32, 'dropout': 0.31452395489850454, 'lstm_units_2': 128, 'dropout_dense': 0.38037162351088305}. Best is trial 4 with value: 0.9837175607681274.\n"
     ]
    },
    {
     "name": "stdout",
     "output_type": "stream",
     "text": [
      "Trial 37 - test_loss: 0.9946547746658325, test_mse: 0.9946483373641968\n",
      "Trying lstm_units_1 = 32\n",
      "Trying dropout = 0.2568472097269752\n",
      "Trying lstm_units_2 = 128\n",
      "Trying dropout = 0.2568472097269752\n",
      "Trying dense dropout = 0.3374525490757419\n",
      "Training trial 38\n"
     ]
    },
    {
     "name": "stderr",
     "output_type": "stream",
     "text": [
      "[I 2024-11-30 06:09:02,727] Trial 38 finished with value: 0.9946415424346924 and parameters: {'lstm_units_1': 32, 'dropout': 0.2568472097269752, 'lstm_units_2': 128, 'dropout_dense': 0.3374525490757419}. Best is trial 4 with value: 0.9837175607681274.\n"
     ]
    },
    {
     "name": "stdout",
     "output_type": "stream",
     "text": [
      "Trial 38 - test_loss: 0.9946415424346924, test_mse: 0.9946415424346924\n",
      "Trying lstm_units_1 = 64\n",
      "Trying dropout = 0.2677283746824599\n",
      "Trying lstm_units_2 = 96\n",
      "Trying dropout = 0.2677283746824599\n",
      "Trying dense dropout = 0.39346914578079667\n",
      "Training trial 39\n"
     ]
    },
    {
     "name": "stderr",
     "output_type": "stream",
     "text": [
      "[I 2024-11-30 06:15:03,386] Trial 39 finished with value: 0.9946609735488892 and parameters: {'lstm_units_1': 64, 'dropout': 0.2677283746824599, 'lstm_units_2': 96, 'dropout_dense': 0.39346914578079667}. Best is trial 4 with value: 0.9837175607681274.\n"
     ]
    },
    {
     "name": "stdout",
     "output_type": "stream",
     "text": [
      "Trial 39 - test_loss: 0.9946609735488892, test_mse: 0.9946389198303223\n",
      "Trying lstm_units_1 = 32\n",
      "Trying dropout = 0.22771192381442412\n",
      "Trying lstm_units_2 = 128\n",
      "Trying dropout = 0.22771192381442412\n",
      "Trying dense dropout = 0.24642132015853346\n",
      "Training trial 40\n"
     ]
    },
    {
     "name": "stderr",
     "output_type": "stream",
     "text": [
      "[I 2024-11-30 06:19:47,055] Trial 40 finished with value: 0.9946653842926025 and parameters: {'lstm_units_1': 32, 'dropout': 0.22771192381442412, 'lstm_units_2': 128, 'dropout_dense': 0.24642132015853346}. Best is trial 4 with value: 0.9837175607681274.\n"
     ]
    },
    {
     "name": "stdout",
     "output_type": "stream",
     "text": [
      "Trial 40 - test_loss: 0.9946653842926025, test_mse: 0.994644820690155\n",
      "Trying lstm_units_1 = 64\n",
      "Trying dropout = 0.20032635275603863\n",
      "Trying lstm_units_2 = 96\n",
      "Trying dropout = 0.20032635275603863\n",
      "Trying dense dropout = 0.4772371042423609\n",
      "Training trial 41\n"
     ]
    },
    {
     "name": "stderr",
     "output_type": "stream",
     "text": [
      "[I 2024-11-30 06:24:52,613] Trial 41 finished with value: 0.9947226047515869 and parameters: {'lstm_units_1': 64, 'dropout': 0.20032635275603863, 'lstm_units_2': 96, 'dropout_dense': 0.4772371042423609}. Best is trial 4 with value: 0.9837175607681274.\n"
     ]
    },
    {
     "name": "stdout",
     "output_type": "stream",
     "text": [
      "Trial 41 - test_loss: 0.9947226047515869, test_mse: 0.9946644902229309\n",
      "Trying lstm_units_1 = 96\n",
      "Trying dropout = 0.22086845377879488\n",
      "Trying lstm_units_2 = 128\n",
      "Trying dropout = 0.22086845377879488\n",
      "Trying dense dropout = 0.4844258363997561\n",
      "Training trial 42\n"
     ]
    },
    {
     "name": "stderr",
     "output_type": "stream",
     "text": [
      "[I 2024-11-30 06:32:32,781] Trial 42 finished with value: 0.9946374297142029 and parameters: {'lstm_units_1': 96, 'dropout': 0.22086845377879488, 'lstm_units_2': 128, 'dropout_dense': 0.4844258363997561}. Best is trial 4 with value: 0.9837175607681274.\n"
     ]
    },
    {
     "name": "stdout",
     "output_type": "stream",
     "text": [
      "Trial 42 - test_loss: 0.9946374297142029, test_mse: 0.9946366548538208\n",
      "Trying lstm_units_1 = 96\n",
      "Trying dropout = 0.2235321807650497\n",
      "Trying lstm_units_2 = 128\n",
      "Trying dropout = 0.2235321807650497\n",
      "Trying dense dropout = 0.4282995009768297\n",
      "Training trial 43\n"
     ]
    },
    {
     "name": "stderr",
     "output_type": "stream",
     "text": [
      "[I 2024-11-30 06:34:24,431] Trial 43 finished with value: 1.1116299629211426 and parameters: {'lstm_units_1': 96, 'dropout': 0.2235321807650497, 'lstm_units_2': 128, 'dropout_dense': 0.4282995009768297}. Best is trial 4 with value: 0.9837175607681274.\n"
     ]
    },
    {
     "name": "stdout",
     "output_type": "stream",
     "text": [
      "Trial 43 - test_loss: 1.1116299629211426, test_mse: 1.0024064779281616\n",
      "Trying lstm_units_1 = 96\n",
      "Trying dropout = 0.24470417318731646\n",
      "Trying lstm_units_2 = 128\n",
      "Trying dropout = 0.24470417318731646\n",
      "Trying dense dropout = 0.48246928615454365\n",
      "Training trial 44\n"
     ]
    },
    {
     "name": "stderr",
     "output_type": "stream",
     "text": [
      "[I 2024-11-30 06:41:14,348] Trial 44 finished with value: 0.9946427941322327 and parameters: {'lstm_units_1': 96, 'dropout': 0.24470417318731646, 'lstm_units_2': 128, 'dropout_dense': 0.48246928615454365}. Best is trial 4 with value: 0.9837175607681274.\n"
     ]
    },
    {
     "name": "stdout",
     "output_type": "stream",
     "text": [
      "Trial 44 - test_loss: 0.9946427941322327, test_mse: 0.9946427941322327\n",
      "Trying lstm_units_1 = 128\n",
      "Trying dropout = 0.28914833467304174\n",
      "Trying lstm_units_2 = 128\n",
      "Trying dropout = 0.28914833467304174\n",
      "Trying dense dropout = 0.30797055889093944\n",
      "Training trial 45\n"
     ]
    },
    {
     "name": "stderr",
     "output_type": "stream",
     "text": [
      "[I 2024-11-30 06:53:20,926] Trial 45 finished with value: 0.994640052318573 and parameters: {'lstm_units_1': 128, 'dropout': 0.28914833467304174, 'lstm_units_2': 128, 'dropout_dense': 0.30797055889093944}. Best is trial 4 with value: 0.9837175607681274.\n"
     ]
    },
    {
     "name": "stdout",
     "output_type": "stream",
     "text": [
      "Trial 45 - test_loss: 0.994640052318573, test_mse: 0.99463951587677\n",
      "Trying lstm_units_1 = 96\n",
      "Trying dropout = 0.3320726604939783\n",
      "Trying lstm_units_2 = 128\n",
      "Trying dropout = 0.3320726604939783\n",
      "Trying dense dropout = 0.4397201857293342\n",
      "Training trial 46\n"
     ]
    },
    {
     "name": "stderr",
     "output_type": "stream",
     "text": [
      "[I 2024-11-30 07:01:40,391] Trial 46 finished with value: 0.9946380257606506 and parameters: {'lstm_units_1': 96, 'dropout': 0.3320726604939783, 'lstm_units_2': 128, 'dropout_dense': 0.4397201857293342}. Best is trial 4 with value: 0.9837175607681274.\n"
     ]
    },
    {
     "name": "stdout",
     "output_type": "stream",
     "text": [
      "Trial 46 - test_loss: 0.9946380257606506, test_mse: 0.9946380257606506\n",
      "Trying lstm_units_1 = 96\n",
      "Trying dropout = 0.3740959079550355\n",
      "Trying lstm_units_2 = 32\n",
      "Trying dropout = 0.3740959079550355\n",
      "Trying dense dropout = 0.4357804706771684\n",
      "Training trial 47\n"
     ]
    },
    {
     "name": "stderr",
     "output_type": "stream",
     "text": [
      "[I 2024-11-30 07:05:42,487] Trial 47 finished with value: 0.9961532950401306 and parameters: {'lstm_units_1': 96, 'dropout': 0.3740959079550355, 'lstm_units_2': 32, 'dropout_dense': 0.4357804706771684}. Best is trial 4 with value: 0.9837175607681274.\n"
     ]
    },
    {
     "name": "stdout",
     "output_type": "stream",
     "text": [
      "Trial 47 - test_loss: 0.9961532950401306, test_mse: 0.9946945905685425\n",
      "Trying lstm_units_1 = 96\n",
      "Trying dropout = 0.33059835000058185\n",
      "Trying lstm_units_2 = 128\n",
      "Trying dropout = 0.33059835000058185\n",
      "Trying dense dropout = 0.4612423106393342\n",
      "Training trial 48\n"
     ]
    },
    {
     "name": "stderr",
     "output_type": "stream",
     "text": [
      "[I 2024-11-30 07:13:19,468] Trial 48 finished with value: 0.9946451783180237 and parameters: {'lstm_units_1': 96, 'dropout': 0.33059835000058185, 'lstm_units_2': 128, 'dropout_dense': 0.4612423106393342}. Best is trial 4 with value: 0.9837175607681274.\n"
     ]
    },
    {
     "name": "stdout",
     "output_type": "stream",
     "text": [
      "Trial 48 - test_loss: 0.9946451783180237, test_mse: 0.9946373105049133\n",
      "Trying lstm_units_1 = 96\n",
      "Trying dropout = 0.33716174554726885\n",
      "Trying lstm_units_2 = 96\n",
      "Trying dropout = 0.33716174554726885\n",
      "Trying dense dropout = 0.41396273669382105\n",
      "Training trial 49\n"
     ]
    },
    {
     "name": "stderr",
     "output_type": "stream",
     "text": [
      "[I 2024-11-30 07:19:23,660] Trial 49 finished with value: 0.9953534603118896 and parameters: {'lstm_units_1': 96, 'dropout': 0.33716174554726885, 'lstm_units_2': 96, 'dropout_dense': 0.41396273669382105}. Best is trial 4 with value: 0.9837175607681274.\n"
     ]
    },
    {
     "name": "stdout",
     "output_type": "stream",
     "text": [
      "Trial 49 - test_loss: 0.9953534603118896, test_mse: 0.9946703910827637\n",
      "Best hyperparameters: {'lstm_units_1': 32, 'dropout': 0.3116036152445094, 'lstm_units_2': 128, 'dropout_dense': 0.44274738946248593}\n",
      "Best trial: 4\n",
      "Best trial value: 0.9837175607681274\n",
      "Best trial parameters: {'lstm_units_1': 32, 'dropout': 0.3116036152445094, 'lstm_units_2': 128, 'dropout_dense': 0.44274738946248593}\n"
     ]
    }
   ],
   "source": [
    "import optuna\n",
    "from tensorflow.keras import regularizers\n",
    "from tensorflow.keras.models import Sequential\n",
    "from tensorflow.keras.layers import LSTM, Dense, Dropout, BatchNormalization\n",
    "import tensorflow as tf\n",
    "\n",
    "# Функция для проверки устройства, которое используется\n",
    "def get_device_info():\n",
    "    physical_devices = tf.config.list_physical_devices()\n",
    "    for device in physical_devices:\n",
    "        print(f\"Device: {device}, Type: {device.device_type}\")\n",
    "    # Если доступен GPU, его информация будет выведена\n",
    "    if tf.config.list_physical_devices('GPU'):\n",
    "        print(\"GPU is available and will be used for training.\")\n",
    "    else:\n",
    "        print(\"GPU is not available. CPU will be used for training.\")\n",
    "\n",
    "# Выводим информацию о доступных устройствах (GPU или CPU)\n",
    "get_device_info()\n",
    "\n",
    "# Настроим Optuna для логирования\n",
    "optuna.logging.set_verbosity(optuna.logging.INFO)\n",
    "\n",
    "def create_model(trial):\n",
    "    # Примерный процесс создания модели с использованием trial (кандидатных гиперпараметров)\n",
    "    model = Sequential()\n",
    "\n",
    "    # Выбор количества нейронов в первом LSTM слое\n",
    "    lstm_units_1 = trial.suggest_int('lstm_units_1', 32, 128, step=32)\n",
    "    print(f\"Trying lstm_units_1 = {lstm_units_1}\")\n",
    "    model.add(LSTM(lstm_units_1, activation='relu', input_shape=(X_train.shape[1], X_train.shape[2]), return_sequences=True,\n",
    "                   kernel_regularizer=regularizers.l2(0.01)))\n",
    "    model.add(BatchNormalization())\n",
    "    dropout_1 = trial.suggest_float('dropout', 0.2, 0.5)\n",
    "    print(f\"Trying dropout = {dropout_1}\")\n",
    "    model.add(Dropout(dropout_1))\n",
    "\n",
    "    # Выбор количества нейронов во втором LSTM слое\n",
    "    lstm_units_2 = trial.suggest_int('lstm_units_2', 32, 128, step=32)\n",
    "    print(f\"Trying lstm_units_2 = {lstm_units_2}\")\n",
    "    model.add(LSTM(lstm_units_2, activation='relu', return_sequences=False, kernel_regularizer=regularizers.l2(0.01)))\n",
    "    model.add(BatchNormalization())\n",
    "    dropout_2 = trial.suggest_float('dropout', 0.2, 0.5)\n",
    "    print(f\"Trying dropout = {dropout_2}\")\n",
    "    model.add(Dropout(dropout_2))\n",
    "\n",
    "    # Добавляем Dense слой\n",
    "    dense_dropout = trial.suggest_float('dropout_dense', 0.2, 0.5)\n",
    "    print(f\"Trying dense dropout = {dense_dropout}\")\n",
    "    model.add(Dense(32, activation='relu'))\n",
    "    model.add(Dropout(dense_dropout))\n",
    "\n",
    "    # Выходной слой\n",
    "    model.add(Dense(1))\n",
    "\n",
    "    model.compile(optimizer='adam', loss='mse', metrics=['mse'])\n",
    "    return model\n",
    "\n",
    "def objective(trial):\n",
    "    # Создаем модель с гиперпараметрами, выбранными с помощью Optuna\n",
    "    model = create_model(trial)\n",
    "    \n",
    "    # Используем EarlyStopping, чтобы избежать переобучения\n",
    "    early_stopping = tf.keras.callbacks.EarlyStopping(monitor='val_loss', patience=5, restore_best_weights=True)\n",
    "    \n",
    "    # Обучаем модель\n",
    "    print(f\"Training trial {trial.number}\")\n",
    "    history = model.fit(X_train, y_train, epochs=50, batch_size=32, validation_data=(X_test, y_test), \n",
    "                        callbacks=[early_stopping], verbose=0)\n",
    "    \n",
    "    # Оцениваем модель на тестовых данных\n",
    "    test_loss, test_mse = model.evaluate(X_test, y_test, verbose=0)\n",
    "    print(f\"Trial {trial.number} - test_loss: {test_loss}, test_mse: {test_mse}\")\n",
    "    \n",
    "    # Возвращаем потери, которые будут минимизировать Optuna\n",
    "    return test_loss\n",
    "\n",
    "# Создаем объект study для поиска гиперпараметров\n",
    "study = optuna.create_study(direction='minimize')\n",
    "\n",
    "# Запускаем поиск\n",
    "study.optimize(objective, n_trials=50)  # пробуем 50 разных комбинаций гиперпараметров\n",
    "\n",
    "# Выводим лучшие гиперпараметры\n",
    "print(f\"Best hyperparameters: {study.best_params}\")\n",
    "\n",
    "# Выводим детали о лучшем trial\n",
    "best_trial = study.best_trial\n",
    "print(f\"Best trial: {best_trial.number}\")\n",
    "print(f\"Best trial value: {best_trial.value}\")\n",
    "print(f\"Best trial parameters: {best_trial.params}\")\n"
   ]
  },
  {
   "cell_type": "code",
   "execution_count": null,
   "metadata": {},
   "outputs": [],
   "source": [
    "model.compile(optimizer='adam', loss='mse', metrics=['mse'])"
   ]
  },
  {
   "cell_type": "code",
   "execution_count": null,
   "metadata": {},
   "outputs": [],
   "source": [
    "early_stopping = EarlyStopping(monitor='val_loss', patience=5, restore_best_weights=True)"
   ]
  },
  {
   "cell_type": "code",
   "execution_count": null,
   "metadata": {},
   "outputs": [],
   "source": [
    "history = model.fit(X_train, y_train, epochs=50, batch_size=32, validation_data=(X_test, y_test), callbacks=[early_stopping])"
   ]
  },
  {
   "cell_type": "code",
   "execution_count": null,
   "metadata": {},
   "outputs": [],
   "source": [
    "test_loss, test_mse = model.evaluate(X_test, y_test)\n",
    "print(f'Loss on test set: {test_loss}, MSE: {test_mse}')"
   ]
  },
  {
   "cell_type": "code",
   "execution_count": null,
   "metadata": {},
   "outputs": [],
   "source": [
    "plt.plot(history.history['loss'], label='train_loss')\n",
    "plt.plot(history.history['val_loss'], label='val_loss')\n",
    "plt.legend()\n",
    "plt.title('Training and Validation Loss')\n",
    "plt.show()"
   ]
  },
  {
   "cell_type": "code",
   "execution_count": null,
   "metadata": {},
   "outputs": [],
   "source": [
    "plt.plot(history.history['mse'], label='train_mse')\n",
    "plt.plot(history.history['val_mse'], label='val_mse')\n",
    "plt.legend()\n",
    "plt.title('Training and Validation MSE')\n",
    "plt.show()"
   ]
  }
 ],
 "metadata": {
  "kernelspec": {
   "display_name": "venv",
   "language": "python",
   "name": "python3"
  },
  "language_info": {
   "codemirror_mode": {
    "name": "ipython",
    "version": 3
   },
   "file_extension": ".py",
   "mimetype": "text/x-python",
   "name": "python",
   "nbconvert_exporter": "python",
   "pygments_lexer": "ipython3",
   "version": "3.10.11"
  }
 },
 "nbformat": 4,
 "nbformat_minor": 2
}
