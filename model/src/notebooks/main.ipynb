{
 "cells": [
  {
   "cell_type": "code",
   "execution_count": 1,
   "metadata": {},
   "outputs": [],
   "source": [
    "import pandas as pd\n",
    "import numpy as np\n",
    "from sklearn.preprocessing import StandardScaler\n",
    "from sklearn.model_selection import train_test_split\n",
    "from sklearn.preprocessing import LabelEncoder\n",
    "import tensorflow as tf\n",
    "from tensorflow.keras.models import Sequential\n",
    "from tensorflow.keras.layers import LSTM, Dense, Dropout, BatchNormalization\n",
    "from tensorflow.keras.callbacks import EarlyStopping\n",
    "from tensorflow.keras import regularizers\n",
    "import matplotlib.pyplot as plt"
   ]
  },
  {
   "cell_type": "code",
   "execution_count": 2,
   "metadata": {},
   "outputs": [],
   "source": [
    "df = pd.read_csv('C:/develop/Fishing_team/data/dataset.csv')\n",
    "df['datetime'] = pd.to_datetime(df['datetime'])"
   ]
  },
  {
   "cell_type": "code",
   "execution_count": 3,
   "metadata": {},
   "outputs": [
    {
     "data": {
      "text/plain": [
       "card_status\n",
       "active     27451\n",
       "act        25539\n",
       "blk           48\n",
       "blocked       41\n",
       "Name: count, dtype: int64"
      ]
     },
     "execution_count": 3,
     "metadata": {},
     "output_type": "execute_result"
    }
   ],
   "source": [
    "df['card_status'].value_counts()"
   ]
  },
  {
   "cell_type": "code",
   "execution_count": 4,
   "metadata": {},
   "outputs": [],
   "source": [
    "df = df.drop(columns=['Unnamed: 0', 'transaction_id', 'ip', 'mcc', 'card_type', 'expiration_date'])"
   ]
  },
  {
   "cell_type": "code",
   "execution_count": 5,
   "metadata": {},
   "outputs": [],
   "source": [
    "df['time_diff'] = df.groupby('client_id')['datetime'].diff().fillna(pd.Timedelta(0))\n",
    "df['time_diff'] = df['time_diff'].dt.total_seconds()"
   ]
  },
  {
   "cell_type": "code",
   "execution_count": 6,
   "metadata": {},
   "outputs": [],
   "source": [
    "df['card_status'] = df['card_status'].map({'active': 0, 'act': 0, 'blocked': 1, 'blk': 1})"
   ]
  },
  {
   "cell_type": "code",
   "execution_count": 7,
   "metadata": {},
   "outputs": [],
   "source": [
    "categorical_columns = ['device_type', 'tran_code', 'oper_type', 'card_status']\n",
    "le = LabelEncoder()\n",
    "for col in categorical_columns:\n",
    "    df[col] = le.fit_transform(df[col])"
   ]
  },
  {
   "cell_type": "code",
   "execution_count": 8,
   "metadata": {},
   "outputs": [],
   "source": [
    "numeric_columns = ['device_id', 'pin_inc_count', 'sum', 'balance']\n",
    "scaler = StandardScaler()\n",
    "df[numeric_columns] = scaler.fit_transform(df[numeric_columns])"
   ]
  },
  {
   "cell_type": "code",
   "execution_count": 9,
   "metadata": {},
   "outputs": [],
   "source": [
    "df = df.sort_values(by=['client_id', 'datetime'])"
   ]
  },
  {
   "cell_type": "code",
   "execution_count": 10,
   "metadata": {},
   "outputs": [
    {
     "name": "stdout",
     "output_type": "stream",
     "text": [
      "      device_id  device_type  tran_code  client_id  pin_inc_count  \\\n",
      "6351  -0.886258            2          1  101648380      -0.364263   \n",
      "6352  -0.843944            0          5  101648380      -0.364263   \n",
      "6353  -1.358762            6          5  101648380      -0.364263   \n",
      "6354   1.579697            2          1  101648380      -0.364263   \n",
      "6355   1.081334            4          2  101648380      -0.364263   \n",
      "\n",
      "      card_status            datetime       sum  oper_type   balance  \\\n",
      "6351            0 2022-02-09 17:50:08 -0.466816         11  1.023095   \n",
      "6352            0 2022-02-21 19:39:05 -0.467969         13  1.021239   \n",
      "6353            0 2022-03-15 04:35:03 -0.468374         13  1.019384   \n",
      "6354            0 2022-03-26 19:32:45 -0.467283         10  1.021241   \n",
      "6355            0 2022-04-16 02:54:10 -0.468280          5  1.019385   \n",
      "\n",
      "      time_diff  \n",
      "6351        0.0  \n",
      "6352  1043337.0  \n",
      "6353  1846558.0  \n",
      "6354  1004262.0  \n",
      "6355  1754485.0  \n"
     ]
    }
   ],
   "source": [
    "print(df.head())"
   ]
  },
  {
   "cell_type": "code",
   "execution_count": 11,
   "metadata": {},
   "outputs": [],
   "source": [
    "sequence_length = 10"
   ]
  },
  {
   "cell_type": "code",
   "execution_count": 14,
   "metadata": {},
   "outputs": [],
   "source": [
    "def create_sequences(df, sequence_length):\n",
    "    sequences = []\n",
    "    labels = []\n",
    "\n",
    "    for client_id, group in df.groupby('client_id'):\n",
    "        for i in range(len(group) - sequence_length):\n",
    "            sequence = group.iloc[i:i+sequence_length][numeric_columns + categorical_columns + ['time_diff']].values\n",
    "            label = group.iloc[i + sequence_length]['sum']  # Используем сумму как метку для аномалии (можно адаптировать под другие задачи)\n",
    "            sequences.append(sequence)\n",
    "            labels.append(label)\n",
    "    \n",
    "    return np.array(sequences), np.array(labels)"
   ]
  },
  {
   "cell_type": "code",
   "execution_count": 15,
   "metadata": {},
   "outputs": [],
   "source": [
    "X, y = create_sequences(df, sequence_length)"
   ]
  },
  {
   "cell_type": "code",
   "execution_count": 16,
   "metadata": {},
   "outputs": [],
   "source": [
    "X_train, X_test, y_train, y_test = train_test_split(X, y, test_size=0.2, random_state=42)"
   ]
  },
  {
   "cell_type": "code",
   "execution_count": null,
   "metadata": {},
   "outputs": [],
   "source": [
    "model = Sequential()"
   ]
  },
  {
   "cell_type": "code",
   "execution_count": null,
   "metadata": {},
   "outputs": [],
   "source": [
    "model = Sequential()\n",
    "model.add(LSTM(128, activation='relu', input_shape=(X_train.shape[1], X_train.shape[2]), return_sequences=True,\n",
    "               kernel_regularizer=regularizers.l2(0.01)))\n",
    "model.add(BatchNormalization())\n",
    "model.add(Dropout(0.3))\n",
    "\n",
    "# Добавляем второй LSTM слой\n",
    "model.add(LSTM(64, activation='relu', return_sequences=True, kernel_regularizer=regularizers.l2(0.01)))\n",
    "model.add(BatchNormalization())\n",
    "model.add(Dropout(0.3))\n",
    "\n",
    "# Добавляем Dense слой\n",
    "model.add(Dense(32, activation='relu'))\n",
    "model.add(Dropout(0.3))\n",
    "\n",
    "# Добавляем выходной слой\n",
    "model.add(Dense(1))\n",
    "\n",
    "model.compile(optimizer='adam', loss='mse', metrics=['mse'])\n"
   ]
  },
  {
   "cell_type": "code",
   "execution_count": 20,
   "metadata": {},
   "outputs": [
    {
     "name": "stderr",
     "output_type": "stream",
     "text": [
      "[I 2024-11-29 23:55:44,842] A new study created in memory with name: no-name-4516edba-e070-49b8-8dca-7ae262a478bf\n"
     ]
    },
    {
     "name": "stdout",
     "output_type": "stream",
     "text": [
      "Device: PhysicalDevice(name='/physical_device:CPU:0', device_type='CPU'), Type: CPU\n",
      "GPU is not available. CPU will be used for training.\n",
      "Trying lstm_units_1 = 128\n",
      "Trying dropout = 0.39120063900848023\n",
      "Trying lstm_units_2 = 64\n",
      "Trying dropout = 0.39120063900848023\n",
      "Trying dense dropout = 0.4718125398529829\n",
      "Training trial 0\n"
     ]
    },
    {
     "name": "stderr",
     "output_type": "stream",
     "text": [
      "[I 2024-11-29 23:56:50,226] Trial 0 finished with value: 1.4318146705627441 and parameters: {'lstm_units_1': 128, 'dropout': 0.39120063900848023, 'lstm_units_2': 64, 'dropout_dense': 0.4718125398529829}. Best is trial 0 with value: 1.4318146705627441.\n"
     ]
    },
    {
     "name": "stdout",
     "output_type": "stream",
     "text": [
      "Trial 0 - test_loss: 1.4318146705627441, test_mse: 1.3071740865707397\n",
      "Trying lstm_units_1 = 96\n",
      "Trying dropout = 0.3983668083188011\n",
      "Trying lstm_units_2 = 96\n",
      "Trying dropout = 0.3983668083188011\n",
      "Trying dense dropout = 0.3946744817895562\n",
      "Training trial 1\n"
     ]
    },
    {
     "name": "stderr",
     "output_type": "stream",
     "text": [
      "[I 2024-11-30 00:00:45,403] Trial 1 finished with value: 0.9956083297729492 and parameters: {'lstm_units_1': 96, 'dropout': 0.3983668083188011, 'lstm_units_2': 96, 'dropout_dense': 0.3946744817895562}. Best is trial 1 with value: 0.9956083297729492.\n"
     ]
    },
    {
     "name": "stdout",
     "output_type": "stream",
     "text": [
      "Trial 1 - test_loss: 0.9956083297729492, test_mse: 0.9947789311408997\n",
      "Trying lstm_units_1 = 64\n",
      "Trying dropout = 0.20202467550074055\n",
      "Trying lstm_units_2 = 32\n",
      "Trying dropout = 0.20202467550074055\n",
      "Trying dense dropout = 0.2309540447163893\n",
      "Training trial 2\n"
     ]
    },
    {
     "name": "stderr",
     "output_type": "stream",
     "text": [
      "[I 2024-11-30 00:02:55,840] Trial 2 finished with value: 0.9870296120643616 and parameters: {'lstm_units_1': 64, 'dropout': 0.20202467550074055, 'lstm_units_2': 32, 'dropout_dense': 0.2309540447163893}. Best is trial 2 with value: 0.9870296120643616.\n"
     ]
    },
    {
     "name": "stdout",
     "output_type": "stream",
     "text": [
      "Trial 2 - test_loss: 0.9870296120643616, test_mse: 0.9841758608818054\n",
      "Trying lstm_units_1 = 32\n",
      "Trying dropout = 0.40213641036058556\n",
      "Trying lstm_units_2 = 96\n",
      "Trying dropout = 0.40213641036058556\n",
      "Trying dense dropout = 0.40675666195630383\n",
      "Training trial 3\n"
     ]
    },
    {
     "name": "stderr",
     "output_type": "stream",
     "text": [
      "[I 2024-11-30 00:06:37,473] Trial 3 finished with value: 0.9946478605270386 and parameters: {'lstm_units_1': 32, 'dropout': 0.40213641036058556, 'lstm_units_2': 96, 'dropout_dense': 0.40675666195630383}. Best is trial 2 with value: 0.9870296120643616.\n"
     ]
    },
    {
     "name": "stdout",
     "output_type": "stream",
     "text": [
      "Trial 3 - test_loss: 0.9946478605270386, test_mse: 0.9946377873420715\n",
      "Trying lstm_units_1 = 32\n",
      "Trying dropout = 0.21467463157767877\n",
      "Trying lstm_units_2 = 96\n",
      "Trying dropout = 0.21467463157767877\n",
      "Trying dense dropout = 0.36378856343535915\n",
      "Training trial 4\n"
     ]
    },
    {
     "name": "stderr",
     "output_type": "stream",
     "text": [
      "[I 2024-11-30 00:07:28,016] Trial 4 finished with value: 1.0309929847717285 and parameters: {'lstm_units_1': 32, 'dropout': 0.21467463157767877, 'lstm_units_2': 96, 'dropout_dense': 0.36378856343535915}. Best is trial 2 with value: 0.9870296120643616.\n"
     ]
    },
    {
     "name": "stdout",
     "output_type": "stream",
     "text": [
      "Trial 4 - test_loss: 1.0309929847717285, test_mse: 1.0067613124847412\n",
      "Trying lstm_units_1 = 32\n",
      "Trying dropout = 0.24038222167190568\n",
      "Trying lstm_units_2 = 96\n",
      "Trying dropout = 0.24038222167190568\n",
      "Trying dense dropout = 0.36622525409254386\n",
      "Training trial 5\n"
     ]
    },
    {
     "name": "stderr",
     "output_type": "stream",
     "text": [
      "[I 2024-11-30 00:08:05,359] Trial 5 finished with value: 1.207138180732727 and parameters: {'lstm_units_1': 32, 'dropout': 0.24038222167190568, 'lstm_units_2': 96, 'dropout_dense': 0.36622525409254386}. Best is trial 2 with value: 0.9870296120643616.\n"
     ]
    },
    {
     "name": "stdout",
     "output_type": "stream",
     "text": [
      "Trial 5 - test_loss: 1.207138180732727, test_mse: 1.0012985467910767\n",
      "Trying lstm_units_1 = 128\n",
      "Trying dropout = 0.46791375015385167\n",
      "Trying lstm_units_2 = 96\n",
      "Trying dropout = 0.46791375015385167\n",
      "Trying dense dropout = 0.23878637323221721\n",
      "Training trial 6\n"
     ]
    },
    {
     "name": "stderr",
     "output_type": "stream",
     "text": [
      "[I 2024-11-30 00:09:27,201] Trial 6 finished with value: 1.245742917060852 and parameters: {'lstm_units_1': 128, 'dropout': 0.46791375015385167, 'lstm_units_2': 96, 'dropout_dense': 0.23878637323221721}. Best is trial 2 with value: 0.9870296120643616.\n"
     ]
    },
    {
     "name": "stdout",
     "output_type": "stream",
     "text": [
      "Trial 6 - test_loss: 1.245742917060852, test_mse: 1.0970195531845093\n",
      "Trying lstm_units_1 = 128\n",
      "Trying dropout = 0.3069833407054985\n",
      "Trying lstm_units_2 = 64\n",
      "Trying dropout = 0.3069833407054985\n",
      "Trying dense dropout = 0.48692219306803364\n",
      "Training trial 7\n"
     ]
    },
    {
     "name": "stderr",
     "output_type": "stream",
     "text": [
      "[I 2024-11-30 00:12:52,892] Trial 7 finished with value: 0.9978063106536865 and parameters: {'lstm_units_1': 128, 'dropout': 0.3069833407054985, 'lstm_units_2': 64, 'dropout_dense': 0.48692219306803364}. Best is trial 2 with value: 0.9870296120643616.\n"
     ]
    },
    {
     "name": "stdout",
     "output_type": "stream",
     "text": [
      "Trial 7 - test_loss: 0.9978063106536865, test_mse: 0.9903549551963806\n",
      "Trying lstm_units_1 = 128\n",
      "Trying dropout = 0.42718008134762697\n",
      "Trying lstm_units_2 = 32\n",
      "Trying dropout = 0.42718008134762697\n",
      "Trying dense dropout = 0.2295007665189129\n",
      "Training trial 8\n"
     ]
    },
    {
     "name": "stderr",
     "output_type": "stream",
     "text": [
      "[I 2024-11-30 00:14:13,362] Trial 8 finished with value: 1.0565365552902222 and parameters: {'lstm_units_1': 128, 'dropout': 0.42718008134762697, 'lstm_units_2': 32, 'dropout_dense': 0.2295007665189129}. Best is trial 2 with value: 0.9870296120643616.\n"
     ]
    },
    {
     "name": "stdout",
     "output_type": "stream",
     "text": [
      "Trial 8 - test_loss: 1.0565365552902222, test_mse: 1.0333075523376465\n",
      "Trying lstm_units_1 = 32\n",
      "Trying dropout = 0.468389923168409\n",
      "Trying lstm_units_2 = 128\n",
      "Trying dropout = 0.468389923168409\n",
      "Trying dense dropout = 0.39516635879998574\n",
      "Training trial 9\n"
     ]
    },
    {
     "name": "stderr",
     "output_type": "stream",
     "text": [
      "[I 2024-11-30 00:16:36,576] Trial 9 finished with value: 0.9954806566238403 and parameters: {'lstm_units_1': 32, 'dropout': 0.468389923168409, 'lstm_units_2': 128, 'dropout_dense': 0.39516635879998574}. Best is trial 2 with value: 0.9870296120643616.\n"
     ]
    },
    {
     "name": "stdout",
     "output_type": "stream",
     "text": [
      "Trial 9 - test_loss: 0.9954806566238403, test_mse: 0.994733452796936\n",
      "Trying lstm_units_1 = 64\n",
      "Trying dropout = 0.30113685703686077\n",
      "Trying lstm_units_2 = 32\n",
      "Trying dropout = 0.30113685703686077\n",
      "Trying dense dropout = 0.2948506535459272\n",
      "Training trial 10\n"
     ]
    },
    {
     "name": "stderr",
     "output_type": "stream",
     "text": [
      "[I 2024-11-30 00:17:05,829] Trial 10 finished with value: 1.1862190961837769 and parameters: {'lstm_units_1': 64, 'dropout': 0.30113685703686077, 'lstm_units_2': 32, 'dropout_dense': 0.2948506535459272}. Best is trial 2 with value: 0.9870296120643616.\n"
     ]
    },
    {
     "name": "stdout",
     "output_type": "stream",
     "text": [
      "Trial 10 - test_loss: 1.1862190961837769, test_mse: 1.004828929901123\n",
      "Trying lstm_units_1 = 64\n",
      "Trying dropout = 0.3199319225978907\n",
      "Trying lstm_units_2 = 128\n",
      "Trying dropout = 0.3199319225978907\n",
      "Trying dense dropout = 0.30630026895466805\n",
      "Training trial 11\n"
     ]
    },
    {
     "name": "stderr",
     "output_type": "stream",
     "text": [
      "[I 2024-11-30 00:20:14,372] Trial 11 finished with value: 0.9958376884460449 and parameters: {'lstm_units_1': 64, 'dropout': 0.3199319225978907, 'lstm_units_2': 128, 'dropout_dense': 0.30630026895466805}. Best is trial 2 with value: 0.9870296120643616.\n"
     ]
    },
    {
     "name": "stdout",
     "output_type": "stream",
     "text": [
      "Trial 11 - test_loss: 0.9958376884460449, test_mse: 0.9947018623352051\n",
      "Trying lstm_units_1 = 64\n",
      "Trying dropout = 0.3572618500540108\n",
      "Trying lstm_units_2 = 64\n",
      "Trying dropout = 0.3572618500540108\n",
      "Trying dense dropout = 0.43656997503133743\n",
      "Training trial 12\n"
     ]
    },
    {
     "name": "stderr",
     "output_type": "stream",
     "text": [
      "[I 2024-11-30 00:20:56,590] Trial 12 finished with value: 1.0431756973266602 and parameters: {'lstm_units_1': 64, 'dropout': 0.3572618500540108, 'lstm_units_2': 64, 'dropout_dense': 0.43656997503133743}. Best is trial 2 with value: 0.9870296120643616.\n"
     ]
    },
    {
     "name": "stdout",
     "output_type": "stream",
     "text": [
      "Trial 12 - test_loss: 1.0431756973266602, test_mse: 0.9957633018493652\n",
      "Trying lstm_units_1 = 96\n",
      "Trying dropout = 0.26006008868698477\n",
      "Trying lstm_units_2 = 32\n",
      "Trying dropout = 0.26006008868698477\n",
      "Trying dense dropout = 0.30343849763084535\n",
      "Training trial 13\n"
     ]
    },
    {
     "name": "stderr",
     "output_type": "stream",
     "text": [
      "[I 2024-11-30 00:23:47,865] Trial 13 finished with value: 0.9946483373641968 and parameters: {'lstm_units_1': 96, 'dropout': 0.26006008868698477, 'lstm_units_2': 32, 'dropout_dense': 0.30343849763084535}. Best is trial 2 with value: 0.9870296120643616.\n"
     ]
    },
    {
     "name": "stdout",
     "output_type": "stream",
     "text": [
      "Trial 13 - test_loss: 0.9946483373641968, test_mse: 0.9946375489234924\n",
      "Trying lstm_units_1 = 32\n",
      "Trying dropout = 0.3576770577854086\n",
      "Trying lstm_units_2 = 64\n",
      "Trying dropout = 0.3576770577854086\n",
      "Trying dense dropout = 0.26658755448224103\n",
      "Training trial 14\n"
     ]
    },
    {
     "name": "stderr",
     "output_type": "stream",
     "text": [
      "[I 2024-11-30 00:25:31,006] Trial 14 finished with value: 0.9951947331428528 and parameters: {'lstm_units_1': 32, 'dropout': 0.3576770577854086, 'lstm_units_2': 64, 'dropout_dense': 0.26658755448224103}. Best is trial 2 with value: 0.9870296120643616.\n"
     ]
    },
    {
     "name": "stdout",
     "output_type": "stream",
     "text": [
      "Trial 14 - test_loss: 0.9951947331428528, test_mse: 0.9946914315223694\n",
      "Trying lstm_units_1 = 64\n",
      "Trying dropout = 0.49936813679345393\n",
      "Trying lstm_units_2 = 128\n",
      "Trying dropout = 0.49936813679345393\n",
      "Trying dense dropout = 0.20707705194045609\n",
      "Training trial 15\n"
     ]
    },
    {
     "name": "stderr",
     "output_type": "stream",
     "text": [
      "[I 2024-11-30 00:28:39,829] Trial 15 finished with value: 0.9958813786506653 and parameters: {'lstm_units_1': 64, 'dropout': 0.49936813679345393, 'lstm_units_2': 128, 'dropout_dense': 0.20707705194045609}. Best is trial 2 with value: 0.9870296120643616.\n"
     ]
    },
    {
     "name": "stdout",
     "output_type": "stream",
     "text": [
      "Trial 15 - test_loss: 0.9958813786506653, test_mse: 0.9946425557136536\n",
      "Trying lstm_units_1 = 96\n",
      "Trying dropout = 0.4031188052934571\n",
      "Trying lstm_units_2 = 32\n",
      "Trying dropout = 0.4031188052934571\n",
      "Trying dense dropout = 0.34343011153448766\n",
      "Training trial 16\n"
     ]
    },
    {
     "name": "stderr",
     "output_type": "stream",
     "text": [
      "[I 2024-11-30 00:29:24,957] Trial 16 finished with value: 1.0513039827346802 and parameters: {'lstm_units_1': 96, 'dropout': 0.4031188052934571, 'lstm_units_2': 32, 'dropout_dense': 0.34343011153448766}. Best is trial 2 with value: 0.9870296120643616.\n"
     ]
    },
    {
     "name": "stdout",
     "output_type": "stream",
     "text": [
      "Trial 16 - test_loss: 1.0513039827346802, test_mse: 1.0084131956100464\n",
      "Trying lstm_units_1 = 32\n",
      "Trying dropout = 0.20226108524185593\n",
      "Trying lstm_units_2 = 64\n",
      "Trying dropout = 0.20226108524185593\n",
      "Trying dense dropout = 0.43311758080192775\n",
      "Training trial 17\n"
     ]
    },
    {
     "name": "stderr",
     "output_type": "stream",
     "text": [
      "[I 2024-11-30 00:30:52,944] Trial 17 finished with value: 0.9954937100410461 and parameters: {'lstm_units_1': 32, 'dropout': 0.20226108524185593, 'lstm_units_2': 64, 'dropout_dense': 0.43311758080192775}. Best is trial 2 with value: 0.9870296120643616.\n"
     ]
    },
    {
     "name": "stdout",
     "output_type": "stream",
     "text": [
      "Trial 17 - test_loss: 0.9954937100410461, test_mse: 0.9947071671485901\n",
      "Trying lstm_units_1 = 64\n",
      "Trying dropout = 0.43546237133381516\n",
      "Trying lstm_units_2 = 96\n",
      "Trying dropout = 0.43546237133381516\n",
      "Trying dense dropout = 0.33535598039519143\n",
      "Training trial 18\n"
     ]
    },
    {
     "name": "stderr",
     "output_type": "stream",
     "text": [
      "[I 2024-11-30 00:33:15,601] Trial 18 finished with value: 0.9950927495956421 and parameters: {'lstm_units_1': 64, 'dropout': 0.43546237133381516, 'lstm_units_2': 96, 'dropout_dense': 0.33535598039519143}. Best is trial 2 with value: 0.9870296120643616.\n"
     ]
    },
    {
     "name": "stdout",
     "output_type": "stream",
     "text": [
      "Trial 18 - test_loss: 0.9950927495956421, test_mse: 0.9947569966316223\n",
      "Trying lstm_units_1 = 32\n",
      "Trying dropout = 0.2738800081731163\n",
      "Trying lstm_units_2 = 128\n",
      "Trying dropout = 0.2738800081731163\n",
      "Trying dense dropout = 0.42494071759183166\n",
      "Training trial 19\n"
     ]
    },
    {
     "name": "stderr",
     "output_type": "stream",
     "text": [
      "[I 2024-11-30 00:35:16,928] Trial 19 finished with value: 0.9947899580001831 and parameters: {'lstm_units_1': 32, 'dropout': 0.2738800081731163, 'lstm_units_2': 128, 'dropout_dense': 0.42494071759183166}. Best is trial 2 with value: 0.9870296120643616.\n"
     ]
    },
    {
     "name": "stdout",
     "output_type": "stream",
     "text": [
      "Trial 19 - test_loss: 0.9947899580001831, test_mse: 0.9946366548538208\n",
      "Trying lstm_units_1 = 64\n",
      "Trying dropout = 0.3336285624864162\n",
      "Trying lstm_units_2 = 32\n",
      "Trying dropout = 0.3336285624864162\n",
      "Trying dense dropout = 0.2604984248201175\n",
      "Training trial 20\n"
     ]
    },
    {
     "name": "stderr",
     "output_type": "stream",
     "text": [
      "[I 2024-11-30 00:36:29,028] Trial 20 finished with value: 1.0001771450042725 and parameters: {'lstm_units_1': 64, 'dropout': 0.3336285624864162, 'lstm_units_2': 32, 'dropout_dense': 0.2604984248201175}. Best is trial 2 with value: 0.9870296120643616.\n"
     ]
    },
    {
     "name": "stdout",
     "output_type": "stream",
     "text": [
      "Trial 20 - test_loss: 1.0001771450042725, test_mse: 0.9950850605964661\n",
      "Trying lstm_units_1 = 96\n",
      "Trying dropout = 0.253325879758829\n",
      "Trying lstm_units_2 = 32\n",
      "Trying dropout = 0.253325879758829\n",
      "Trying dense dropout = 0.30156324680630114\n",
      "Training trial 21\n"
     ]
    },
    {
     "name": "stderr",
     "output_type": "stream",
     "text": [
      "[I 2024-11-30 00:37:11,358] Trial 21 finished with value: 1.227105975151062 and parameters: {'lstm_units_1': 96, 'dropout': 0.253325879758829, 'lstm_units_2': 32, 'dropout_dense': 0.30156324680630114}. Best is trial 2 with value: 0.9870296120643616.\n"
     ]
    },
    {
     "name": "stdout",
     "output_type": "stream",
     "text": [
      "Trial 21 - test_loss: 1.227105975151062, test_mse: 1.1411166191101074\n",
      "Trying lstm_units_1 = 96\n",
      "Trying dropout = 0.2352047453244695\n",
      "Trying lstm_units_2 = 32\n",
      "Trying dropout = 0.2352047453244695\n",
      "Trying dense dropout = 0.2657920147806573\n",
      "Training trial 22\n"
     ]
    },
    {
     "name": "stderr",
     "output_type": "stream",
     "text": [
      "[I 2024-11-30 00:39:10,200] Trial 22 finished with value: 0.9901724457740784 and parameters: {'lstm_units_1': 96, 'dropout': 0.2352047453244695, 'lstm_units_2': 32, 'dropout_dense': 0.2657920147806573}. Best is trial 2 with value: 0.9870296120643616.\n"
     ]
    },
    {
     "name": "stdout",
     "output_type": "stream",
     "text": [
      "Trial 22 - test_loss: 0.9901724457740784, test_mse: 0.9848711490631104\n",
      "Trying lstm_units_1 = 96\n",
      "Trying dropout = 0.2282412163593796\n",
      "Trying lstm_units_2 = 64\n",
      "Trying dropout = 0.2282412163593796\n",
      "Trying dense dropout = 0.2140105720047399\n",
      "Training trial 23\n"
     ]
    },
    {
     "name": "stderr",
     "output_type": "stream",
     "text": [
      "[I 2024-11-30 00:40:08,881] Trial 23 finished with value: 1.0191130638122559 and parameters: {'lstm_units_1': 96, 'dropout': 0.2282412163593796, 'lstm_units_2': 64, 'dropout_dense': 0.2140105720047399}. Best is trial 2 with value: 0.9870296120643616.\n"
     ]
    },
    {
     "name": "stdout",
     "output_type": "stream",
     "text": [
      "Trial 23 - test_loss: 1.0191130638122559, test_mse: 0.9967767596244812\n",
      "Trying lstm_units_1 = 96\n",
      "Trying dropout = 0.28895084020188766\n",
      "Trying lstm_units_2 = 32\n",
      "Trying dropout = 0.28895084020188766\n",
      "Trying dense dropout = 0.2648490767742707\n",
      "Training trial 24\n"
     ]
    },
    {
     "name": "stderr",
     "output_type": "stream",
     "text": [
      "[I 2024-11-30 00:40:50,946] Trial 24 finished with value: 1.0571774244308472 and parameters: {'lstm_units_1': 96, 'dropout': 0.28895084020188766, 'lstm_units_2': 32, 'dropout_dense': 0.2648490767742707}. Best is trial 2 with value: 0.9870296120643616.\n"
     ]
    },
    {
     "name": "stdout",
     "output_type": "stream",
     "text": [
      "Trial 24 - test_loss: 1.0571774244308472, test_mse: 0.9987130761146545\n",
      "Trying lstm_units_1 = 64\n",
      "Trying dropout = 0.20404947048414643\n",
      "Trying lstm_units_2 = 64\n",
      "Trying dropout = 0.20404947048414643\n",
      "Trying dense dropout = 0.2513019296152833\n",
      "Training trial 25\n"
     ]
    },
    {
     "name": "stderr",
     "output_type": "stream",
     "text": [
      "[I 2024-11-30 00:42:51,304] Trial 25 finished with value: 0.9957227110862732 and parameters: {'lstm_units_1': 64, 'dropout': 0.20404947048414643, 'lstm_units_2': 64, 'dropout_dense': 0.2513019296152833}. Best is trial 2 with value: 0.9870296120643616.\n"
     ]
    },
    {
     "name": "stdout",
     "output_type": "stream",
     "text": [
      "Trial 25 - test_loss: 0.9957227110862732, test_mse: 0.9946714043617249\n",
      "Trying lstm_units_1 = 96\n",
      "Trying dropout = 0.23601191388330536\n",
      "Trying lstm_units_2 = 96\n",
      "Trying dropout = 0.23601191388330536\n",
      "Trying dense dropout = 0.2843849792301373\n",
      "Training trial 26\n"
     ]
    },
    {
     "name": "stderr",
     "output_type": "stream",
     "text": [
      "[I 2024-11-30 00:44:04,526] Trial 26 finished with value: 1.0162497758865356 and parameters: {'lstm_units_1': 96, 'dropout': 0.23601191388330536, 'lstm_units_2': 96, 'dropout_dense': 0.2843849792301373}. Best is trial 2 with value: 0.9870296120643616.\n"
     ]
    },
    {
     "name": "stdout",
     "output_type": "stream",
     "text": [
      "Trial 26 - test_loss: 1.0162497758865356, test_mse: 1.0048434734344482\n",
      "Trying lstm_units_1 = 64\n",
      "Trying dropout = 0.37735538690300413\n",
      "Trying lstm_units_2 = 32\n",
      "Trying dropout = 0.37735538690300413\n",
      "Trying dense dropout = 0.3237175925307958\n",
      "Training trial 27\n"
     ]
    },
    {
     "name": "stderr",
     "output_type": "stream",
     "text": [
      "[I 2024-11-30 00:45:07,392] Trial 27 finished with value: 1.0078107118606567 and parameters: {'lstm_units_1': 64, 'dropout': 0.37735538690300413, 'lstm_units_2': 32, 'dropout_dense': 0.3237175925307958}. Best is trial 2 with value: 0.9870296120643616.\n"
     ]
    },
    {
     "name": "stdout",
     "output_type": "stream",
     "text": [
      "Trial 27 - test_loss: 1.0078107118606567, test_mse: 0.9982821941375732\n",
      "Trying lstm_units_1 = 32\n",
      "Trying dropout = 0.2802677010668172\n",
      "Trying lstm_units_2 = 64\n",
      "Trying dropout = 0.2802677010668172\n",
      "Trying dense dropout = 0.3847725802214019\n",
      "Training trial 28\n"
     ]
    },
    {
     "name": "stderr",
     "output_type": "stream",
     "text": [
      "[I 2024-11-30 00:47:17,674] Trial 28 finished with value: 0.9946601986885071 and parameters: {'lstm_units_1': 32, 'dropout': 0.2802677010668172, 'lstm_units_2': 64, 'dropout_dense': 0.3847725802214019}. Best is trial 2 with value: 0.9870296120643616.\n"
     ]
    },
    {
     "name": "stdout",
     "output_type": "stream",
     "text": [
      "Trial 28 - test_loss: 0.9946601986885071, test_mse: 0.9946589469909668\n",
      "Trying lstm_units_1 = 128\n",
      "Trying dropout = 0.4240540302286099\n",
      "Trying lstm_units_2 = 32\n",
      "Trying dropout = 0.4240540302286099\n",
      "Trying dense dropout = 0.46380521005874803\n",
      "Training trial 29\n"
     ]
    },
    {
     "name": "stderr",
     "output_type": "stream",
     "text": [
      "[I 2024-11-30 00:47:56,121] Trial 29 finished with value: 1.5443098545074463 and parameters: {'lstm_units_1': 128, 'dropout': 0.4240540302286099, 'lstm_units_2': 32, 'dropout_dense': 0.46380521005874803}. Best is trial 2 with value: 0.9870296120643616.\n"
     ]
    },
    {
     "name": "stdout",
     "output_type": "stream",
     "text": [
      "Trial 29 - test_loss: 1.5443098545074463, test_mse: 1.0895434617996216\n",
      "Trying lstm_units_1 = 64\n",
      "Trying dropout = 0.3734542560603768\n",
      "Trying lstm_units_2 = 64\n",
      "Trying dropout = 0.3734542560603768\n",
      "Trying dense dropout = 0.23128303222948832\n",
      "Training trial 30\n"
     ]
    },
    {
     "name": "stderr",
     "output_type": "stream",
     "text": [
      "[I 2024-11-30 00:50:16,308] Trial 30 finished with value: 0.9953392744064331 and parameters: {'lstm_units_1': 64, 'dropout': 0.3734542560603768, 'lstm_units_2': 64, 'dropout_dense': 0.23128303222948832}. Best is trial 2 with value: 0.9870296120643616.\n"
     ]
    },
    {
     "name": "stdout",
     "output_type": "stream",
     "text": [
      "Trial 30 - test_loss: 0.9953392744064331, test_mse: 0.9947099089622498\n",
      "Trying lstm_units_1 = 96\n",
      "Trying dropout = 0.2594596350746886\n",
      "Trying lstm_units_2 = 32\n",
      "Trying dropout = 0.2594596350746886\n",
      "Trying dense dropout = 0.3159470529472288\n",
      "Training trial 31\n"
     ]
    },
    {
     "name": "stderr",
     "output_type": "stream",
     "text": [
      "[I 2024-11-30 00:52:49,348] Trial 31 finished with value: 0.9835832715034485 and parameters: {'lstm_units_1': 96, 'dropout': 0.2594596350746886, 'lstm_units_2': 32, 'dropout_dense': 0.3159470529472288}. Best is trial 31 with value: 0.9835832715034485.\n"
     ]
    },
    {
     "name": "stdout",
     "output_type": "stream",
     "text": [
      "Trial 31 - test_loss: 0.9835832715034485, test_mse: 0.9797283411026001\n",
      "Trying lstm_units_1 = 96\n",
      "Trying dropout = 0.2282768660555617\n",
      "Trying lstm_units_2 = 32\n",
      "Trying dropout = 0.2282768660555617\n",
      "Trying dense dropout = 0.27948362105396707\n",
      "Training trial 32\n"
     ]
    },
    {
     "name": "stderr",
     "output_type": "stream",
     "text": [
      "[I 2024-11-30 00:53:24,204] Trial 32 finished with value: 1.4512625932693481 and parameters: {'lstm_units_1': 96, 'dropout': 0.2282768660555617, 'lstm_units_2': 32, 'dropout_dense': 0.27948362105396707}. Best is trial 31 with value: 0.9835832715034485.\n"
     ]
    },
    {
     "name": "stdout",
     "output_type": "stream",
     "text": [
      "Trial 32 - test_loss: 1.4512625932693481, test_mse: 1.1799544095993042\n",
      "Trying lstm_units_1 = 96\n",
      "Trying dropout = 0.2566612149381914\n",
      "Trying lstm_units_2 = 32\n",
      "Trying dropout = 0.2566612149381914\n",
      "Trying dense dropout = 0.3636842498651643\n",
      "Training trial 33\n"
     ]
    },
    {
     "name": "stderr",
     "output_type": "stream",
     "text": [
      "[W 2024-11-30 00:54:02,373] Trial 33 failed with parameters: {'lstm_units_1': 96, 'dropout': 0.2566612149381914, 'lstm_units_2': 32, 'dropout_dense': 0.3636842498651643} because of the following error: KeyboardInterrupt().\n",
      "Traceback (most recent call last):\n",
      "  File \"c:\\develop\\Fishing_team\\venv\\lib\\site-packages\\optuna\\study\\_optimize.py\", line 197, in _run_trial\n",
      "    value_or_values = func(trial)\n",
      "  File \"C:\\Users\\BeesKnight\\AppData\\Local\\Temp\\ipykernel_10516\\1603712447.py\", line 68, in objective\n",
      "    history = model.fit(X_train, y_train, epochs=50, batch_size=32, validation_data=(X_test, y_test),\n",
      "  File \"c:\\develop\\Fishing_team\\venv\\lib\\site-packages\\keras\\src\\utils\\traceback_utils.py\", line 117, in error_handler\n",
      "    return fn(*args, **kwargs)\n",
      "  File \"c:\\develop\\Fishing_team\\venv\\lib\\site-packages\\keras\\src\\backend\\tensorflow\\trainer.py\", line 368, in fit\n",
      "    logs = self.train_function(iterator)\n",
      "  File \"c:\\develop\\Fishing_team\\venv\\lib\\site-packages\\keras\\src\\backend\\tensorflow\\trainer.py\", line 216, in function\n",
      "    opt_outputs = multi_step_on_iterator(iterator)\n",
      "  File \"c:\\develop\\Fishing_team\\venv\\lib\\site-packages\\tensorflow\\python\\util\\traceback_utils.py\", line 150, in error_handler\n",
      "    return fn(*args, **kwargs)\n",
      "  File \"c:\\develop\\Fishing_team\\venv\\lib\\site-packages\\tensorflow\\python\\eager\\polymorphic_function\\polymorphic_function.py\", line 833, in __call__\n",
      "    result = self._call(*args, **kwds)\n",
      "  File \"c:\\develop\\Fishing_team\\venv\\lib\\site-packages\\tensorflow\\python\\eager\\polymorphic_function\\polymorphic_function.py\", line 878, in _call\n",
      "    results = tracing_compilation.call_function(\n",
      "  File \"c:\\develop\\Fishing_team\\venv\\lib\\site-packages\\tensorflow\\python\\eager\\polymorphic_function\\tracing_compilation.py\", line 139, in call_function\n",
      "    return function._call_flat(  # pylint: disable=protected-access\n",
      "  File \"c:\\develop\\Fishing_team\\venv\\lib\\site-packages\\tensorflow\\python\\eager\\polymorphic_function\\concrete_function.py\", line 1322, in _call_flat\n",
      "    return self._inference_function.call_preflattened(args)\n",
      "  File \"c:\\develop\\Fishing_team\\venv\\lib\\site-packages\\tensorflow\\python\\eager\\polymorphic_function\\atomic_function.py\", line 216, in call_preflattened\n",
      "    flat_outputs = self.call_flat(*args)\n",
      "  File \"c:\\develop\\Fishing_team\\venv\\lib\\site-packages\\tensorflow\\python\\eager\\polymorphic_function\\atomic_function.py\", line 251, in call_flat\n",
      "    outputs = self._bound_context.call_function(\n",
      "  File \"c:\\develop\\Fishing_team\\venv\\lib\\site-packages\\tensorflow\\python\\eager\\context.py\", line 1683, in call_function\n",
      "    outputs = execute.execute(\n",
      "  File \"c:\\develop\\Fishing_team\\venv\\lib\\site-packages\\tensorflow\\python\\eager\\execute.py\", line 53, in quick_execute\n",
      "    tensors = pywrap_tfe.TFE_Py_Execute(ctx._handle, device_name, op_name,\n",
      "KeyboardInterrupt\n",
      "[W 2024-11-30 00:54:02,375] Trial 33 failed with value None.\n"
     ]
    },
    {
     "ename": "KeyboardInterrupt",
     "evalue": "",
     "output_type": "error",
     "traceback": [
      "\u001b[1;31m---------------------------------------------------------------------------\u001b[0m",
      "\u001b[1;31mKeyboardInterrupt\u001b[0m                         Traceback (most recent call last)",
      "Cell \u001b[1;32mIn[20], line 82\u001b[0m\n\u001b[0;32m     79\u001b[0m study \u001b[38;5;241m=\u001b[39m optuna\u001b[38;5;241m.\u001b[39mcreate_study(direction\u001b[38;5;241m=\u001b[39m\u001b[38;5;124m'\u001b[39m\u001b[38;5;124mminimize\u001b[39m\u001b[38;5;124m'\u001b[39m)\n\u001b[0;32m     81\u001b[0m \u001b[38;5;66;03m# Запускаем поиск\u001b[39;00m\n\u001b[1;32m---> 82\u001b[0m \u001b[43mstudy\u001b[49m\u001b[38;5;241;43m.\u001b[39;49m\u001b[43moptimize\u001b[49m\u001b[43m(\u001b[49m\u001b[43mobjective\u001b[49m\u001b[43m,\u001b[49m\u001b[43m \u001b[49m\u001b[43mn_trials\u001b[49m\u001b[38;5;241;43m=\u001b[39;49m\u001b[38;5;241;43m50\u001b[39;49m\u001b[43m)\u001b[49m  \u001b[38;5;66;03m# пробуем 50 разных комбинаций гиперпараметров\u001b[39;00m\n\u001b[0;32m     84\u001b[0m \u001b[38;5;66;03m# Выводим лучшие гиперпараметры\u001b[39;00m\n\u001b[0;32m     85\u001b[0m \u001b[38;5;28mprint\u001b[39m(\u001b[38;5;124mf\u001b[39m\u001b[38;5;124m\"\u001b[39m\u001b[38;5;124mBest hyperparameters: \u001b[39m\u001b[38;5;132;01m{\u001b[39;00mstudy\u001b[38;5;241m.\u001b[39mbest_params\u001b[38;5;132;01m}\u001b[39;00m\u001b[38;5;124m\"\u001b[39m)\n",
      "File \u001b[1;32mc:\\develop\\Fishing_team\\venv\\lib\\site-packages\\optuna\\study\\study.py:475\u001b[0m, in \u001b[0;36mStudy.optimize\u001b[1;34m(self, func, n_trials, timeout, n_jobs, catch, callbacks, gc_after_trial, show_progress_bar)\u001b[0m\n\u001b[0;32m    373\u001b[0m \u001b[38;5;28;01mdef\u001b[39;00m \u001b[38;5;21moptimize\u001b[39m(\n\u001b[0;32m    374\u001b[0m     \u001b[38;5;28mself\u001b[39m,\n\u001b[0;32m    375\u001b[0m     func: ObjectiveFuncType,\n\u001b[1;32m   (...)\u001b[0m\n\u001b[0;32m    382\u001b[0m     show_progress_bar: \u001b[38;5;28mbool\u001b[39m \u001b[38;5;241m=\u001b[39m \u001b[38;5;28;01mFalse\u001b[39;00m,\n\u001b[0;32m    383\u001b[0m ) \u001b[38;5;241m-\u001b[39m\u001b[38;5;241m>\u001b[39m \u001b[38;5;28;01mNone\u001b[39;00m:\n\u001b[0;32m    384\u001b[0m \u001b[38;5;250m    \u001b[39m\u001b[38;5;124;03m\"\"\"Optimize an objective function.\u001b[39;00m\n\u001b[0;32m    385\u001b[0m \n\u001b[0;32m    386\u001b[0m \u001b[38;5;124;03m    Optimization is done by choosing a suitable set of hyperparameter values from a given\u001b[39;00m\n\u001b[1;32m   (...)\u001b[0m\n\u001b[0;32m    473\u001b[0m \u001b[38;5;124;03m            If nested invocation of this method occurs.\u001b[39;00m\n\u001b[0;32m    474\u001b[0m \u001b[38;5;124;03m    \"\"\"\u001b[39;00m\n\u001b[1;32m--> 475\u001b[0m     \u001b[43m_optimize\u001b[49m\u001b[43m(\u001b[49m\n\u001b[0;32m    476\u001b[0m \u001b[43m        \u001b[49m\u001b[43mstudy\u001b[49m\u001b[38;5;241;43m=\u001b[39;49m\u001b[38;5;28;43mself\u001b[39;49m\u001b[43m,\u001b[49m\n\u001b[0;32m    477\u001b[0m \u001b[43m        \u001b[49m\u001b[43mfunc\u001b[49m\u001b[38;5;241;43m=\u001b[39;49m\u001b[43mfunc\u001b[49m\u001b[43m,\u001b[49m\n\u001b[0;32m    478\u001b[0m \u001b[43m        \u001b[49m\u001b[43mn_trials\u001b[49m\u001b[38;5;241;43m=\u001b[39;49m\u001b[43mn_trials\u001b[49m\u001b[43m,\u001b[49m\n\u001b[0;32m    479\u001b[0m \u001b[43m        \u001b[49m\u001b[43mtimeout\u001b[49m\u001b[38;5;241;43m=\u001b[39;49m\u001b[43mtimeout\u001b[49m\u001b[43m,\u001b[49m\n\u001b[0;32m    480\u001b[0m \u001b[43m        \u001b[49m\u001b[43mn_jobs\u001b[49m\u001b[38;5;241;43m=\u001b[39;49m\u001b[43mn_jobs\u001b[49m\u001b[43m,\u001b[49m\n\u001b[0;32m    481\u001b[0m \u001b[43m        \u001b[49m\u001b[43mcatch\u001b[49m\u001b[38;5;241;43m=\u001b[39;49m\u001b[38;5;28;43mtuple\u001b[39;49m\u001b[43m(\u001b[49m\u001b[43mcatch\u001b[49m\u001b[43m)\u001b[49m\u001b[43m \u001b[49m\u001b[38;5;28;43;01mif\u001b[39;49;00m\u001b[43m \u001b[49m\u001b[38;5;28;43misinstance\u001b[39;49m\u001b[43m(\u001b[49m\u001b[43mcatch\u001b[49m\u001b[43m,\u001b[49m\u001b[43m \u001b[49m\u001b[43mIterable\u001b[49m\u001b[43m)\u001b[49m\u001b[43m \u001b[49m\u001b[38;5;28;43;01melse\u001b[39;49;00m\u001b[43m \u001b[49m\u001b[43m(\u001b[49m\u001b[43mcatch\u001b[49m\u001b[43m,\u001b[49m\u001b[43m)\u001b[49m\u001b[43m,\u001b[49m\n\u001b[0;32m    482\u001b[0m \u001b[43m        \u001b[49m\u001b[43mcallbacks\u001b[49m\u001b[38;5;241;43m=\u001b[39;49m\u001b[43mcallbacks\u001b[49m\u001b[43m,\u001b[49m\n\u001b[0;32m    483\u001b[0m \u001b[43m        \u001b[49m\u001b[43mgc_after_trial\u001b[49m\u001b[38;5;241;43m=\u001b[39;49m\u001b[43mgc_after_trial\u001b[49m\u001b[43m,\u001b[49m\n\u001b[0;32m    484\u001b[0m \u001b[43m        \u001b[49m\u001b[43mshow_progress_bar\u001b[49m\u001b[38;5;241;43m=\u001b[39;49m\u001b[43mshow_progress_bar\u001b[49m\u001b[43m,\u001b[49m\n\u001b[0;32m    485\u001b[0m \u001b[43m    \u001b[49m\u001b[43m)\u001b[49m\n",
      "File \u001b[1;32mc:\\develop\\Fishing_team\\venv\\lib\\site-packages\\optuna\\study\\_optimize.py:63\u001b[0m, in \u001b[0;36m_optimize\u001b[1;34m(study, func, n_trials, timeout, n_jobs, catch, callbacks, gc_after_trial, show_progress_bar)\u001b[0m\n\u001b[0;32m     61\u001b[0m \u001b[38;5;28;01mtry\u001b[39;00m:\n\u001b[0;32m     62\u001b[0m     \u001b[38;5;28;01mif\u001b[39;00m n_jobs \u001b[38;5;241m==\u001b[39m \u001b[38;5;241m1\u001b[39m:\n\u001b[1;32m---> 63\u001b[0m         \u001b[43m_optimize_sequential\u001b[49m\u001b[43m(\u001b[49m\n\u001b[0;32m     64\u001b[0m \u001b[43m            \u001b[49m\u001b[43mstudy\u001b[49m\u001b[43m,\u001b[49m\n\u001b[0;32m     65\u001b[0m \u001b[43m            \u001b[49m\u001b[43mfunc\u001b[49m\u001b[43m,\u001b[49m\n\u001b[0;32m     66\u001b[0m \u001b[43m            \u001b[49m\u001b[43mn_trials\u001b[49m\u001b[43m,\u001b[49m\n\u001b[0;32m     67\u001b[0m \u001b[43m            \u001b[49m\u001b[43mtimeout\u001b[49m\u001b[43m,\u001b[49m\n\u001b[0;32m     68\u001b[0m \u001b[43m            \u001b[49m\u001b[43mcatch\u001b[49m\u001b[43m,\u001b[49m\n\u001b[0;32m     69\u001b[0m \u001b[43m            \u001b[49m\u001b[43mcallbacks\u001b[49m\u001b[43m,\u001b[49m\n\u001b[0;32m     70\u001b[0m \u001b[43m            \u001b[49m\u001b[43mgc_after_trial\u001b[49m\u001b[43m,\u001b[49m\n\u001b[0;32m     71\u001b[0m \u001b[43m            \u001b[49m\u001b[43mreseed_sampler_rng\u001b[49m\u001b[38;5;241;43m=\u001b[39;49m\u001b[38;5;28;43;01mFalse\u001b[39;49;00m\u001b[43m,\u001b[49m\n\u001b[0;32m     72\u001b[0m \u001b[43m            \u001b[49m\u001b[43mtime_start\u001b[49m\u001b[38;5;241;43m=\u001b[39;49m\u001b[38;5;28;43;01mNone\u001b[39;49;00m\u001b[43m,\u001b[49m\n\u001b[0;32m     73\u001b[0m \u001b[43m            \u001b[49m\u001b[43mprogress_bar\u001b[49m\u001b[38;5;241;43m=\u001b[39;49m\u001b[43mprogress_bar\u001b[49m\u001b[43m,\u001b[49m\n\u001b[0;32m     74\u001b[0m \u001b[43m        \u001b[49m\u001b[43m)\u001b[49m\n\u001b[0;32m     75\u001b[0m     \u001b[38;5;28;01melse\u001b[39;00m:\n\u001b[0;32m     76\u001b[0m         \u001b[38;5;28;01mif\u001b[39;00m n_jobs \u001b[38;5;241m==\u001b[39m \u001b[38;5;241m-\u001b[39m\u001b[38;5;241m1\u001b[39m:\n",
      "File \u001b[1;32mc:\\develop\\Fishing_team\\venv\\lib\\site-packages\\optuna\\study\\_optimize.py:160\u001b[0m, in \u001b[0;36m_optimize_sequential\u001b[1;34m(study, func, n_trials, timeout, catch, callbacks, gc_after_trial, reseed_sampler_rng, time_start, progress_bar)\u001b[0m\n\u001b[0;32m    157\u001b[0m         \u001b[38;5;28;01mbreak\u001b[39;00m\n\u001b[0;32m    159\u001b[0m \u001b[38;5;28;01mtry\u001b[39;00m:\n\u001b[1;32m--> 160\u001b[0m     frozen_trial \u001b[38;5;241m=\u001b[39m \u001b[43m_run_trial\u001b[49m\u001b[43m(\u001b[49m\u001b[43mstudy\u001b[49m\u001b[43m,\u001b[49m\u001b[43m \u001b[49m\u001b[43mfunc\u001b[49m\u001b[43m,\u001b[49m\u001b[43m \u001b[49m\u001b[43mcatch\u001b[49m\u001b[43m)\u001b[49m\n\u001b[0;32m    161\u001b[0m \u001b[38;5;28;01mfinally\u001b[39;00m:\n\u001b[0;32m    162\u001b[0m     \u001b[38;5;66;03m# The following line mitigates memory problems that can be occurred in some\u001b[39;00m\n\u001b[0;32m    163\u001b[0m     \u001b[38;5;66;03m# environments (e.g., services that use computing containers such as GitHub Actions).\u001b[39;00m\n\u001b[0;32m    164\u001b[0m     \u001b[38;5;66;03m# Please refer to the following PR for further details:\u001b[39;00m\n\u001b[0;32m    165\u001b[0m     \u001b[38;5;66;03m# https://github.com/optuna/optuna/pull/325.\u001b[39;00m\n\u001b[0;32m    166\u001b[0m     \u001b[38;5;28;01mif\u001b[39;00m gc_after_trial:\n",
      "File \u001b[1;32mc:\\develop\\Fishing_team\\venv\\lib\\site-packages\\optuna\\study\\_optimize.py:248\u001b[0m, in \u001b[0;36m_run_trial\u001b[1;34m(study, func, catch)\u001b[0m\n\u001b[0;32m    241\u001b[0m         \u001b[38;5;28;01massert\u001b[39;00m \u001b[38;5;28;01mFalse\u001b[39;00m, \u001b[38;5;124m\"\u001b[39m\u001b[38;5;124mShould not reach.\u001b[39m\u001b[38;5;124m\"\u001b[39m\n\u001b[0;32m    243\u001b[0m \u001b[38;5;28;01mif\u001b[39;00m (\n\u001b[0;32m    244\u001b[0m     frozen_trial\u001b[38;5;241m.\u001b[39mstate \u001b[38;5;241m==\u001b[39m TrialState\u001b[38;5;241m.\u001b[39mFAIL\n\u001b[0;32m    245\u001b[0m     \u001b[38;5;129;01mand\u001b[39;00m func_err \u001b[38;5;129;01mis\u001b[39;00m \u001b[38;5;129;01mnot\u001b[39;00m \u001b[38;5;28;01mNone\u001b[39;00m\n\u001b[0;32m    246\u001b[0m     \u001b[38;5;129;01mand\u001b[39;00m \u001b[38;5;129;01mnot\u001b[39;00m \u001b[38;5;28misinstance\u001b[39m(func_err, catch)\n\u001b[0;32m    247\u001b[0m ):\n\u001b[1;32m--> 248\u001b[0m     \u001b[38;5;28;01mraise\u001b[39;00m func_err\n\u001b[0;32m    249\u001b[0m \u001b[38;5;28;01mreturn\u001b[39;00m frozen_trial\n",
      "File \u001b[1;32mc:\\develop\\Fishing_team\\venv\\lib\\site-packages\\optuna\\study\\_optimize.py:197\u001b[0m, in \u001b[0;36m_run_trial\u001b[1;34m(study, func, catch)\u001b[0m\n\u001b[0;32m    195\u001b[0m \u001b[38;5;28;01mwith\u001b[39;00m get_heartbeat_thread(trial\u001b[38;5;241m.\u001b[39m_trial_id, study\u001b[38;5;241m.\u001b[39m_storage):\n\u001b[0;32m    196\u001b[0m     \u001b[38;5;28;01mtry\u001b[39;00m:\n\u001b[1;32m--> 197\u001b[0m         value_or_values \u001b[38;5;241m=\u001b[39m \u001b[43mfunc\u001b[49m\u001b[43m(\u001b[49m\u001b[43mtrial\u001b[49m\u001b[43m)\u001b[49m\n\u001b[0;32m    198\u001b[0m     \u001b[38;5;28;01mexcept\u001b[39;00m exceptions\u001b[38;5;241m.\u001b[39mTrialPruned \u001b[38;5;28;01mas\u001b[39;00m e:\n\u001b[0;32m    199\u001b[0m         \u001b[38;5;66;03m# TODO(mamu): Handle multi-objective cases.\u001b[39;00m\n\u001b[0;32m    200\u001b[0m         state \u001b[38;5;241m=\u001b[39m TrialState\u001b[38;5;241m.\u001b[39mPRUNED\n",
      "Cell \u001b[1;32mIn[20], line 68\u001b[0m, in \u001b[0;36mobjective\u001b[1;34m(trial)\u001b[0m\n\u001b[0;32m     66\u001b[0m \u001b[38;5;66;03m# Обучаем модель\u001b[39;00m\n\u001b[0;32m     67\u001b[0m \u001b[38;5;28mprint\u001b[39m(\u001b[38;5;124mf\u001b[39m\u001b[38;5;124m\"\u001b[39m\u001b[38;5;124mTraining trial \u001b[39m\u001b[38;5;132;01m{\u001b[39;00mtrial\u001b[38;5;241m.\u001b[39mnumber\u001b[38;5;132;01m}\u001b[39;00m\u001b[38;5;124m\"\u001b[39m)\n\u001b[1;32m---> 68\u001b[0m history \u001b[38;5;241m=\u001b[39m \u001b[43mmodel\u001b[49m\u001b[38;5;241;43m.\u001b[39;49m\u001b[43mfit\u001b[49m\u001b[43m(\u001b[49m\u001b[43mX_train\u001b[49m\u001b[43m,\u001b[49m\u001b[43m \u001b[49m\u001b[43my_train\u001b[49m\u001b[43m,\u001b[49m\u001b[43m \u001b[49m\u001b[43mepochs\u001b[49m\u001b[38;5;241;43m=\u001b[39;49m\u001b[38;5;241;43m50\u001b[39;49m\u001b[43m,\u001b[49m\u001b[43m \u001b[49m\u001b[43mbatch_size\u001b[49m\u001b[38;5;241;43m=\u001b[39;49m\u001b[38;5;241;43m32\u001b[39;49m\u001b[43m,\u001b[49m\u001b[43m \u001b[49m\u001b[43mvalidation_data\u001b[49m\u001b[38;5;241;43m=\u001b[39;49m\u001b[43m(\u001b[49m\u001b[43mX_test\u001b[49m\u001b[43m,\u001b[49m\u001b[43m \u001b[49m\u001b[43my_test\u001b[49m\u001b[43m)\u001b[49m\u001b[43m,\u001b[49m\u001b[43m \u001b[49m\n\u001b[0;32m     69\u001b[0m \u001b[43m                    \u001b[49m\u001b[43mcallbacks\u001b[49m\u001b[38;5;241;43m=\u001b[39;49m\u001b[43m[\u001b[49m\u001b[43mearly_stopping\u001b[49m\u001b[43m]\u001b[49m\u001b[43m,\u001b[49m\u001b[43m \u001b[49m\u001b[43mverbose\u001b[49m\u001b[38;5;241;43m=\u001b[39;49m\u001b[38;5;241;43m0\u001b[39;49m\u001b[43m)\u001b[49m\n\u001b[0;32m     71\u001b[0m \u001b[38;5;66;03m# Оцениваем модель на тестовых данных\u001b[39;00m\n\u001b[0;32m     72\u001b[0m test_loss, test_mse \u001b[38;5;241m=\u001b[39m model\u001b[38;5;241m.\u001b[39mevaluate(X_test, y_test, verbose\u001b[38;5;241m=\u001b[39m\u001b[38;5;241m0\u001b[39m)\n",
      "File \u001b[1;32mc:\\develop\\Fishing_team\\venv\\lib\\site-packages\\keras\\src\\utils\\traceback_utils.py:117\u001b[0m, in \u001b[0;36mfilter_traceback.<locals>.error_handler\u001b[1;34m(*args, **kwargs)\u001b[0m\n\u001b[0;32m    115\u001b[0m filtered_tb \u001b[38;5;241m=\u001b[39m \u001b[38;5;28;01mNone\u001b[39;00m\n\u001b[0;32m    116\u001b[0m \u001b[38;5;28;01mtry\u001b[39;00m:\n\u001b[1;32m--> 117\u001b[0m     \u001b[38;5;28;01mreturn\u001b[39;00m fn(\u001b[38;5;241m*\u001b[39margs, \u001b[38;5;241m*\u001b[39m\u001b[38;5;241m*\u001b[39mkwargs)\n\u001b[0;32m    118\u001b[0m \u001b[38;5;28;01mexcept\u001b[39;00m \u001b[38;5;167;01mException\u001b[39;00m \u001b[38;5;28;01mas\u001b[39;00m e:\n\u001b[0;32m    119\u001b[0m     filtered_tb \u001b[38;5;241m=\u001b[39m _process_traceback_frames(e\u001b[38;5;241m.\u001b[39m__traceback__)\n",
      "File \u001b[1;32mc:\\develop\\Fishing_team\\venv\\lib\\site-packages\\keras\\src\\backend\\tensorflow\\trainer.py:368\u001b[0m, in \u001b[0;36mTensorFlowTrainer.fit\u001b[1;34m(self, x, y, batch_size, epochs, verbose, callbacks, validation_split, validation_data, shuffle, class_weight, sample_weight, initial_epoch, steps_per_epoch, validation_steps, validation_batch_size, validation_freq)\u001b[0m\n\u001b[0;32m    366\u001b[0m \u001b[38;5;28;01mfor\u001b[39;00m step, iterator \u001b[38;5;129;01min\u001b[39;00m epoch_iterator:\n\u001b[0;32m    367\u001b[0m     callbacks\u001b[38;5;241m.\u001b[39mon_train_batch_begin(step)\n\u001b[1;32m--> 368\u001b[0m     logs \u001b[38;5;241m=\u001b[39m \u001b[38;5;28;43mself\u001b[39;49m\u001b[38;5;241;43m.\u001b[39;49m\u001b[43mtrain_function\u001b[49m\u001b[43m(\u001b[49m\u001b[43miterator\u001b[49m\u001b[43m)\u001b[49m\n\u001b[0;32m    369\u001b[0m     callbacks\u001b[38;5;241m.\u001b[39mon_train_batch_end(step, logs)\n\u001b[0;32m    370\u001b[0m     \u001b[38;5;28;01mif\u001b[39;00m \u001b[38;5;28mself\u001b[39m\u001b[38;5;241m.\u001b[39mstop_training:\n",
      "File \u001b[1;32mc:\\develop\\Fishing_team\\venv\\lib\\site-packages\\keras\\src\\backend\\tensorflow\\trainer.py:216\u001b[0m, in \u001b[0;36mTensorFlowTrainer._make_function.<locals>.function\u001b[1;34m(iterator)\u001b[0m\n\u001b[0;32m    212\u001b[0m \u001b[38;5;28;01mdef\u001b[39;00m \u001b[38;5;21mfunction\u001b[39m(iterator):\n\u001b[0;32m    213\u001b[0m     \u001b[38;5;28;01mif\u001b[39;00m \u001b[38;5;28misinstance\u001b[39m(\n\u001b[0;32m    214\u001b[0m         iterator, (tf\u001b[38;5;241m.\u001b[39mdata\u001b[38;5;241m.\u001b[39mIterator, tf\u001b[38;5;241m.\u001b[39mdistribute\u001b[38;5;241m.\u001b[39mDistributedIterator)\n\u001b[0;32m    215\u001b[0m     ):\n\u001b[1;32m--> 216\u001b[0m         opt_outputs \u001b[38;5;241m=\u001b[39m \u001b[43mmulti_step_on_iterator\u001b[49m\u001b[43m(\u001b[49m\u001b[43miterator\u001b[49m\u001b[43m)\u001b[49m\n\u001b[0;32m    217\u001b[0m         \u001b[38;5;28;01mif\u001b[39;00m \u001b[38;5;129;01mnot\u001b[39;00m opt_outputs\u001b[38;5;241m.\u001b[39mhas_value():\n\u001b[0;32m    218\u001b[0m             \u001b[38;5;28;01mraise\u001b[39;00m \u001b[38;5;167;01mStopIteration\u001b[39;00m\n",
      "File \u001b[1;32mc:\\develop\\Fishing_team\\venv\\lib\\site-packages\\tensorflow\\python\\util\\traceback_utils.py:150\u001b[0m, in \u001b[0;36mfilter_traceback.<locals>.error_handler\u001b[1;34m(*args, **kwargs)\u001b[0m\n\u001b[0;32m    148\u001b[0m filtered_tb \u001b[38;5;241m=\u001b[39m \u001b[38;5;28;01mNone\u001b[39;00m\n\u001b[0;32m    149\u001b[0m \u001b[38;5;28;01mtry\u001b[39;00m:\n\u001b[1;32m--> 150\u001b[0m   \u001b[38;5;28;01mreturn\u001b[39;00m fn(\u001b[38;5;241m*\u001b[39margs, \u001b[38;5;241m*\u001b[39m\u001b[38;5;241m*\u001b[39mkwargs)\n\u001b[0;32m    151\u001b[0m \u001b[38;5;28;01mexcept\u001b[39;00m \u001b[38;5;167;01mException\u001b[39;00m \u001b[38;5;28;01mas\u001b[39;00m e:\n\u001b[0;32m    152\u001b[0m   filtered_tb \u001b[38;5;241m=\u001b[39m _process_traceback_frames(e\u001b[38;5;241m.\u001b[39m__traceback__)\n",
      "File \u001b[1;32mc:\\develop\\Fishing_team\\venv\\lib\\site-packages\\tensorflow\\python\\eager\\polymorphic_function\\polymorphic_function.py:833\u001b[0m, in \u001b[0;36mFunction.__call__\u001b[1;34m(self, *args, **kwds)\u001b[0m\n\u001b[0;32m    830\u001b[0m compiler \u001b[38;5;241m=\u001b[39m \u001b[38;5;124m\"\u001b[39m\u001b[38;5;124mxla\u001b[39m\u001b[38;5;124m\"\u001b[39m \u001b[38;5;28;01mif\u001b[39;00m \u001b[38;5;28mself\u001b[39m\u001b[38;5;241m.\u001b[39m_jit_compile \u001b[38;5;28;01melse\u001b[39;00m \u001b[38;5;124m\"\u001b[39m\u001b[38;5;124mnonXla\u001b[39m\u001b[38;5;124m\"\u001b[39m\n\u001b[0;32m    832\u001b[0m \u001b[38;5;28;01mwith\u001b[39;00m OptionalXlaContext(\u001b[38;5;28mself\u001b[39m\u001b[38;5;241m.\u001b[39m_jit_compile):\n\u001b[1;32m--> 833\u001b[0m   result \u001b[38;5;241m=\u001b[39m \u001b[38;5;28mself\u001b[39m\u001b[38;5;241m.\u001b[39m_call(\u001b[38;5;241m*\u001b[39margs, \u001b[38;5;241m*\u001b[39m\u001b[38;5;241m*\u001b[39mkwds)\n\u001b[0;32m    835\u001b[0m new_tracing_count \u001b[38;5;241m=\u001b[39m \u001b[38;5;28mself\u001b[39m\u001b[38;5;241m.\u001b[39mexperimental_get_tracing_count()\n\u001b[0;32m    836\u001b[0m without_tracing \u001b[38;5;241m=\u001b[39m (tracing_count \u001b[38;5;241m==\u001b[39m new_tracing_count)\n",
      "File \u001b[1;32mc:\\develop\\Fishing_team\\venv\\lib\\site-packages\\tensorflow\\python\\eager\\polymorphic_function\\polymorphic_function.py:878\u001b[0m, in \u001b[0;36mFunction._call\u001b[1;34m(self, *args, **kwds)\u001b[0m\n\u001b[0;32m    875\u001b[0m \u001b[38;5;28mself\u001b[39m\u001b[38;5;241m.\u001b[39m_lock\u001b[38;5;241m.\u001b[39mrelease()\n\u001b[0;32m    876\u001b[0m \u001b[38;5;66;03m# In this case we have not created variables on the first call. So we can\u001b[39;00m\n\u001b[0;32m    877\u001b[0m \u001b[38;5;66;03m# run the first trace but we should fail if variables are created.\u001b[39;00m\n\u001b[1;32m--> 878\u001b[0m results \u001b[38;5;241m=\u001b[39m \u001b[43mtracing_compilation\u001b[49m\u001b[38;5;241;43m.\u001b[39;49m\u001b[43mcall_function\u001b[49m\u001b[43m(\u001b[49m\n\u001b[0;32m    879\u001b[0m \u001b[43m    \u001b[49m\u001b[43margs\u001b[49m\u001b[43m,\u001b[49m\u001b[43m \u001b[49m\u001b[43mkwds\u001b[49m\u001b[43m,\u001b[49m\u001b[43m \u001b[49m\u001b[38;5;28;43mself\u001b[39;49m\u001b[38;5;241;43m.\u001b[39;49m\u001b[43m_variable_creation_config\u001b[49m\n\u001b[0;32m    880\u001b[0m \u001b[43m\u001b[49m\u001b[43m)\u001b[49m\n\u001b[0;32m    881\u001b[0m \u001b[38;5;28;01mif\u001b[39;00m \u001b[38;5;28mself\u001b[39m\u001b[38;5;241m.\u001b[39m_created_variables:\n\u001b[0;32m    882\u001b[0m   \u001b[38;5;28;01mraise\u001b[39;00m \u001b[38;5;167;01mValueError\u001b[39;00m(\u001b[38;5;124m\"\u001b[39m\u001b[38;5;124mCreating variables on a non-first call to a function\u001b[39m\u001b[38;5;124m\"\u001b[39m\n\u001b[0;32m    883\u001b[0m                    \u001b[38;5;124m\"\u001b[39m\u001b[38;5;124m decorated with tf.function.\u001b[39m\u001b[38;5;124m\"\u001b[39m)\n",
      "File \u001b[1;32mc:\\develop\\Fishing_team\\venv\\lib\\site-packages\\tensorflow\\python\\eager\\polymorphic_function\\tracing_compilation.py:139\u001b[0m, in \u001b[0;36mcall_function\u001b[1;34m(args, kwargs, tracing_options)\u001b[0m\n\u001b[0;32m    137\u001b[0m bound_args \u001b[38;5;241m=\u001b[39m function\u001b[38;5;241m.\u001b[39mfunction_type\u001b[38;5;241m.\u001b[39mbind(\u001b[38;5;241m*\u001b[39margs, \u001b[38;5;241m*\u001b[39m\u001b[38;5;241m*\u001b[39mkwargs)\n\u001b[0;32m    138\u001b[0m flat_inputs \u001b[38;5;241m=\u001b[39m function\u001b[38;5;241m.\u001b[39mfunction_type\u001b[38;5;241m.\u001b[39munpack_inputs(bound_args)\n\u001b[1;32m--> 139\u001b[0m \u001b[38;5;28;01mreturn\u001b[39;00m \u001b[43mfunction\u001b[49m\u001b[38;5;241;43m.\u001b[39;49m\u001b[43m_call_flat\u001b[49m\u001b[43m(\u001b[49m\u001b[43m  \u001b[49m\u001b[38;5;66;43;03m# pylint: disable=protected-access\u001b[39;49;00m\n\u001b[0;32m    140\u001b[0m \u001b[43m    \u001b[49m\u001b[43mflat_inputs\u001b[49m\u001b[43m,\u001b[49m\u001b[43m \u001b[49m\u001b[43mcaptured_inputs\u001b[49m\u001b[38;5;241;43m=\u001b[39;49m\u001b[43mfunction\u001b[49m\u001b[38;5;241;43m.\u001b[39;49m\u001b[43mcaptured_inputs\u001b[49m\n\u001b[0;32m    141\u001b[0m \u001b[43m\u001b[49m\u001b[43m)\u001b[49m\n",
      "File \u001b[1;32mc:\\develop\\Fishing_team\\venv\\lib\\site-packages\\tensorflow\\python\\eager\\polymorphic_function\\concrete_function.py:1322\u001b[0m, in \u001b[0;36mConcreteFunction._call_flat\u001b[1;34m(self, tensor_inputs, captured_inputs)\u001b[0m\n\u001b[0;32m   1318\u001b[0m possible_gradient_type \u001b[38;5;241m=\u001b[39m gradients_util\u001b[38;5;241m.\u001b[39mPossibleTapeGradientTypes(args)\n\u001b[0;32m   1319\u001b[0m \u001b[38;5;28;01mif\u001b[39;00m (possible_gradient_type \u001b[38;5;241m==\u001b[39m gradients_util\u001b[38;5;241m.\u001b[39mPOSSIBLE_GRADIENT_TYPES_NONE\n\u001b[0;32m   1320\u001b[0m     \u001b[38;5;129;01mand\u001b[39;00m executing_eagerly):\n\u001b[0;32m   1321\u001b[0m   \u001b[38;5;66;03m# No tape is watching; skip to running the function.\u001b[39;00m\n\u001b[1;32m-> 1322\u001b[0m   \u001b[38;5;28;01mreturn\u001b[39;00m \u001b[38;5;28;43mself\u001b[39;49m\u001b[38;5;241;43m.\u001b[39;49m\u001b[43m_inference_function\u001b[49m\u001b[38;5;241;43m.\u001b[39;49m\u001b[43mcall_preflattened\u001b[49m\u001b[43m(\u001b[49m\u001b[43margs\u001b[49m\u001b[43m)\u001b[49m\n\u001b[0;32m   1323\u001b[0m forward_backward \u001b[38;5;241m=\u001b[39m \u001b[38;5;28mself\u001b[39m\u001b[38;5;241m.\u001b[39m_select_forward_and_backward_functions(\n\u001b[0;32m   1324\u001b[0m     args,\n\u001b[0;32m   1325\u001b[0m     possible_gradient_type,\n\u001b[0;32m   1326\u001b[0m     executing_eagerly)\n\u001b[0;32m   1327\u001b[0m forward_function, args_with_tangents \u001b[38;5;241m=\u001b[39m forward_backward\u001b[38;5;241m.\u001b[39mforward()\n",
      "File \u001b[1;32mc:\\develop\\Fishing_team\\venv\\lib\\site-packages\\tensorflow\\python\\eager\\polymorphic_function\\atomic_function.py:216\u001b[0m, in \u001b[0;36mAtomicFunction.call_preflattened\u001b[1;34m(self, args)\u001b[0m\n\u001b[0;32m    214\u001b[0m \u001b[38;5;28;01mdef\u001b[39;00m \u001b[38;5;21mcall_preflattened\u001b[39m(\u001b[38;5;28mself\u001b[39m, args: Sequence[core\u001b[38;5;241m.\u001b[39mTensor]) \u001b[38;5;241m-\u001b[39m\u001b[38;5;241m>\u001b[39m Any:\n\u001b[0;32m    215\u001b[0m \u001b[38;5;250m  \u001b[39m\u001b[38;5;124;03m\"\"\"Calls with flattened tensor inputs and returns the structured output.\"\"\"\u001b[39;00m\n\u001b[1;32m--> 216\u001b[0m   flat_outputs \u001b[38;5;241m=\u001b[39m \u001b[38;5;28;43mself\u001b[39;49m\u001b[38;5;241;43m.\u001b[39;49m\u001b[43mcall_flat\u001b[49m\u001b[43m(\u001b[49m\u001b[38;5;241;43m*\u001b[39;49m\u001b[43margs\u001b[49m\u001b[43m)\u001b[49m\n\u001b[0;32m    217\u001b[0m   \u001b[38;5;28;01mreturn\u001b[39;00m \u001b[38;5;28mself\u001b[39m\u001b[38;5;241m.\u001b[39mfunction_type\u001b[38;5;241m.\u001b[39mpack_output(flat_outputs)\n",
      "File \u001b[1;32mc:\\develop\\Fishing_team\\venv\\lib\\site-packages\\tensorflow\\python\\eager\\polymorphic_function\\atomic_function.py:251\u001b[0m, in \u001b[0;36mAtomicFunction.call_flat\u001b[1;34m(self, *args)\u001b[0m\n\u001b[0;32m    249\u001b[0m \u001b[38;5;28;01mwith\u001b[39;00m record\u001b[38;5;241m.\u001b[39mstop_recording():\n\u001b[0;32m    250\u001b[0m   \u001b[38;5;28;01mif\u001b[39;00m \u001b[38;5;28mself\u001b[39m\u001b[38;5;241m.\u001b[39m_bound_context\u001b[38;5;241m.\u001b[39mexecuting_eagerly():\n\u001b[1;32m--> 251\u001b[0m     outputs \u001b[38;5;241m=\u001b[39m \u001b[38;5;28;43mself\u001b[39;49m\u001b[38;5;241;43m.\u001b[39;49m\u001b[43m_bound_context\u001b[49m\u001b[38;5;241;43m.\u001b[39;49m\u001b[43mcall_function\u001b[49m\u001b[43m(\u001b[49m\n\u001b[0;32m    252\u001b[0m \u001b[43m        \u001b[49m\u001b[38;5;28;43mself\u001b[39;49m\u001b[38;5;241;43m.\u001b[39;49m\u001b[43mname\u001b[49m\u001b[43m,\u001b[49m\n\u001b[0;32m    253\u001b[0m \u001b[43m        \u001b[49m\u001b[38;5;28;43mlist\u001b[39;49m\u001b[43m(\u001b[49m\u001b[43margs\u001b[49m\u001b[43m)\u001b[49m\u001b[43m,\u001b[49m\n\u001b[0;32m    254\u001b[0m \u001b[43m        \u001b[49m\u001b[38;5;28;43mlen\u001b[39;49m\u001b[43m(\u001b[49m\u001b[38;5;28;43mself\u001b[39;49m\u001b[38;5;241;43m.\u001b[39;49m\u001b[43mfunction_type\u001b[49m\u001b[38;5;241;43m.\u001b[39;49m\u001b[43mflat_outputs\u001b[49m\u001b[43m)\u001b[49m\u001b[43m,\u001b[49m\n\u001b[0;32m    255\u001b[0m \u001b[43m    \u001b[49m\u001b[43m)\u001b[49m\n\u001b[0;32m    256\u001b[0m   \u001b[38;5;28;01melse\u001b[39;00m:\n\u001b[0;32m    257\u001b[0m     outputs \u001b[38;5;241m=\u001b[39m make_call_op_in_graph(\n\u001b[0;32m    258\u001b[0m         \u001b[38;5;28mself\u001b[39m,\n\u001b[0;32m    259\u001b[0m         \u001b[38;5;28mlist\u001b[39m(args),\n\u001b[0;32m    260\u001b[0m         \u001b[38;5;28mself\u001b[39m\u001b[38;5;241m.\u001b[39m_bound_context\u001b[38;5;241m.\u001b[39mfunction_call_options\u001b[38;5;241m.\u001b[39mas_attrs(),\n\u001b[0;32m    261\u001b[0m     )\n",
      "File \u001b[1;32mc:\\develop\\Fishing_team\\venv\\lib\\site-packages\\tensorflow\\python\\eager\\context.py:1683\u001b[0m, in \u001b[0;36mContext.call_function\u001b[1;34m(self, name, tensor_inputs, num_outputs)\u001b[0m\n\u001b[0;32m   1681\u001b[0m cancellation_context \u001b[38;5;241m=\u001b[39m cancellation\u001b[38;5;241m.\u001b[39mcontext()\n\u001b[0;32m   1682\u001b[0m \u001b[38;5;28;01mif\u001b[39;00m cancellation_context \u001b[38;5;129;01mis\u001b[39;00m \u001b[38;5;28;01mNone\u001b[39;00m:\n\u001b[1;32m-> 1683\u001b[0m   outputs \u001b[38;5;241m=\u001b[39m \u001b[43mexecute\u001b[49m\u001b[38;5;241;43m.\u001b[39;49m\u001b[43mexecute\u001b[49m\u001b[43m(\u001b[49m\n\u001b[0;32m   1684\u001b[0m \u001b[43m      \u001b[49m\u001b[43mname\u001b[49m\u001b[38;5;241;43m.\u001b[39;49m\u001b[43mdecode\u001b[49m\u001b[43m(\u001b[49m\u001b[38;5;124;43m\"\u001b[39;49m\u001b[38;5;124;43mutf-8\u001b[39;49m\u001b[38;5;124;43m\"\u001b[39;49m\u001b[43m)\u001b[49m\u001b[43m,\u001b[49m\n\u001b[0;32m   1685\u001b[0m \u001b[43m      \u001b[49m\u001b[43mnum_outputs\u001b[49m\u001b[38;5;241;43m=\u001b[39;49m\u001b[43mnum_outputs\u001b[49m\u001b[43m,\u001b[49m\n\u001b[0;32m   1686\u001b[0m \u001b[43m      \u001b[49m\u001b[43minputs\u001b[49m\u001b[38;5;241;43m=\u001b[39;49m\u001b[43mtensor_inputs\u001b[49m\u001b[43m,\u001b[49m\n\u001b[0;32m   1687\u001b[0m \u001b[43m      \u001b[49m\u001b[43mattrs\u001b[49m\u001b[38;5;241;43m=\u001b[39;49m\u001b[43mattrs\u001b[49m\u001b[43m,\u001b[49m\n\u001b[0;32m   1688\u001b[0m \u001b[43m      \u001b[49m\u001b[43mctx\u001b[49m\u001b[38;5;241;43m=\u001b[39;49m\u001b[38;5;28;43mself\u001b[39;49m\u001b[43m,\u001b[49m\n\u001b[0;32m   1689\u001b[0m \u001b[43m  \u001b[49m\u001b[43m)\u001b[49m\n\u001b[0;32m   1690\u001b[0m \u001b[38;5;28;01melse\u001b[39;00m:\n\u001b[0;32m   1691\u001b[0m   outputs \u001b[38;5;241m=\u001b[39m execute\u001b[38;5;241m.\u001b[39mexecute_with_cancellation(\n\u001b[0;32m   1692\u001b[0m       name\u001b[38;5;241m.\u001b[39mdecode(\u001b[38;5;124m\"\u001b[39m\u001b[38;5;124mutf-8\u001b[39m\u001b[38;5;124m\"\u001b[39m),\n\u001b[0;32m   1693\u001b[0m       num_outputs\u001b[38;5;241m=\u001b[39mnum_outputs,\n\u001b[1;32m   (...)\u001b[0m\n\u001b[0;32m   1697\u001b[0m       cancellation_manager\u001b[38;5;241m=\u001b[39mcancellation_context,\n\u001b[0;32m   1698\u001b[0m   )\n",
      "File \u001b[1;32mc:\\develop\\Fishing_team\\venv\\lib\\site-packages\\tensorflow\\python\\eager\\execute.py:53\u001b[0m, in \u001b[0;36mquick_execute\u001b[1;34m(op_name, num_outputs, inputs, attrs, ctx, name)\u001b[0m\n\u001b[0;32m     51\u001b[0m \u001b[38;5;28;01mtry\u001b[39;00m:\n\u001b[0;32m     52\u001b[0m   ctx\u001b[38;5;241m.\u001b[39mensure_initialized()\n\u001b[1;32m---> 53\u001b[0m   tensors \u001b[38;5;241m=\u001b[39m \u001b[43mpywrap_tfe\u001b[49m\u001b[38;5;241;43m.\u001b[39;49m\u001b[43mTFE_Py_Execute\u001b[49m\u001b[43m(\u001b[49m\u001b[43mctx\u001b[49m\u001b[38;5;241;43m.\u001b[39;49m\u001b[43m_handle\u001b[49m\u001b[43m,\u001b[49m\u001b[43m \u001b[49m\u001b[43mdevice_name\u001b[49m\u001b[43m,\u001b[49m\u001b[43m \u001b[49m\u001b[43mop_name\u001b[49m\u001b[43m,\u001b[49m\n\u001b[0;32m     54\u001b[0m \u001b[43m                                      \u001b[49m\u001b[43minputs\u001b[49m\u001b[43m,\u001b[49m\u001b[43m \u001b[49m\u001b[43mattrs\u001b[49m\u001b[43m,\u001b[49m\u001b[43m \u001b[49m\u001b[43mnum_outputs\u001b[49m\u001b[43m)\u001b[49m\n\u001b[0;32m     55\u001b[0m \u001b[38;5;28;01mexcept\u001b[39;00m core\u001b[38;5;241m.\u001b[39m_NotOkStatusException \u001b[38;5;28;01mas\u001b[39;00m e:\n\u001b[0;32m     56\u001b[0m   \u001b[38;5;28;01mif\u001b[39;00m name \u001b[38;5;129;01mis\u001b[39;00m \u001b[38;5;129;01mnot\u001b[39;00m \u001b[38;5;28;01mNone\u001b[39;00m:\n",
      "\u001b[1;31mKeyboardInterrupt\u001b[0m: "
     ]
    }
   ],
   "source": [
    "import optuna\n",
    "from tensorflow.keras import regularizers\n",
    "from tensorflow.keras.models import Sequential\n",
    "from tensorflow.keras.layers import LSTM, Dense, Dropout, BatchNormalization\n",
    "import tensorflow as tf\n",
    "\n",
    "# Функция для проверки устройства, которое используется\n",
    "def get_device_info():\n",
    "    physical_devices = tf.config.list_physical_devices()\n",
    "    for device in physical_devices:\n",
    "        print(f\"Device: {device}, Type: {device.device_type}\")\n",
    "    # Если доступен GPU, его информация будет выведена\n",
    "    if tf.config.list_physical_devices('GPU'):\n",
    "        print(\"GPU is available and will be used for training.\")\n",
    "    else:\n",
    "        print(\"GPU is not available. CPU will be used for training.\")\n",
    "\n",
    "# Выводим информацию о доступных устройствах (GPU или CPU)\n",
    "get_device_info()\n",
    "\n",
    "# Настроим Optuna для логирования\n",
    "optuna.logging.set_verbosity(optuna.logging.INFO)\n",
    "\n",
    "def create_model(trial):\n",
    "    # Примерный процесс создания модели с использованием trial (кандидатных гиперпараметров)\n",
    "    model = Sequential()\n",
    "\n",
    "    # Выбор количества нейронов в первом LSTM слое\n",
    "    lstm_units_1 = trial.suggest_int('lstm_units_1', 32, 128, step=32)\n",
    "    print(f\"Trying lstm_units_1 = {lstm_units_1}\")\n",
    "    model.add(LSTM(lstm_units_1, activation='relu', input_shape=(X_train.shape[1], X_train.shape[2]), return_sequences=True,\n",
    "                   kernel_regularizer=regularizers.l2(0.01)))\n",
    "    model.add(BatchNormalization())\n",
    "    dropout_1 = trial.suggest_float('dropout', 0.2, 0.5)\n",
    "    print(f\"Trying dropout = {dropout_1}\")\n",
    "    model.add(Dropout(dropout_1))\n",
    "\n",
    "    # Выбор количества нейронов во втором LSTM слое\n",
    "    lstm_units_2 = trial.suggest_int('lstm_units_2', 32, 128, step=32)\n",
    "    print(f\"Trying lstm_units_2 = {lstm_units_2}\")\n",
    "    model.add(LSTM(lstm_units_2, activation='relu', return_sequences=False, kernel_regularizer=regularizers.l2(0.01)))\n",
    "    model.add(BatchNormalization())\n",
    "    dropout_2 = trial.suggest_float('dropout', 0.2, 0.5)\n",
    "    print(f\"Trying dropout = {dropout_2}\")\n",
    "    model.add(Dropout(dropout_2))\n",
    "\n",
    "    # Добавляем Dense слой\n",
    "    dense_dropout = trial.suggest_float('dropout_dense', 0.2, 0.5)\n",
    "    print(f\"Trying dense dropout = {dense_dropout}\")\n",
    "    model.add(Dense(32, activation='relu'))\n",
    "    model.add(Dropout(dense_dropout))\n",
    "\n",
    "    # Выходной слой\n",
    "    model.add(Dense(1))\n",
    "\n",
    "    model.compile(optimizer='adam', loss='mse', metrics=['mse'])\n",
    "    return model\n",
    "\n",
    "def objective(trial):\n",
    "    # Создаем модель с гиперпараметрами, выбранными с помощью Optuna\n",
    "    model = create_model(trial)\n",
    "    \n",
    "    # Используем EarlyStopping, чтобы избежать переобучения\n",
    "    early_stopping = tf.keras.callbacks.EarlyStopping(monitor='val_loss', patience=5, restore_best_weights=True)\n",
    "    \n",
    "    # Обучаем модель\n",
    "    print(f\"Training trial {trial.number}\")\n",
    "    history = model.fit(X_train, y_train, epochs=50, batch_size=32, validation_data=(X_test, y_test), \n",
    "                        callbacks=[early_stopping], verbose=0)\n",
    "    \n",
    "    # Оцениваем модель на тестовых данных\n",
    "    test_loss, test_mse = model.evaluate(X_test, y_test, verbose=0)\n",
    "    print(f\"Trial {trial.number} - test_loss: {test_loss}, test_mse: {test_mse}\")\n",
    "    \n",
    "    # Возвращаем потери, которые будут минимизировать Optuna\n",
    "    return test_loss\n",
    "\n",
    "# Создаем объект study для поиска гиперпараметров\n",
    "study = optuna.create_study(direction='minimize')\n",
    "\n",
    "# Запускаем поиск\n",
    "study.optimize(objective, n_trials=50)  # пробуем 50 разных комбинаций гиперпараметров\n",
    "\n",
    "# Выводим лучшие гиперпараметры\n",
    "print(f\"Best hyperparameters: {study.best_params}\")\n",
    "\n",
    "# Выводим детали о лучшем trial\n",
    "best_trial = study.best_trial\n",
    "print(f\"Best trial: {best_trial.number}\")\n",
    "print(f\"Best trial value: {best_trial.value}\")\n",
    "print(f\"Best trial parameters: {best_trial.params}\")\n"
   ]
  },
  {
   "cell_type": "code",
   "execution_count": null,
   "metadata": {},
   "outputs": [],
   "source": [
    "model.compile(optimizer='adam', loss='mse', metrics=['mse'])"
   ]
  },
  {
   "cell_type": "code",
   "execution_count": null,
   "metadata": {},
   "outputs": [],
   "source": [
    "early_stopping = EarlyStopping(monitor='val_loss', patience=5, restore_best_weights=True)"
   ]
  },
  {
   "cell_type": "code",
   "execution_count": null,
   "metadata": {},
   "outputs": [],
   "source": [
    "history = model.fit(X_train, y_train, epochs=50, batch_size=32, validation_data=(X_test, y_test), callbacks=[early_stopping])"
   ]
  },
  {
   "cell_type": "code",
   "execution_count": null,
   "metadata": {},
   "outputs": [],
   "source": [
    "test_loss, test_mse = model.evaluate(X_test, y_test)\n",
    "print(f'Loss on test set: {test_loss}, MSE: {test_mse}')"
   ]
  },
  {
   "cell_type": "code",
   "execution_count": null,
   "metadata": {},
   "outputs": [],
   "source": [
    "plt.plot(history.history['loss'], label='train_loss')\n",
    "plt.plot(history.history['val_loss'], label='val_loss')\n",
    "plt.legend()\n",
    "plt.title('Training and Validation Loss')\n",
    "plt.show()"
   ]
  },
  {
   "cell_type": "code",
   "execution_count": null,
   "metadata": {},
   "outputs": [],
   "source": [
    "plt.plot(history.history['mse'], label='train_mse')\n",
    "plt.plot(history.history['val_mse'], label='val_mse')\n",
    "plt.legend()\n",
    "plt.title('Training and Validation MSE')\n",
    "plt.show()"
   ]
  }
 ],
 "metadata": {
  "kernelspec": {
   "display_name": "venv",
   "language": "python",
   "name": "python3"
  },
  "language_info": {
   "codemirror_mode": {
    "name": "ipython",
    "version": 3
   },
   "file_extension": ".py",
   "mimetype": "text/x-python",
   "name": "python",
   "nbconvert_exporter": "python",
   "pygments_lexer": "ipython3",
   "version": "3.10.11"
  }
 },
 "nbformat": 4,
 "nbformat_minor": 2
}
