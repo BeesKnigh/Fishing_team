{
 "cells": [
  {
   "cell_type": "markdown",
   "metadata": {},
   "source": [
    "# Основное решение"
   ]
  },
  {
   "cell_type": "code",
   "execution_count": 1,
   "metadata": {},
   "outputs": [],
   "source": [
    "import pandas as pd\n",
    "from sklearn.neighbors import LocalOutlierFactor"
   ]
  },
  {
   "cell_type": "code",
   "execution_count": 2,
   "metadata": {},
   "outputs": [],
   "source": [
    "# Загрузка данных\n",
    "df = pd.read_csv('C:/develop/Fishing_team/data/dataset.csv')"
   ]
  },
  {
   "cell_type": "code",
   "execution_count": 3,
   "metadata": {},
   "outputs": [],
   "source": [
    "# Преобразование столбца datetime в datetime формат\n",
    "df['datetime'] = pd.to_datetime(df['datetime'])"
   ]
  },
  {
   "cell_type": "code",
   "execution_count": 4,
   "metadata": {},
   "outputs": [],
   "source": [
    "# Создание фичей\n",
    "df['last_transaction_time'] = df.groupby('client_id')['datetime'].transform('max')\n",
    "df['time_since_last_transaction'] = (df['last_transaction_time'] - df['datetime']).dt.total_seconds()\n",
    "pin_attempts = df.groupby('client_id')['pin_inc_count'].sum().reset_index()\n",
    "pin_attempts = pin_attempts.rename(columns={'pin_inc_count': 'total_pin_incorrect_attempts'})\n",
    "df = df.merge(pin_attempts, on='client_id', how='left')\n",
    "unique_ips = df.groupby('client_id')['ip'].nunique().reset_index()\n",
    "unique_ips = unique_ips.rename(columns={'ip': 'unique_ip_count'})\n",
    "df = df.merge(unique_ips, on='client_id', how='left')"
   ]
  },
  {
   "cell_type": "code",
   "execution_count": 5,
   "metadata": {},
   "outputs": [],
   "source": [
    "# Выбираем только числовые фичи для обучения\n",
    "features = ['time_since_last_transaction', 'total_pin_incorrect_attempts', 'unique_ip_count']\n",
    "X = df[features]"
   ]
  },
  {
   "cell_type": "code",
   "execution_count": 6,
   "metadata": {},
   "outputs": [],
   "source": [
    "# Применение Local Outlier Factor (LOF) для обнаружения аномалий\n",
    "lof = LocalOutlierFactor(n_neighbors=25, contamination=0.005)\n",
    "df['lof_anomaly'] = lof.fit_predict(X)"
   ]
  },
  {
   "cell_type": "code",
   "execution_count": 7,
   "metadata": {},
   "outputs": [],
   "source": [
    "# Преобразуем метки из -1 (аномалия) и 1 (норма) в True (аномалия) и False (норма)\n",
    "df['lof_anomaly'] = df['lof_anomaly'].map({-1: True, 1: False})"
   ]
  },
  {
   "cell_type": "code",
   "execution_count": 8,
   "metadata": {},
   "outputs": [
    {
     "name": "stdout",
     "output_type": "stream",
     "text": [
      "Результат сохранен в 'preds.csv'\n"
     ]
    }
   ],
   "source": [
    "# Сохраняем результат в файл без заголовков\n",
    "df[[ 'lof_anomaly']].to_csv('C:/develop/Fishing_team/data/preds.csv', index=False, header=False)\n",
    "print(\"Результат сохранен в 'preds.csv'\")"
   ]
  }
 ],
 "metadata": {
  "kernelspec": {
   "display_name": "venv",
   "language": "python",
   "name": "python3"
  },
  "language_info": {
   "codemirror_mode": {
    "name": "ipython",
    "version": 3
   },
   "file_extension": ".py",
   "mimetype": "text/x-python",
   "name": "python",
   "nbconvert_exporter": "python",
   "pygments_lexer": "ipython3",
   "version": "3.10.11"
  }
 },
 "nbformat": 4,
 "nbformat_minor": 2
}
